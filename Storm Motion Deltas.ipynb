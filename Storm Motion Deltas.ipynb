{
 "cells": [
  {
   "cell_type": "code",
   "execution_count": 1,
   "metadata": {},
   "outputs": [
    {
     "name": "stdout",
     "output_type": "stream",
     "text": [
      "\n",
      "## You are using the Python ARM Radar Toolkit (Py-ART), an open source\n",
      "## library for working with weather radar data. Py-ART is partly\n",
      "## supported by the U.S. Department of Energy as part of the Atmospheric\n",
      "## Radiation Measurement (ARM) Climate Research Facility, an Office of\n",
      "## Science user facility.\n",
      "##\n",
      "## If you use this software to prepare a publication, please cite:\n",
      "##\n",
      "##     JJ Helmus and SM Collis, JORS 2016, doi: 10.5334/jors.119\n",
      "\n"
     ]
    },
    {
     "name": "stderr",
     "output_type": "stream",
     "text": [
      "C:\\Users\\matts\\AppData\\Local\\Continuum\\anaconda3\\envs\\radar\\lib\\site-packages\\pyart\\graph\\cm.py:104: FutureWarning: elementwise comparison failed; returning scalar instead, but in the future will perform elementwise comparison\n",
      "  if 'red' in spec:\n",
      "C:\\Users\\matts\\AppData\\Local\\Continuum\\anaconda3\\envs\\radar\\lib\\site-packages\\pyart\\graph\\cm_colorblind.py:32: FutureWarning: elementwise comparison failed; returning scalar instead, but in the future will perform elementwise comparison\n",
      "  if 'red' in spec:\n"
     ]
    }
   ],
   "source": [
    "from stormdelta_framework_streamlined import storm_motion_deltas_algorithm\n",
    "\n",
    "import numpy as np\n",
    "import pandas as pd\n",
    "from datetime import datetime, timedelta\n",
    "#from partone import multi_case_algorithm_ML1\n",
    "#from RidiculousUnaltered import multi_case_algorithm_ML1"
   ]
  },
  {
   "cell_type": "code",
   "execution_count": 2,
   "metadata": {},
   "outputs": [],
   "source": [
    "#Lower and upper relectivity thresholds used for the tracking algorithm\n",
    "REFlevs = np.asarray([45])\n",
    "REFlev1s = np.asarray([50])\n",
    "#Size above which a storm is inspected for embedded areas of higher reflectivity above REFlevs1\n",
    "big_storms = np.asarray([300])\n",
    "#These two parameters are obsolete and set to dummy values here\n",
    "zero_z_triggers = np.asarray([25])\n",
    "storm_to_tracks = np.asarray([2])\n",
    "#Setting the start time for the case\n",
    "years = np.asarray([2017])\n",
    "months = np.asarray([10])\n",
    "days = np.asarray([6])\n",
    "hours = np.asarray([20])\n",
    "start_mins = np.asarray([30])\n",
    "#Case duration from the start time\n",
    "durations = np.asarray([0.2])#2.0 for full case\n",
    "#Radar station\n",
    "stations = [\"KDDC\"]\n",
    "#Information for ZDR calibration--not needed in this script, but kept since it's difficult to remove from the algorithm\n",
    "h_calstm = np.asarray([3695])\n",
    "calibrations = np.asarray([0.0])\n",
    "#Predicted storm speed, in m/s\n",
    "predicted_speed = np.asarray([16.2])\n",
    "#Predicted storm direction, in degrees\n",
    "predicted_direction = np.asarray([253.3])\n"
   ]
  },
  {
   "cell_type": "code",
   "execution_count": null,
   "metadata": {},
   "outputs": [
    {
     "name": "stdout",
     "output_type": "stream",
     "text": [
      "2020-03-05 18:50:06.934179\n",
      "Downloaded KDDC20171006_203653_V06\n",
      "Downloaded KDDC20171006_203019_V06\n",
      "2 out of 2 files downloaded...0 errors\n",
      "File Reading\n",
      "in loop\n",
      "23\n",
      "Pre-grid Organization Section\n",
      "KDP Section\n"
     ]
    }
   ],
   "source": [
    "#Loop to run the algorithm\n",
    "print(datetime.utcnow())\n",
    "#for i in range(len(durations)):\n",
    "for i in [0]:\n",
    "    #print(multi_case_algorithm_ML1(150,3.25,1.5,45,50,300,25,2,2013,8,10,18,0,1.0,-0.03755074,'KAKQ',4623))\n",
    "    tracks_dataframe = storm_motion_deltas_algorithm(REFlevs[i],REFlev1s[i],big_storms[i],70,storm_to_tracks[i],years[i],months[i],days[i],hours[i],start_mins[i],durations[i],calibrations[i],stations[i], predicted_speed[i], predicted_direction[i], track_dis=10, GR_mins = 1.0)\n",
    "    #tracks_dataframe, zdroutlines, col_areas, col_lon, col_storm_lon = multi_case_algorithm_ML1_devLOCAL(storm_relative_dirs[i],3.25,1.5,REFlevs[i],REFlev1s[i],big_storms[i],70,storm_to_tracks[i],years[i],months[i],days[i],hours[i],start_mins[i],durations[i],calibrations[i],stations[i],h_calstm[i], localfolder[i], track_dis=10)\n",
    "    #Saving the output to a .pkl file\n",
    "    tracks_dataframe.to_pickle('ARCDEV'+str(years[i])+str(months[i])+str(days[i])+str(stations[i])+'.pkl')\n",
    "print(datetime.utcnow())"
   ]
  },
  {
   "cell_type": "code",
   "execution_count": null,
   "metadata": {},
   "outputs": [],
   "source": []
  }
 ],
 "metadata": {
  "kernelspec": {
   "display_name": "Python 3",
   "language": "python",
   "name": "python3"
  },
  "language_info": {
   "codemirror_mode": {
    "name": "ipython",
    "version": 3
   },
   "file_extension": ".py",
   "mimetype": "text/x-python",
   "name": "python",
   "nbconvert_exporter": "python",
   "pygments_lexer": "ipython3",
   "version": "3.7.6"
  }
 },
 "nbformat": 4,
 "nbformat_minor": 2
}
