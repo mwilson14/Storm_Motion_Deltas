{
 "cells": [
  {
   "cell_type": "code",
   "execution_count": 1,
   "metadata": {},
   "outputs": [
    {
     "name": "stdout",
     "output_type": "stream",
     "text": [
      "\n",
      "## You are using the Python ARM Radar Toolkit (Py-ART), an open source\n",
      "## library for working with weather radar data. Py-ART is partly\n",
      "## supported by the U.S. Department of Energy as part of the Atmospheric\n",
      "## Radiation Measurement (ARM) Climate Research Facility, an Office of\n",
      "## Science user facility.\n",
      "##\n",
      "## If you use this software to prepare a publication, please cite:\n",
      "##\n",
      "##     JJ Helmus and SM Collis, JORS 2016, doi: 10.5334/jors.119\n",
      "\n"
     ]
    },
    {
     "name": "stderr",
     "output_type": "stream",
     "text": [
      "C:\\Users\\matts\\AppData\\Local\\Continuum\\anaconda3\\envs\\radar\\lib\\site-packages\\pyart\\graph\\cm.py:104: FutureWarning: elementwise comparison failed; returning scalar instead, but in the future will perform elementwise comparison\n",
      "  if 'red' in spec:\n",
      "C:\\Users\\matts\\AppData\\Local\\Continuum\\anaconda3\\envs\\radar\\lib\\site-packages\\pyart\\graph\\cm_colorblind.py:32: FutureWarning: elementwise comparison failed; returning scalar instead, but in the future will perform elementwise comparison\n",
      "  if 'red' in spec:\n"
     ]
    }
   ],
   "source": [
    "from stormdelta_framework_streamlined import storm_motion_deltas_algorithm\n",
    "\n",
    "import numpy as np\n",
    "import pandas as pd\n",
    "from datetime import datetime, timedelta\n",
    "#from partone import multi_case_algorithm_ML1\n",
    "#from RidiculousUnaltered import multi_case_algorithm_ML1"
   ]
  },
  {
   "cell_type": "code",
   "execution_count": 2,
   "metadata": {},
   "outputs": [],
   "source": [
    "#Lower and upper relectivity thresholds used for the tracking algorithm\n",
    "REFlevs = np.asarray([45, 40])\n",
    "REFlev1s = np.asarray([50, 45])\n",
    "#Size above which a storm is inspected for embedded areas of higher reflectivity above REFlevs1\n",
    "big_storms = np.asarray([300, 300])\n",
    "#These two parameters are obsolete and set to dummy values here\n",
    "zero_z_triggers = np.asarray([25, 35])\n",
    "storm_to_tracks = np.asarray([2, 2])\n",
    "#Setting the start time for the case\n",
    "years = np.asarray([2017, 2016])\n",
    "months = np.asarray([10, 5])\n",
    "days = np.asarray([6, 25])\n",
    "hours = np.asarray([20, 23])\n",
    "start_mins = np.asarray([30, 0])\n",
    "#Case duration from the start time\n",
    "durations = np.asarray([1.0, 2.0])#2.0 for full case\n",
    "#Radar station\n",
    "stations = [\"KDDC\", \"KTWX\"]\n",
    "#Information for ZDR calibration--not needed in this script, but kept since it's difficult to remove from the algorithm\n",
    "h_calstm = np.asarray([3695, 3695])\n",
    "calibrations = np.asarray([0.0, 0.0])\n",
    "#Predicted storm speed, in m/s\n",
    "predicted_speed = np.asarray([16.2, 10.3])\n",
    "#Predicted storm direction, in degrees\n",
    "predicted_direction = np.asarray([253.3, 277.0])\n"
   ]
  },
  {
   "cell_type": "code",
   "execution_count": 3,
   "metadata": {},
   "outputs": [
    {
     "name": "stdout",
     "output_type": "stream",
     "text": [
      "2020-04-11 02:54:01.431882\n",
      "Downloaded KTWX20160525_232438_V06.gz\n",
      "Downloaded KTWX20160525_230259_V06.gz\n",
      "Downloaded KTWX20160525_230815_V06.gz\n",
      "Downloaded KTWX20160525_233011_V06.gz\n",
      "Downloaded KTWX20160525_231918_V06.gz\n",
      "Downloaded KTWX20160525_231344_V06.gz\n",
      "Downloaded KTWX20160525_233545_V06.gz\n",
      "Downloaded KTWX20160525_234132_V06.gz\n",
      "Downloaded KTWX20160525_234707_V06.gz\n",
      "Downloaded KTWX20160525_235247_V06.gz\n",
      "Downloaded KTWX20160526_000431_V06.gz\n",
      "Downloaded KTWX20160525_235838_V06.gz\n",
      "Downloaded KTWX20160526_001024_V06.gz\n",
      "Downloaded KTWX20160526_001616_V06.gz\n",
      "Downloaded KTWX20160526_002201_V06.gz\n",
      "Downloaded KTWX20160526_002801_V06.gz\n",
      "Downloaded KTWX20160526_003402_V06.gz\n",
      "Downloaded KTWX20160526_003954_V06.gz\n",
      "Downloaded KTWX20160526_004547_V06.gz\n",
      "Downloaded KTWX20160526_005733_V06.gz\n",
      "Downloaded KTWX20160526_005141_V06.gz\n",
      "21 out of 21 files downloaded...0 errors\n",
      "File Reading\n",
      "in loop\n",
      "17\n",
      "Pre-grid Organization Section\n",
      "KDP Section\n",
      "Grid Section\n"
     ]
    },
    {
     "name": "stderr",
     "output_type": "stream",
     "text": [
      "C:\\Users\\matts\\AppData\\Local\\Continuum\\anaconda3\\envs\\radar\\lib\\site-packages\\pyart\\map\\gates_to_grid.py:177: DeprecationWarning: Barnes weighting function is deprecated. Please use Barnes 2 to be consistent with Pauley and Wu 1990.\n",
      "  \" Pauley and Wu 1990.\", DeprecationWarning)\n"
     ]
    },
    {
     "name": "stdout",
     "output_type": "stream",
     "text": [
      "(-98.23255157470703, 36.9969482421875, <cartopy.crs.PlateCarree object at 0x0000024BA809A768>)\n",
      "0 storm id\n",
      "-97.73748011526683 storm lon\n",
      "39.12291554093632 storm lat\n",
      "looks like a new cell\n",
      "Testfig Saved\n",
      "10.223225361905618 meter / second -1.2552542370730213 meter / second Bunkers motion components\n",
      "[nan] meter / second [nan] meter / second Observed motion components\n"
     ]
    },
    {
     "name": "stderr",
     "output_type": "stream",
     "text": [
      "C:\\Users\\matts\\AppData\\Local\\Continuum\\anaconda3\\envs\\radar\\lib\\site-packages\\metpy\\calc\\basic.py:1011: RuntimeWarning: All-NaN slice encountered\n",
      "  if np.greater(np.nanmax(np.abs(value)), max_radians):\n",
      "C:\\Users\\matts\\AppData\\Local\\Continuum\\anaconda3\\envs\\radar\\lib\\site-packages\\metpy\\calc\\basic.py:1011: RuntimeWarning: invalid value encountered in greater\n",
      "  if np.greater(np.nanmax(np.abs(value)), max_radians):\n"
     ]
    },
    {
     "name": "stdout",
     "output_type": "stream",
     "text": [
      "Figure Saved\n",
      "in loop\n",
      "17\n",
      "in loop\n",
      "17\n",
      "in loop\n",
      "17\n",
      "in loop\n",
      "17\n",
      "in loop\n",
      "17\n",
      "in loop\n",
      "17\n",
      "Pre-grid Organization Section\n",
      "KDP Section\n",
      "Grid Section\n"
     ]
    },
    {
     "name": "stderr",
     "output_type": "stream",
     "text": [
      "C:\\Users\\matts\\AppData\\Local\\Continuum\\anaconda3\\envs\\radar\\lib\\site-packages\\pyart\\map\\gates_to_grid.py:177: DeprecationWarning: Barnes weighting function is deprecated. Please use Barnes 2 to be consistent with Pauley and Wu 1990.\n",
      "  \" Pauley and Wu 1990.\", DeprecationWarning)\n"
     ]
    },
    {
     "name": "stdout",
     "output_type": "stream",
     "text": [
      "(-98.23255157470703, 36.9969482421875, <cartopy.crs.PlateCarree object at 0x0000024BA80FD3A8>)\n",
      "0 storm id\n",
      "-97.71895116541427 storm lon\n",
      "39.125899951656365 storm lat\n",
      "length of obs 1\n",
      "(13.164836006259359, 258.2766988067649)\n"
     ]
    },
    {
     "name": "stderr",
     "output_type": "stream",
     "text": [
      "C:\\Users\\matts\\Documents\\Python Scripts\\SPORK\\radar_storm_motion.py:9: DeprecationWarning: parsing timezone aware datetimes is deprecated; this will raise an error in the future\n",
      "  stormdte = (np.datetime64(end_time) - np.datetime64('1970-01-01T00:00:00Z')) / np.timedelta64(1, 's')\n",
      "C:\\Users\\matts\\Documents\\Python Scripts\\SPORK\\radar_storm_motion.py:11: DeprecationWarning: parsing timezone aware datetimes is deprecated; this will raise an error in the future\n",
      "  stormdti = (start_time - np.datetime64('1970-01-01T00:00:00Z')) / np.timedelta64(1, 's')\n",
      "C:\\Users\\matts\\Documents\\Python Scripts\\SPORK\\radar_storm_motion.py:9: DeprecationWarning: parsing timezone aware datetimes is deprecated; this will raise an error in the future\n",
      "  stormdte = (np.datetime64(end_time) - np.datetime64('1970-01-01T00:00:00Z')) / np.timedelta64(1, 's')\n",
      "C:\\Users\\matts\\Documents\\Python Scripts\\SPORK\\radar_storm_motion.py:11: DeprecationWarning: parsing timezone aware datetimes is deprecated; this will raise an error in the future\n",
      "  stormdti = (start_time - np.datetime64('1970-01-01T00:00:00Z')) / np.timedelta64(1, 's')\n"
     ]
    },
    {
     "name": "stdout",
     "output_type": "stream",
     "text": [
      "Testfig Saved\n",
      "10.223225361905618 meter / second -1.2552542370730213 meter / second Bunkers motion components\n",
      "[12.890220944683769] meter / second [2.6749039363944878] meter / second Observed motion components\n",
      "Figure Saved\n",
      "in loop\n",
      "17\n",
      "in loop\n",
      "17\n",
      "in loop\n",
      "17\n",
      "in loop\n",
      "17\n",
      "in loop\n",
      "17\n",
      "Pre-grid Organization Section\n",
      "KDP Section\n",
      "Grid Section\n"
     ]
    },
    {
     "name": "stderr",
     "output_type": "stream",
     "text": [
      "C:\\Users\\matts\\AppData\\Local\\Continuum\\anaconda3\\envs\\radar\\lib\\site-packages\\pyart\\map\\gates_to_grid.py:177: DeprecationWarning: Barnes weighting function is deprecated. Please use Barnes 2 to be consistent with Pauley and Wu 1990.\n",
      "  \" Pauley and Wu 1990.\", DeprecationWarning)\n"
     ]
    },
    {
     "name": "stdout",
     "output_type": "stream",
     "text": [
      "(-98.23255157470703, 36.9969482421875, <cartopy.crs.PlateCarree object at 0x0000024BA6DC4288>)\n",
      "0 storm id\n",
      "-97.70580014561031 storm lon\n",
      "39.12694341348233 storm lat\n",
      "length of obs 2\n",
      "(13.186817849553194, 260.7024404671172)\n"
     ]
    },
    {
     "name": "stderr",
     "output_type": "stream",
     "text": [
      "C:\\Users\\matts\\Documents\\Python Scripts\\SPORK\\radar_storm_motion.py:9: DeprecationWarning: parsing timezone aware datetimes is deprecated; this will raise an error in the future\n",
      "  stormdte = (np.datetime64(end_time) - np.datetime64('1970-01-01T00:00:00Z')) / np.timedelta64(1, 's')\n",
      "C:\\Users\\matts\\Documents\\Python Scripts\\SPORK\\radar_storm_motion.py:11: DeprecationWarning: parsing timezone aware datetimes is deprecated; this will raise an error in the future\n",
      "  stormdti = (start_time - np.datetime64('1970-01-01T00:00:00Z')) / np.timedelta64(1, 's')\n",
      "C:\\Users\\matts\\Documents\\Python Scripts\\SPORK\\radar_storm_motion.py:9: DeprecationWarning: parsing timezone aware datetimes is deprecated; this will raise an error in the future\n",
      "  stormdte = (np.datetime64(end_time) - np.datetime64('1970-01-01T00:00:00Z')) / np.timedelta64(1, 's')\n",
      "C:\\Users\\matts\\Documents\\Python Scripts\\SPORK\\radar_storm_motion.py:11: DeprecationWarning: parsing timezone aware datetimes is deprecated; this will raise an error in the future\n",
      "  stormdti = (start_time - np.datetime64('1970-01-01T00:00:00Z')) / np.timedelta64(1, 's')\n"
     ]
    },
    {
     "name": "stdout",
     "output_type": "stream",
     "text": [
      "Testfig Saved\n",
      "10.223225361905618 meter / second -1.2552542370730213 meter / second Bunkers motion components\n",
      "[13.013577334163571] meter / second [2.1304858518748455] meter / second Observed motion components\n",
      "Figure Saved\n",
      "in loop\n",
      "17\n",
      "in loop\n",
      "17\n",
      "in loop\n",
      "17\n",
      "in loop\n",
      "17\n",
      "in loop\n",
      "17\n",
      "File Reading\n",
      "in loop\n",
      "18\n",
      "Pre-grid Organization Section\n",
      "KDP Section\n",
      "Grid Section\n"
     ]
    },
    {
     "name": "stderr",
     "output_type": "stream",
     "text": [
      "C:\\Users\\matts\\AppData\\Local\\Continuum\\anaconda3\\envs\\radar\\lib\\site-packages\\pyart\\map\\gates_to_grid.py:177: DeprecationWarning: Barnes weighting function is deprecated. Please use Barnes 2 to be consistent with Pauley and Wu 1990.\n",
      "  \" Pauley and Wu 1990.\", DeprecationWarning)\n"
     ]
    },
    {
     "name": "stdout",
     "output_type": "stream",
     "text": [
      "(-98.23255157470703, 36.9969482421875, <cartopy.crs.PlateCarree object at 0x0000024BA6F4F768>)\n",
      "0 storm id\n",
      "-97.68941571028004 storm lon\n",
      "39.12870243371749 storm lat\n",
      "length of obs 3\n",
      "(13.27756258684296, 261.19321224713804)\n"
     ]
    },
    {
     "name": "stderr",
     "output_type": "stream",
     "text": [
      "C:\\Users\\matts\\Documents\\Python Scripts\\SPORK\\radar_storm_motion.py:9: DeprecationWarning: parsing timezone aware datetimes is deprecated; this will raise an error in the future\n",
      "  stormdte = (np.datetime64(end_time) - np.datetime64('1970-01-01T00:00:00Z')) / np.timedelta64(1, 's')\n",
      "C:\\Users\\matts\\Documents\\Python Scripts\\SPORK\\radar_storm_motion.py:11: DeprecationWarning: parsing timezone aware datetimes is deprecated; this will raise an error in the future\n",
      "  stormdti = (start_time - np.datetime64('1970-01-01T00:00:00Z')) / np.timedelta64(1, 's')\n",
      "C:\\Users\\matts\\Documents\\Python Scripts\\SPORK\\radar_storm_motion.py:9: DeprecationWarning: parsing timezone aware datetimes is deprecated; this will raise an error in the future\n",
      "  stormdte = (np.datetime64(end_time) - np.datetime64('1970-01-01T00:00:00Z')) / np.timedelta64(1, 's')\n",
      "C:\\Users\\matts\\Documents\\Python Scripts\\SPORK\\radar_storm_motion.py:11: DeprecationWarning: parsing timezone aware datetimes is deprecated; this will raise an error in the future\n",
      "  stormdti = (start_time - np.datetime64('1970-01-01T00:00:00Z')) / np.timedelta64(1, 's')\n"
     ]
    },
    {
     "name": "stdout",
     "output_type": "stream",
     "text": [
      "Testfig Saved\n",
      "10.223225361905618 meter / second -1.2552542370730213 meter / second Bunkers motion components\n",
      "[13.121023449819516] meter / second [2.0328334601777622] meter / second Observed motion components\n",
      "Figure Saved\n",
      "in loop\n",
      "18\n",
      "in loop\n",
      "18\n",
      "in loop\n",
      "18\n",
      "in loop\n",
      "18\n",
      "in loop\n",
      "18\n",
      "in loop\n",
      "18\n",
      "Pre-grid Organization Section\n",
      "KDP Section\n",
      "Grid Section\n"
     ]
    },
    {
     "name": "stderr",
     "output_type": "stream",
     "text": [
      "C:\\Users\\matts\\AppData\\Local\\Continuum\\anaconda3\\envs\\radar\\lib\\site-packages\\pyart\\map\\gates_to_grid.py:177: DeprecationWarning: Barnes weighting function is deprecated. Please use Barnes 2 to be consistent with Pauley and Wu 1990.\n",
      "  \" Pauley and Wu 1990.\", DeprecationWarning)\n"
     ]
    },
    {
     "name": "stdout",
     "output_type": "stream",
     "text": [
      "(-98.23255157470703, 36.9969482421875, <cartopy.crs.PlateCarree object at 0x0000024B9B8B4168>)\n",
      "0 storm id\n",
      "-97.67207474924807 storm lon\n",
      "39.12974335290529 storm lat\n",
      "length of obs 4\n",
      "(12.938023860888826, 262.3564831340228)\n"
     ]
    },
    {
     "name": "stderr",
     "output_type": "stream",
     "text": [
      "C:\\Users\\matts\\Documents\\Python Scripts\\SPORK\\radar_storm_motion.py:9: DeprecationWarning: parsing timezone aware datetimes is deprecated; this will raise an error in the future\n",
      "  stormdte = (np.datetime64(end_time) - np.datetime64('1970-01-01T00:00:00Z')) / np.timedelta64(1, 's')\n",
      "C:\\Users\\matts\\Documents\\Python Scripts\\SPORK\\radar_storm_motion.py:11: DeprecationWarning: parsing timezone aware datetimes is deprecated; this will raise an error in the future\n",
      "  stormdti = (start_time - np.datetime64('1970-01-01T00:00:00Z')) / np.timedelta64(1, 's')\n",
      "C:\\Users\\matts\\Documents\\Python Scripts\\SPORK\\radar_storm_motion.py:9: DeprecationWarning: parsing timezone aware datetimes is deprecated; this will raise an error in the future\n",
      "  stormdte = (np.datetime64(end_time) - np.datetime64('1970-01-01T00:00:00Z')) / np.timedelta64(1, 's')\n",
      "C:\\Users\\matts\\Documents\\Python Scripts\\SPORK\\radar_storm_motion.py:11: DeprecationWarning: parsing timezone aware datetimes is deprecated; this will raise an error in the future\n",
      "  stormdti = (start_time - np.datetime64('1970-01-01T00:00:00Z')) / np.timedelta64(1, 's')\n"
     ]
    },
    {
     "name": "stdout",
     "output_type": "stream",
     "text": [
      "Testfig Saved\n",
      "10.223225361905618 meter / second -1.2552542370730213 meter / second Bunkers motion components\n",
      "[12.823066982663725] meter / second [1.7208761091513909] meter / second Observed motion components\n",
      "Figure Saved\n",
      "in loop\n",
      "18\n",
      "in loop\n",
      "18\n",
      "in loop\n",
      "18\n",
      "in loop\n",
      "18\n",
      "in loop\n",
      "18\n",
      "Pre-grid Organization Section\n",
      "KDP Section\n",
      "Grid Section\n"
     ]
    },
    {
     "name": "stderr",
     "output_type": "stream",
     "text": [
      "C:\\Users\\matts\\AppData\\Local\\Continuum\\anaconda3\\envs\\radar\\lib\\site-packages\\pyart\\map\\gates_to_grid.py:177: DeprecationWarning: Barnes weighting function is deprecated. Please use Barnes 2 to be consistent with Pauley and Wu 1990.\n",
      "  \" Pauley and Wu 1990.\", DeprecationWarning)\n"
     ]
    },
    {
     "name": "stdout",
     "output_type": "stream",
     "text": [
      "(-98.23255157470703, 36.9969482421875, <cartopy.crs.PlateCarree object at 0x0000024BA809A708>)\n",
      "0 storm id\n",
      "-97.65561927608488 storm lon\n",
      "39.1308721106046 storm lat\n",
      "length of obs 5\n",
      "(13.529431027505105, 262.8842697935792)\n"
     ]
    },
    {
     "name": "stderr",
     "output_type": "stream",
     "text": [
      "C:\\Users\\matts\\Documents\\Python Scripts\\SPORK\\radar_storm_motion.py:9: DeprecationWarning: parsing timezone aware datetimes is deprecated; this will raise an error in the future\n",
      "  stormdte = (np.datetime64(end_time) - np.datetime64('1970-01-01T00:00:00Z')) / np.timedelta64(1, 's')\n",
      "C:\\Users\\matts\\Documents\\Python Scripts\\SPORK\\radar_storm_motion.py:11: DeprecationWarning: parsing timezone aware datetimes is deprecated; this will raise an error in the future\n",
      "  stormdti = (start_time - np.datetime64('1970-01-01T00:00:00Z')) / np.timedelta64(1, 's')\n",
      "C:\\Users\\matts\\Documents\\Python Scripts\\SPORK\\radar_storm_motion.py:9: DeprecationWarning: parsing timezone aware datetimes is deprecated; this will raise an error in the future\n",
      "  stormdte = (np.datetime64(end_time) - np.datetime64('1970-01-01T00:00:00Z')) / np.timedelta64(1, 's')\n",
      "C:\\Users\\matts\\Documents\\Python Scripts\\SPORK\\radar_storm_motion.py:11: DeprecationWarning: parsing timezone aware datetimes is deprecated; this will raise an error in the future\n",
      "  stormdti = (start_time - np.datetime64('1970-01-01T00:00:00Z')) / np.timedelta64(1, 's')\n"
     ]
    },
    {
     "name": "stdout",
     "output_type": "stream",
     "text": [
      "Testfig Saved\n",
      "10.223225361905618 meter / second -1.2552542370730213 meter / second Bunkers motion components\n",
      "[13.425226895913447] meter / second [1.6759435316442033] meter / second Observed motion components\n",
      "Figure Saved\n",
      "in loop\n",
      "18\n",
      "in loop\n",
      "18\n",
      "in loop\n",
      "18\n",
      "in loop\n",
      "18\n",
      "in loop\n",
      "18\n",
      "in loop\n",
      "18\n",
      "File Reading\n",
      "in loop\n",
      "19\n",
      "Pre-grid Organization Section\n",
      "KDP Section\n",
      "Grid Section\n"
     ]
    },
    {
     "name": "stderr",
     "output_type": "stream",
     "text": [
      "C:\\Users\\matts\\AppData\\Local\\Continuum\\anaconda3\\envs\\radar\\lib\\site-packages\\pyart\\map\\gates_to_grid.py:177: DeprecationWarning: Barnes weighting function is deprecated. Please use Barnes 2 to be consistent with Pauley and Wu 1990.\n",
      "  \" Pauley and Wu 1990.\", DeprecationWarning)\n"
     ]
    },
    {
     "name": "stdout",
     "output_type": "stream",
     "text": [
      "(-98.23255157470703, 36.9969482421875, <cartopy.crs.PlateCarree object at 0x0000024BA70AF0A8>)\n",
      "0 storm id\n",
      "-97.63725228226808 storm lon\n",
      "39.12971184953978 storm lat\n",
      "length of obs 6\n",
      "(13.4761407398179, 265.0361193298778)\n"
     ]
    },
    {
     "name": "stderr",
     "output_type": "stream",
     "text": [
      "C:\\Users\\matts\\Documents\\Python Scripts\\SPORK\\radar_storm_motion.py:9: DeprecationWarning: parsing timezone aware datetimes is deprecated; this will raise an error in the future\n",
      "  stormdte = (np.datetime64(end_time) - np.datetime64('1970-01-01T00:00:00Z')) / np.timedelta64(1, 's')\n",
      "C:\\Users\\matts\\Documents\\Python Scripts\\SPORK\\radar_storm_motion.py:11: DeprecationWarning: parsing timezone aware datetimes is deprecated; this will raise an error in the future\n",
      "  stormdti = (start_time - np.datetime64('1970-01-01T00:00:00Z')) / np.timedelta64(1, 's')\n",
      "C:\\Users\\matts\\Documents\\Python Scripts\\SPORK\\radar_storm_motion.py:9: DeprecationWarning: parsing timezone aware datetimes is deprecated; this will raise an error in the future\n",
      "  stormdte = (np.datetime64(end_time) - np.datetime64('1970-01-01T00:00:00Z')) / np.timedelta64(1, 's')\n",
      "C:\\Users\\matts\\Documents\\Python Scripts\\SPORK\\radar_storm_motion.py:11: DeprecationWarning: parsing timezone aware datetimes is deprecated; this will raise an error in the future\n",
      "  stormdti = (start_time - np.datetime64('1970-01-01T00:00:00Z')) / np.timedelta64(1, 's')\n"
     ]
    },
    {
     "name": "stdout",
     "output_type": "stream",
     "text": [
      "Testfig Saved\n",
      "10.223225361905618 meter / second -1.2552542370730213 meter / second Bunkers motion components\n",
      "[13.425597708916667] meter / second [1.1660597745018377] meter / second Observed motion components\n",
      "Figure Saved\n",
      "in loop\n",
      "19\n",
      "in loop\n",
      "19\n",
      "in loop\n",
      "19\n",
      "in loop\n",
      "19\n",
      "in loop\n",
      "19\n",
      "in loop\n",
      "19\n",
      "Pre-grid Organization Section\n",
      "KDP Section\n",
      "Grid Section\n"
     ]
    },
    {
     "name": "stderr",
     "output_type": "stream",
     "text": [
      "C:\\Users\\matts\\AppData\\Local\\Continuum\\anaconda3\\envs\\radar\\lib\\site-packages\\pyart\\map\\gates_to_grid.py:177: DeprecationWarning: Barnes weighting function is deprecated. Please use Barnes 2 to be consistent with Pauley and Wu 1990.\n",
      "  \" Pauley and Wu 1990.\", DeprecationWarning)\n"
     ]
    },
    {
     "name": "stdout",
     "output_type": "stream",
     "text": [
      "(-98.23255157470703, 36.9969482421875, <cartopy.crs.PlateCarree object at 0x0000024BA70AFB28>)\n",
      "0 storm id\n",
      "-97.62610225727222 storm lon\n",
      "39.132911512642195 storm lat\n",
      "length of obs 7\n",
      "(12.675408834173739, 263.435712332207)\n"
     ]
    },
    {
     "name": "stderr",
     "output_type": "stream",
     "text": [
      "C:\\Users\\matts\\Documents\\Python Scripts\\SPORK\\radar_storm_motion.py:9: DeprecationWarning: parsing timezone aware datetimes is deprecated; this will raise an error in the future\n",
      "  stormdte = (np.datetime64(end_time) - np.datetime64('1970-01-01T00:00:00Z')) / np.timedelta64(1, 's')\n",
      "C:\\Users\\matts\\Documents\\Python Scripts\\SPORK\\radar_storm_motion.py:11: DeprecationWarning: parsing timezone aware datetimes is deprecated; this will raise an error in the future\n",
      "  stormdti = (start_time - np.datetime64('1970-01-01T00:00:00Z')) / np.timedelta64(1, 's')\n",
      "C:\\Users\\matts\\Documents\\Python Scripts\\SPORK\\radar_storm_motion.py:9: DeprecationWarning: parsing timezone aware datetimes is deprecated; this will raise an error in the future\n",
      "  stormdte = (np.datetime64(end_time) - np.datetime64('1970-01-01T00:00:00Z')) / np.timedelta64(1, 's')\n",
      "C:\\Users\\matts\\Documents\\Python Scripts\\SPORK\\radar_storm_motion.py:11: DeprecationWarning: parsing timezone aware datetimes is deprecated; this will raise an error in the future\n",
      "  stormdti = (start_time - np.datetime64('1970-01-01T00:00:00Z')) / np.timedelta64(1, 's')\n"
     ]
    },
    {
     "name": "stdout",
     "output_type": "stream",
     "text": [
      "Testfig Saved\n",
      "10.223225361905618 meter / second -1.2552542370730213 meter / second Bunkers motion components\n",
      "[12.59231154996517] meter / second [1.449026894872361] meter / second Observed motion components\n",
      "Figure Saved\n",
      "in loop\n",
      "19\n",
      "in loop\n",
      "19\n",
      "in loop\n",
      "19\n",
      "in loop\n",
      "19\n",
      "in loop\n",
      "19\n",
      "Pre-grid Organization Section\n",
      "KDP Section\n",
      "Grid Section\n"
     ]
    },
    {
     "name": "stderr",
     "output_type": "stream",
     "text": [
      "C:\\Users\\matts\\AppData\\Local\\Continuum\\anaconda3\\envs\\radar\\lib\\site-packages\\pyart\\map\\gates_to_grid.py:177: DeprecationWarning: Barnes weighting function is deprecated. Please use Barnes 2 to be consistent with Pauley and Wu 1990.\n",
      "  \" Pauley and Wu 1990.\", DeprecationWarning)\n"
     ]
    },
    {
     "name": "stdout",
     "output_type": "stream",
     "text": [
      "(-98.23255157470703, 36.9969482421875, <cartopy.crs.PlateCarree object at 0x0000024BA6EA07C8>)\n",
      "0 storm id\n",
      "-97.61727199424479 storm lon\n",
      "39.13625280350825 storm lat\n",
      "length of obs 8\n",
      "(12.366248712525067, 261.8981178862013)\n"
     ]
    },
    {
     "name": "stderr",
     "output_type": "stream",
     "text": [
      "C:\\Users\\matts\\Documents\\Python Scripts\\SPORK\\radar_storm_motion.py:9: DeprecationWarning: parsing timezone aware datetimes is deprecated; this will raise an error in the future\n",
      "  stormdte = (np.datetime64(end_time) - np.datetime64('1970-01-01T00:00:00Z')) / np.timedelta64(1, 's')\n",
      "C:\\Users\\matts\\Documents\\Python Scripts\\SPORK\\radar_storm_motion.py:11: DeprecationWarning: parsing timezone aware datetimes is deprecated; this will raise an error in the future\n",
      "  stormdti = (start_time - np.datetime64('1970-01-01T00:00:00Z')) / np.timedelta64(1, 's')\n",
      "C:\\Users\\matts\\Documents\\Python Scripts\\SPORK\\radar_storm_motion.py:9: DeprecationWarning: parsing timezone aware datetimes is deprecated; this will raise an error in the future\n",
      "  stormdte = (np.datetime64(end_time) - np.datetime64('1970-01-01T00:00:00Z')) / np.timedelta64(1, 's')\n",
      "C:\\Users\\matts\\Documents\\Python Scripts\\SPORK\\radar_storm_motion.py:11: DeprecationWarning: parsing timezone aware datetimes is deprecated; this will raise an error in the future\n",
      "  stormdti = (start_time - np.datetime64('1970-01-01T00:00:00Z')) / np.timedelta64(1, 's')\n"
     ]
    },
    {
     "name": "stdout",
     "output_type": "stream",
     "text": [
      "Testfig Saved\n",
      "10.223225361905618 meter / second -1.2552542370730213 meter / second Bunkers motion components\n",
      "[12.242821539113258] meter / second [1.7428218444385914] meter / second Observed motion components\n",
      "Figure Saved\n",
      "in loop\n",
      "19\n",
      "in loop\n",
      "19\n",
      "in loop\n",
      "19\n",
      "in loop\n",
      "19\n",
      "in loop\n",
      "19\n",
      "in loop\n",
      "19\n",
      "in loop\n",
      "19\n",
      "File Reading\n",
      "in loop\n",
      "18\n",
      "Pre-grid Organization Section\n",
      "KDP Section\n",
      "Grid Section\n"
     ]
    },
    {
     "name": "stderr",
     "output_type": "stream",
     "text": [
      "C:\\Users\\matts\\AppData\\Local\\Continuum\\anaconda3\\envs\\radar\\lib\\site-packages\\pyart\\map\\gates_to_grid.py:177: DeprecationWarning: Barnes weighting function is deprecated. Please use Barnes 2 to be consistent with Pauley and Wu 1990.\n",
      "  \" Pauley and Wu 1990.\", DeprecationWarning)\n"
     ]
    },
    {
     "name": "stdout",
     "output_type": "stream",
     "text": [
      "(-98.23255157470703, 36.9969482421875, <cartopy.crs.PlateCarree object at 0x0000024BA6E0DD08>)\n",
      "0 storm id\n",
      "-97.6127998315306 storm lon\n",
      "39.140379230910106 storm lat\n",
      "length of obs 9\n",
      "(11.173867428763405, 259.80374294392806)\n"
     ]
    },
    {
     "name": "stderr",
     "output_type": "stream",
     "text": [
      "C:\\Users\\matts\\Documents\\Python Scripts\\SPORK\\radar_storm_motion.py:9: DeprecationWarning: parsing timezone aware datetimes is deprecated; this will raise an error in the future\n",
      "  stormdte = (np.datetime64(end_time) - np.datetime64('1970-01-01T00:00:00Z')) / np.timedelta64(1, 's')\n",
      "C:\\Users\\matts\\Documents\\Python Scripts\\SPORK\\radar_storm_motion.py:11: DeprecationWarning: parsing timezone aware datetimes is deprecated; this will raise an error in the future\n",
      "  stormdti = (start_time - np.datetime64('1970-01-01T00:00:00Z')) / np.timedelta64(1, 's')\n",
      "C:\\Users\\matts\\Documents\\Python Scripts\\SPORK\\radar_storm_motion.py:9: DeprecationWarning: parsing timezone aware datetimes is deprecated; this will raise an error in the future\n",
      "  stormdte = (np.datetime64(end_time) - np.datetime64('1970-01-01T00:00:00Z')) / np.timedelta64(1, 's')\n",
      "C:\\Users\\matts\\Documents\\Python Scripts\\SPORK\\radar_storm_motion.py:11: DeprecationWarning: parsing timezone aware datetimes is deprecated; this will raise an error in the future\n",
      "  stormdti = (start_time - np.datetime64('1970-01-01T00:00:00Z')) / np.timedelta64(1, 's')\n"
     ]
    },
    {
     "name": "stdout",
     "output_type": "stream",
     "text": [
      "Testfig Saved\n",
      "10.223225361905618 meter / second -1.2552542370730213 meter / second Bunkers motion components\n",
      "[10.997400487284256] meter / second [1.9780029923788571] meter / second Observed motion components\n",
      "Figure Saved\n",
      "in loop\n",
      "18\n",
      "in loop\n",
      "18\n",
      "in loop\n",
      "18\n",
      "in loop\n",
      "18\n",
      "in loop\n",
      "18\n",
      "in loop\n",
      "18\n",
      "Pre-grid Organization Section\n",
      "KDP Section\n",
      "Grid Section\n"
     ]
    },
    {
     "name": "stderr",
     "output_type": "stream",
     "text": [
      "C:\\Users\\matts\\AppData\\Local\\Continuum\\anaconda3\\envs\\radar\\lib\\site-packages\\pyart\\map\\gates_to_grid.py:177: DeprecationWarning: Barnes weighting function is deprecated. Please use Barnes 2 to be consistent with Pauley and Wu 1990.\n",
      "  \" Pauley and Wu 1990.\", DeprecationWarning)\n"
     ]
    },
    {
     "name": "stdout",
     "output_type": "stream",
     "text": [
      "(-98.23255157470703, 36.9969482421875, <cartopy.crs.PlateCarree object at 0x0000024B9B8B4DC8>)\n",
      "0 storm id\n",
      "-97.61902981594756 storm lon\n",
      "39.13925452442963 storm lat\n",
      "length of obs 10\n",
      "(9.459552921683322, 259.95416075753025)\n"
     ]
    },
    {
     "name": "stderr",
     "output_type": "stream",
     "text": [
      "C:\\Users\\matts\\Documents\\Python Scripts\\SPORK\\radar_storm_motion.py:9: DeprecationWarning: parsing timezone aware datetimes is deprecated; this will raise an error in the future\n",
      "  stormdte = (np.datetime64(end_time) - np.datetime64('1970-01-01T00:00:00Z')) / np.timedelta64(1, 's')\n",
      "C:\\Users\\matts\\Documents\\Python Scripts\\SPORK\\radar_storm_motion.py:11: DeprecationWarning: parsing timezone aware datetimes is deprecated; this will raise an error in the future\n",
      "  stormdti = (start_time - np.datetime64('1970-01-01T00:00:00Z')) / np.timedelta64(1, 's')\n",
      "C:\\Users\\matts\\Documents\\Python Scripts\\SPORK\\radar_storm_motion.py:9: DeprecationWarning: parsing timezone aware datetimes is deprecated; this will raise an error in the future\n",
      "  stormdte = (np.datetime64(end_time) - np.datetime64('1970-01-01T00:00:00Z')) / np.timedelta64(1, 's')\n",
      "C:\\Users\\matts\\Documents\\Python Scripts\\SPORK\\radar_storm_motion.py:11: DeprecationWarning: parsing timezone aware datetimes is deprecated; this will raise an error in the future\n",
      "  stormdti = (start_time - np.datetime64('1970-01-01T00:00:00Z')) / np.timedelta64(1, 's')\n"
     ]
    },
    {
     "name": "stdout",
     "output_type": "stream",
     "text": [
      "Testfig Saved\n",
      "10.223225361905618 meter / second -1.2552542370730213 meter / second Bunkers motion components\n",
      "[9.31452389365141] meter / second [1.6500866985478222] meter / second Observed motion components\n",
      "Figure Saved\n",
      "in loop\n",
      "18\n",
      "in loop\n",
      "18\n",
      "in loop\n",
      "18\n",
      "in loop\n",
      "18\n",
      "in loop\n",
      "18\n",
      "in loop\n",
      "18\n",
      "Pre-grid Organization Section\n",
      "KDP Section\n",
      "Grid Section\n"
     ]
    },
    {
     "name": "stderr",
     "output_type": "stream",
     "text": [
      "C:\\Users\\matts\\AppData\\Local\\Continuum\\anaconda3\\envs\\radar\\lib\\site-packages\\pyart\\map\\gates_to_grid.py:177: DeprecationWarning: Barnes weighting function is deprecated. Please use Barnes 2 to be consistent with Pauley and Wu 1990.\n",
      "  \" Pauley and Wu 1990.\", DeprecationWarning)\n"
     ]
    },
    {
     "name": "stdout",
     "output_type": "stream",
     "text": [
      "(-98.23255157470703, 36.9969482421875, <cartopy.crs.PlateCarree object at 0x0000024B9B8C4588>)\n",
      "0 storm id\n",
      "-97.61462125996273 storm lon\n",
      "39.13582802879451 storm lat\n",
      "length of obs 11\n",
      "(8.465354129182186, 263.03906254305576)\n"
     ]
    },
    {
     "name": "stderr",
     "output_type": "stream",
     "text": [
      "C:\\Users\\matts\\Documents\\Python Scripts\\SPORK\\radar_storm_motion.py:9: DeprecationWarning: parsing timezone aware datetimes is deprecated; this will raise an error in the future\n",
      "  stormdte = (np.datetime64(end_time) - np.datetime64('1970-01-01T00:00:00Z')) / np.timedelta64(1, 's')\n",
      "C:\\Users\\matts\\Documents\\Python Scripts\\SPORK\\radar_storm_motion.py:11: DeprecationWarning: parsing timezone aware datetimes is deprecated; this will raise an error in the future\n",
      "  stormdti = (start_time - np.datetime64('1970-01-01T00:00:00Z')) / np.timedelta64(1, 's')\n",
      "C:\\Users\\matts\\Documents\\Python Scripts\\SPORK\\radar_storm_motion.py:9: DeprecationWarning: parsing timezone aware datetimes is deprecated; this will raise an error in the future\n",
      "  stormdte = (np.datetime64(end_time) - np.datetime64('1970-01-01T00:00:00Z')) / np.timedelta64(1, 's')\n",
      "C:\\Users\\matts\\Documents\\Python Scripts\\SPORK\\radar_storm_motion.py:11: DeprecationWarning: parsing timezone aware datetimes is deprecated; this will raise an error in the future\n",
      "  stormdti = (start_time - np.datetime64('1970-01-01T00:00:00Z')) / np.timedelta64(1, 's')\n"
     ]
    },
    {
     "name": "stdout",
     "output_type": "stream",
     "text": [
      "Testfig Saved\n",
      "10.223225361905618 meter / second -1.2552542370730213 meter / second Bunkers motion components\n",
      "[8.402956070121684] meter / second [1.0259385050123775] meter / second Observed motion components\n",
      "Figure Saved\n",
      "in loop\n",
      "18\n",
      "in loop\n",
      "18\n",
      "in loop\n",
      "18\n",
      "in loop\n",
      "18\n",
      "in loop\n",
      "18\n",
      "File Reading\n",
      "in loop\n",
      "19\n",
      "Pre-grid Organization Section\n",
      "KDP Section\n",
      "Grid Section\n"
     ]
    },
    {
     "name": "stderr",
     "output_type": "stream",
     "text": [
      "C:\\Users\\matts\\AppData\\Local\\Continuum\\anaconda3\\envs\\radar\\lib\\site-packages\\pyart\\map\\gates_to_grid.py:177: DeprecationWarning: Barnes weighting function is deprecated. Please use Barnes 2 to be consistent with Pauley and Wu 1990.\n",
      "  \" Pauley and Wu 1990.\", DeprecationWarning)\n"
     ]
    },
    {
     "name": "stdout",
     "output_type": "stream",
     "text": [
      "(-98.23255157470703, 36.9969482421875, <cartopy.crs.PlateCarree object at 0x0000024BA6DC4CA8>)\n",
      "0 storm id\n",
      "-97.60093082753525 storm lon\n",
      "39.12785920210856 storm lat\n",
      "length of obs 12\n",
      "(8.314777395097428, 269.38812966948706)\n"
     ]
    },
    {
     "name": "stderr",
     "output_type": "stream",
     "text": [
      "C:\\Users\\matts\\Documents\\Python Scripts\\SPORK\\radar_storm_motion.py:9: DeprecationWarning: parsing timezone aware datetimes is deprecated; this will raise an error in the future\n",
      "  stormdte = (np.datetime64(end_time) - np.datetime64('1970-01-01T00:00:00Z')) / np.timedelta64(1, 's')\n",
      "C:\\Users\\matts\\Documents\\Python Scripts\\SPORK\\radar_storm_motion.py:11: DeprecationWarning: parsing timezone aware datetimes is deprecated; this will raise an error in the future\n",
      "  stormdti = (start_time - np.datetime64('1970-01-01T00:00:00Z')) / np.timedelta64(1, 's')\n",
      "C:\\Users\\matts\\Documents\\Python Scripts\\SPORK\\radar_storm_motion.py:9: DeprecationWarning: parsing timezone aware datetimes is deprecated; this will raise an error in the future\n",
      "  stormdte = (np.datetime64(end_time) - np.datetime64('1970-01-01T00:00:00Z')) / np.timedelta64(1, 's')\n",
      "C:\\Users\\matts\\Documents\\Python Scripts\\SPORK\\radar_storm_motion.py:11: DeprecationWarning: parsing timezone aware datetimes is deprecated; this will raise an error in the future\n",
      "  stormdti = (start_time - np.datetime64('1970-01-01T00:00:00Z')) / np.timedelta64(1, 's')\n"
     ]
    },
    {
     "name": "stdout",
     "output_type": "stream",
     "text": [
      "Testfig Saved\n",
      "10.223225361905618 meter / second -1.2552542370730213 meter / second Bunkers motion components\n",
      "[8.314303273183933] meter / second [0.08879308276054336] meter / second Observed motion components\n",
      "Figure Saved\n",
      "in loop\n",
      "19\n",
      "in loop\n",
      "19\n",
      "in loop\n",
      "19\n",
      "in loop\n",
      "19\n",
      "in loop\n",
      "19\n",
      "in loop\n",
      "19\n",
      "Pre-grid Organization Section\n",
      "KDP Section\n",
      "Grid Section\n"
     ]
    },
    {
     "name": "stderr",
     "output_type": "stream",
     "text": [
      "C:\\Users\\matts\\AppData\\Local\\Continuum\\anaconda3\\envs\\radar\\lib\\site-packages\\pyart\\map\\gates_to_grid.py:177: DeprecationWarning: Barnes weighting function is deprecated. Please use Barnes 2 to be consistent with Pauley and Wu 1990.\n",
      "  \" Pauley and Wu 1990.\", DeprecationWarning)\n"
     ]
    },
    {
     "name": "stdout",
     "output_type": "stream",
     "text": [
      "(-98.23255157470703, 36.9969482421875, <cartopy.crs.PlateCarree object at 0x0000024BA6EA0BE8>)\n",
      "0 storm id\n",
      "-97.5791207002093 storm lon\n",
      "39.116033686224455 storm lat\n",
      "length of obs 13\n",
      "(8.735982392862615, 278.45663429895137)\n"
     ]
    },
    {
     "name": "stderr",
     "output_type": "stream",
     "text": [
      "C:\\Users\\matts\\Documents\\Python Scripts\\SPORK\\radar_storm_motion.py:9: DeprecationWarning: parsing timezone aware datetimes is deprecated; this will raise an error in the future\n",
      "  stormdte = (np.datetime64(end_time) - np.datetime64('1970-01-01T00:00:00Z')) / np.timedelta64(1, 's')\n",
      "C:\\Users\\matts\\Documents\\Python Scripts\\SPORK\\radar_storm_motion.py:11: DeprecationWarning: parsing timezone aware datetimes is deprecated; this will raise an error in the future\n",
      "  stormdti = (start_time - np.datetime64('1970-01-01T00:00:00Z')) / np.timedelta64(1, 's')\n",
      "C:\\Users\\matts\\Documents\\Python Scripts\\SPORK\\radar_storm_motion.py:9: DeprecationWarning: parsing timezone aware datetimes is deprecated; this will raise an error in the future\n",
      "  stormdte = (np.datetime64(end_time) - np.datetime64('1970-01-01T00:00:00Z')) / np.timedelta64(1, 's')\n",
      "C:\\Users\\matts\\Documents\\Python Scripts\\SPORK\\radar_storm_motion.py:11: DeprecationWarning: parsing timezone aware datetimes is deprecated; this will raise an error in the future\n",
      "  stormdti = (start_time - np.datetime64('1970-01-01T00:00:00Z')) / np.timedelta64(1, 's')\n"
     ]
    },
    {
     "name": "stdout",
     "output_type": "stream",
     "text": [
      "Testfig Saved\n",
      "10.223225361905618 meter / second -1.2552542370730213 meter / second Bunkers motion components\n",
      "[8.641000015518793] meter / second [-1.2847206311917942] meter / second Observed motion components\n",
      "Figure Saved\n",
      "in loop\n",
      "19\n",
      "in loop\n",
      "19\n",
      "in loop\n",
      "19\n",
      "in loop\n",
      "19\n",
      "in loop\n",
      "19\n",
      "Pre-grid Organization Section\n",
      "KDP Section\n",
      "Grid Section\n"
     ]
    },
    {
     "name": "stderr",
     "output_type": "stream",
     "text": [
      "C:\\Users\\matts\\AppData\\Local\\Continuum\\anaconda3\\envs\\radar\\lib\\site-packages\\pyart\\map\\gates_to_grid.py:177: DeprecationWarning: Barnes weighting function is deprecated. Please use Barnes 2 to be consistent with Pauley and Wu 1990.\n",
      "  \" Pauley and Wu 1990.\", DeprecationWarning)\n"
     ]
    },
    {
     "name": "stdout",
     "output_type": "stream",
     "text": [
      "(-98.23255157470703, 36.9969482421875, <cartopy.crs.PlateCarree object at 0x0000024BA6F9CCA8>)\n",
      "0 storm id\n",
      "-97.56474757324263 storm lon\n",
      "39.1143968485167 storm lat\n",
      "length of obs 14\n",
      "(8.873291009225513, 280.4768256704903)\n"
     ]
    },
    {
     "name": "stderr",
     "output_type": "stream",
     "text": [
      "C:\\Users\\matts\\Documents\\Python Scripts\\SPORK\\radar_storm_motion.py:9: DeprecationWarning: parsing timezone aware datetimes is deprecated; this will raise an error in the future\n",
      "  stormdte = (np.datetime64(end_time) - np.datetime64('1970-01-01T00:00:00Z')) / np.timedelta64(1, 's')\n",
      "C:\\Users\\matts\\Documents\\Python Scripts\\SPORK\\radar_storm_motion.py:11: DeprecationWarning: parsing timezone aware datetimes is deprecated; this will raise an error in the future\n",
      "  stormdti = (start_time - np.datetime64('1970-01-01T00:00:00Z')) / np.timedelta64(1, 's')\n",
      "C:\\Users\\matts\\Documents\\Python Scripts\\SPORK\\radar_storm_motion.py:9: DeprecationWarning: parsing timezone aware datetimes is deprecated; this will raise an error in the future\n",
      "  stormdte = (np.datetime64(end_time) - np.datetime64('1970-01-01T00:00:00Z')) / np.timedelta64(1, 's')\n",
      "C:\\Users\\matts\\Documents\\Python Scripts\\SPORK\\radar_storm_motion.py:11: DeprecationWarning: parsing timezone aware datetimes is deprecated; this will raise an error in the future\n",
      "  stormdti = (start_time - np.datetime64('1970-01-01T00:00:00Z')) / np.timedelta64(1, 's')\n"
     ]
    },
    {
     "name": "stdout",
     "output_type": "stream",
     "text": [
      "Testfig Saved\n",
      "10.223225361905618 meter / second -1.2552542370730213 meter / second Bunkers motion components\n",
      "[8.725360254382474] meter / second [-1.613499849905451] meter / second Observed motion components\n",
      "Figure Saved\n",
      "in loop\n",
      "19\n",
      "in loop\n",
      "19\n",
      "in loop\n",
      "19\n",
      "in loop\n",
      "19\n",
      "in loop\n",
      "19\n",
      "in loop\n",
      "19\n",
      "in loop\n",
      "19\n",
      "File Reading\n",
      "in loop\n",
      "19\n",
      "Pre-grid Organization Section\n",
      "KDP Section\n",
      "Grid Section\n"
     ]
    },
    {
     "name": "stderr",
     "output_type": "stream",
     "text": [
      "C:\\Users\\matts\\AppData\\Local\\Continuum\\anaconda3\\envs\\radar\\lib\\site-packages\\pyart\\map\\gates_to_grid.py:177: DeprecationWarning: Barnes weighting function is deprecated. Please use Barnes 2 to be consistent with Pauley and Wu 1990.\n",
      "  \" Pauley and Wu 1990.\", DeprecationWarning)\n"
     ]
    },
    {
     "name": "stdout",
     "output_type": "stream",
     "text": [
      "(-98.23255157470703, 36.9969482421875, <cartopy.crs.PlateCarree object at 0x0000024BA6DC4D08>)\n",
      "0 storm id\n",
      "-97.54783889360426 storm lon\n",
      "39.11118962070746 storm lat\n",
      "length of obs 15\n",
      "(8.644308437835184, 283.27955377778125)\n"
     ]
    },
    {
     "name": "stderr",
     "output_type": "stream",
     "text": [
      "C:\\Users\\matts\\Documents\\Python Scripts\\SPORK\\radar_storm_motion.py:9: DeprecationWarning: parsing timezone aware datetimes is deprecated; this will raise an error in the future\n",
      "  stormdte = (np.datetime64(end_time) - np.datetime64('1970-01-01T00:00:00Z')) / np.timedelta64(1, 's')\n",
      "C:\\Users\\matts\\Documents\\Python Scripts\\SPORK\\radar_storm_motion.py:11: DeprecationWarning: parsing timezone aware datetimes is deprecated; this will raise an error in the future\n",
      "  stormdti = (start_time - np.datetime64('1970-01-01T00:00:00Z')) / np.timedelta64(1, 's')\n",
      "C:\\Users\\matts\\Documents\\Python Scripts\\SPORK\\radar_storm_motion.py:9: DeprecationWarning: parsing timezone aware datetimes is deprecated; this will raise an error in the future\n",
      "  stormdte = (np.datetime64(end_time) - np.datetime64('1970-01-01T00:00:00Z')) / np.timedelta64(1, 's')\n",
      "C:\\Users\\matts\\Documents\\Python Scripts\\SPORK\\radar_storm_motion.py:11: DeprecationWarning: parsing timezone aware datetimes is deprecated; this will raise an error in the future\n",
      "  stormdti = (start_time - np.datetime64('1970-01-01T00:00:00Z')) / np.timedelta64(1, 's')\n"
     ]
    },
    {
     "name": "stdout",
     "output_type": "stream",
     "text": [
      "Testfig Saved\n",
      "10.223225361905618 meter / second -1.2552542370730213 meter / second Bunkers motion components\n",
      "[8.413167452926688] meter / second [-1.9856187391953206] meter / second Observed motion components\n",
      "Figure Saved\n",
      "in loop\n",
      "19\n",
      "in loop\n",
      "19\n",
      "in loop\n",
      "19\n",
      "in loop\n",
      "19\n",
      "in loop\n",
      "19\n",
      "in loop\n",
      "19\n",
      "Pre-grid Organization Section\n",
      "KDP Section\n",
      "Grid Section\n"
     ]
    },
    {
     "name": "stderr",
     "output_type": "stream",
     "text": [
      "C:\\Users\\matts\\AppData\\Local\\Continuum\\anaconda3\\envs\\radar\\lib\\site-packages\\pyart\\map\\gates_to_grid.py:177: DeprecationWarning: Barnes weighting function is deprecated. Please use Barnes 2 to be consistent with Pauley and Wu 1990.\n",
      "  \" Pauley and Wu 1990.\", DeprecationWarning)\n"
     ]
    },
    {
     "name": "stdout",
     "output_type": "stream",
     "text": [
      "(-98.23255157470703, 36.9969482421875, <cartopy.crs.PlateCarree object at 0x0000024BDD9B42E8>)\n"
     ]
    },
    {
     "name": "stderr",
     "output_type": "stream",
     "text": [
      "C:\\Users\\matts\\AppData\\Local\\Continuum\\anaconda3\\envs\\radar\\lib\\site-packages\\cartopy\\mpl\\geoaxes.py:1366: UserWarning: The following kwargs were not used by contour: 'linestyle'\n",
      "  result = matplotlib.axes.Axes.contour(self, *args, **kwargs)\n"
     ]
    },
    {
     "name": "stdout",
     "output_type": "stream",
     "text": [
      "0 storm id\n",
      "-97.53535077121245 storm lon\n",
      "39.10425298229562 storm lat\n",
      "length of obs 16\n",
      "(8.350596372944864, 287.8814509181543)\n"
     ]
    },
    {
     "name": "stderr",
     "output_type": "stream",
     "text": [
      "C:\\Users\\matts\\Documents\\Python Scripts\\SPORK\\radar_storm_motion.py:9: DeprecationWarning: parsing timezone aware datetimes is deprecated; this will raise an error in the future\n",
      "  stormdte = (np.datetime64(end_time) - np.datetime64('1970-01-01T00:00:00Z')) / np.timedelta64(1, 's')\n",
      "C:\\Users\\matts\\Documents\\Python Scripts\\SPORK\\radar_storm_motion.py:11: DeprecationWarning: parsing timezone aware datetimes is deprecated; this will raise an error in the future\n",
      "  stormdti = (start_time - np.datetime64('1970-01-01T00:00:00Z')) / np.timedelta64(1, 's')\n",
      "C:\\Users\\matts\\Documents\\Python Scripts\\SPORK\\radar_storm_motion.py:9: DeprecationWarning: parsing timezone aware datetimes is deprecated; this will raise an error in the future\n",
      "  stormdte = (np.datetime64(end_time) - np.datetime64('1970-01-01T00:00:00Z')) / np.timedelta64(1, 's')\n",
      "C:\\Users\\matts\\Documents\\Python Scripts\\SPORK\\radar_storm_motion.py:11: DeprecationWarning: parsing timezone aware datetimes is deprecated; this will raise an error in the future\n",
      "  stormdti = (start_time - np.datetime64('1970-01-01T00:00:00Z')) / np.timedelta64(1, 's')\n"
     ]
    },
    {
     "name": "stdout",
     "output_type": "stream",
     "text": [
      "Testfig Saved\n",
      "10.223225361905618 meter / second -1.2552542370730213 meter / second Bunkers motion components\n",
      "[7.94721128232107] meter / second [-2.5640383417547805] meter / second Observed motion components\n",
      "Figure Saved\n",
      "in loop\n",
      "19\n",
      "in loop\n",
      "19\n",
      "in loop\n",
      "19\n",
      "in loop\n",
      "19\n",
      "in loop\n",
      "19\n",
      "in loop\n",
      "19\n",
      "Pre-grid Organization Section\n",
      "KDP Section\n",
      "Grid Section\n"
     ]
    },
    {
     "name": "stderr",
     "output_type": "stream",
     "text": [
      "C:\\Users\\matts\\AppData\\Local\\Continuum\\anaconda3\\envs\\radar\\lib\\site-packages\\pyart\\map\\gates_to_grid.py:177: DeprecationWarning: Barnes weighting function is deprecated. Please use Barnes 2 to be consistent with Pauley and Wu 1990.\n",
      "  \" Pauley and Wu 1990.\", DeprecationWarning)\n"
     ]
    },
    {
     "name": "stdout",
     "output_type": "stream",
     "text": [
      "(-98.23255157470703, 36.9969482421875, <cartopy.crs.PlateCarree object at 0x0000024BBFA2CFA8>)\n"
     ]
    },
    {
     "name": "stderr",
     "output_type": "stream",
     "text": [
      "C:\\Users\\matts\\AppData\\Local\\Continuum\\anaconda3\\envs\\radar\\lib\\site-packages\\cartopy\\mpl\\geoaxes.py:1366: UserWarning: The following kwargs were not used by contour: 'linestyle'\n",
      "  result = matplotlib.axes.Axes.contour(self, *args, **kwargs)\n"
     ]
    },
    {
     "name": "stdout",
     "output_type": "stream",
     "text": [
      "0 storm id\n",
      "-97.52674437931557 storm lon\n",
      "39.10300216461353 storm lat\n",
      "length of obs 17\n",
      "(8.466137887137997, 291.2374077167875)\n"
     ]
    },
    {
     "name": "stderr",
     "output_type": "stream",
     "text": [
      "C:\\Users\\matts\\Documents\\Python Scripts\\SPORK\\radar_storm_motion.py:9: DeprecationWarning: parsing timezone aware datetimes is deprecated; this will raise an error in the future\n",
      "  stormdte = (np.datetime64(end_time) - np.datetime64('1970-01-01T00:00:00Z')) / np.timedelta64(1, 's')\n",
      "C:\\Users\\matts\\Documents\\Python Scripts\\SPORK\\radar_storm_motion.py:11: DeprecationWarning: parsing timezone aware datetimes is deprecated; this will raise an error in the future\n",
      "  stormdti = (start_time - np.datetime64('1970-01-01T00:00:00Z')) / np.timedelta64(1, 's')\n",
      "C:\\Users\\matts\\Documents\\Python Scripts\\SPORK\\radar_storm_motion.py:9: DeprecationWarning: parsing timezone aware datetimes is deprecated; this will raise an error in the future\n",
      "  stormdte = (np.datetime64(end_time) - np.datetime64('1970-01-01T00:00:00Z')) / np.timedelta64(1, 's')\n",
      "C:\\Users\\matts\\Documents\\Python Scripts\\SPORK\\radar_storm_motion.py:11: DeprecationWarning: parsing timezone aware datetimes is deprecated; this will raise an error in the future\n",
      "  stormdti = (start_time - np.datetime64('1970-01-01T00:00:00Z')) / np.timedelta64(1, 's')\n"
     ]
    },
    {
     "name": "stdout",
     "output_type": "stream",
     "text": [
      "Testfig Saved\n",
      "10.223225361905618 meter / second -1.2552542370730213 meter / second Bunkers motion components\n",
      "[7.891181316896334] meter / second [-3.066716183134602] meter / second Observed motion components\n",
      "Figure Saved\n",
      "in loop\n",
      "19\n",
      "in loop\n",
      "19\n",
      "in loop\n",
      "19\n",
      "in loop\n",
      "19\n",
      "in loop\n",
      "19\n",
      "in loop\n",
      "19\n",
      "File Reading\n",
      "in loop\n",
      "20\n",
      "Pre-grid Organization Section\n",
      "KDP Section\n",
      "Grid Section\n"
     ]
    },
    {
     "name": "stderr",
     "output_type": "stream",
     "text": [
      "C:\\Users\\matts\\AppData\\Local\\Continuum\\anaconda3\\envs\\radar\\lib\\site-packages\\pyart\\map\\gates_to_grid.py:177: DeprecationWarning: Barnes weighting function is deprecated. Please use Barnes 2 to be consistent with Pauley and Wu 1990.\n",
      "  \" Pauley and Wu 1990.\", DeprecationWarning)\n"
     ]
    },
    {
     "name": "stdout",
     "output_type": "stream",
     "text": [
      "(-98.23255157470703, 36.9969482421875, <cartopy.crs.PlateCarree object at 0x0000024BA6E41888>)\n"
     ]
    },
    {
     "name": "stderr",
     "output_type": "stream",
     "text": [
      "C:\\Users\\matts\\AppData\\Local\\Continuum\\anaconda3\\envs\\radar\\lib\\site-packages\\cartopy\\mpl\\geoaxes.py:1366: UserWarning: The following kwargs were not used by contour: 'linestyle'\n",
      "  result = matplotlib.axes.Axes.contour(self, *args, **kwargs)\n"
     ]
    },
    {
     "name": "stdout",
     "output_type": "stream",
     "text": [
      "0 storm id\n",
      "-97.51401634144068 storm lon\n",
      "39.10406628003991 storm lat\n",
      "length of obs 18\n",
      "(8.594211311286985, 291.92222959083574)\n"
     ]
    },
    {
     "name": "stderr",
     "output_type": "stream",
     "text": [
      "C:\\Users\\matts\\Documents\\Python Scripts\\SPORK\\radar_storm_motion.py:9: DeprecationWarning: parsing timezone aware datetimes is deprecated; this will raise an error in the future\n",
      "  stormdte = (np.datetime64(end_time) - np.datetime64('1970-01-01T00:00:00Z')) / np.timedelta64(1, 's')\n",
      "C:\\Users\\matts\\Documents\\Python Scripts\\SPORK\\radar_storm_motion.py:11: DeprecationWarning: parsing timezone aware datetimes is deprecated; this will raise an error in the future\n",
      "  stormdti = (start_time - np.datetime64('1970-01-01T00:00:00Z')) / np.timedelta64(1, 's')\n",
      "C:\\Users\\matts\\Documents\\Python Scripts\\SPORK\\radar_storm_motion.py:9: DeprecationWarning: parsing timezone aware datetimes is deprecated; this will raise an error in the future\n",
      "  stormdte = (np.datetime64(end_time) - np.datetime64('1970-01-01T00:00:00Z')) / np.timedelta64(1, 's')\n",
      "C:\\Users\\matts\\Documents\\Python Scripts\\SPORK\\radar_storm_motion.py:11: DeprecationWarning: parsing timezone aware datetimes is deprecated; this will raise an error in the future\n",
      "  stormdti = (start_time - np.datetime64('1970-01-01T00:00:00Z')) / np.timedelta64(1, 's')\n"
     ]
    },
    {
     "name": "stdout",
     "output_type": "stream",
     "text": [
      "Testfig Saved\n",
      "10.223225361905618 meter / second -1.2552542370730213 meter / second Bunkers motion components\n",
      "[7.972776545804608] meter / second [-3.208629335669843] meter / second Observed motion components\n",
      "Figure Saved\n",
      "in loop\n",
      "20\n",
      "in loop\n",
      "20\n",
      "in loop\n",
      "20\n",
      "in loop\n",
      "20\n",
      "in loop\n",
      "20\n",
      "in loop\n",
      "20\n",
      "Pre-grid Organization Section\n",
      "KDP Section\n",
      "Grid Section\n"
     ]
    },
    {
     "name": "stderr",
     "output_type": "stream",
     "text": [
      "C:\\Users\\matts\\AppData\\Local\\Continuum\\anaconda3\\envs\\radar\\lib\\site-packages\\pyart\\map\\gates_to_grid.py:177: DeprecationWarning: Barnes weighting function is deprecated. Please use Barnes 2 to be consistent with Pauley and Wu 1990.\n",
      "  \" Pauley and Wu 1990.\", DeprecationWarning)\n"
     ]
    },
    {
     "name": "stdout",
     "output_type": "stream",
     "text": [
      "(-98.23255157470703, 36.9969482421875, <cartopy.crs.PlateCarree object at 0x0000024BA6E0D3A8>)\n"
     ]
    },
    {
     "name": "stderr",
     "output_type": "stream",
     "text": [
      "C:\\Users\\matts\\AppData\\Local\\Continuum\\anaconda3\\envs\\radar\\lib\\site-packages\\cartopy\\mpl\\geoaxes.py:1366: UserWarning: The following kwargs were not used by contour: 'linestyle'\n",
      "  result = matplotlib.axes.Axes.contour(self, *args, **kwargs)\n"
     ]
    },
    {
     "name": "stdout",
     "output_type": "stream",
     "text": [
      "0 storm id\n",
      "-97.50495397420761 storm lon\n",
      "39.10305610836112 storm lat\n",
      "length of obs 19\n",
      "(9.219097122384888, 294.07509891877976)\n"
     ]
    },
    {
     "name": "stderr",
     "output_type": "stream",
     "text": [
      "C:\\Users\\matts\\Documents\\Python Scripts\\SPORK\\radar_storm_motion.py:9: DeprecationWarning: parsing timezone aware datetimes is deprecated; this will raise an error in the future\n",
      "  stormdte = (np.datetime64(end_time) - np.datetime64('1970-01-01T00:00:00Z')) / np.timedelta64(1, 's')\n",
      "C:\\Users\\matts\\Documents\\Python Scripts\\SPORK\\radar_storm_motion.py:11: DeprecationWarning: parsing timezone aware datetimes is deprecated; this will raise an error in the future\n",
      "  stormdti = (start_time - np.datetime64('1970-01-01T00:00:00Z')) / np.timedelta64(1, 's')\n",
      "C:\\Users\\matts\\Documents\\Python Scripts\\SPORK\\radar_storm_motion.py:9: DeprecationWarning: parsing timezone aware datetimes is deprecated; this will raise an error in the future\n",
      "  stormdte = (np.datetime64(end_time) - np.datetime64('1970-01-01T00:00:00Z')) / np.timedelta64(1, 's')\n",
      "C:\\Users\\matts\\Documents\\Python Scripts\\SPORK\\radar_storm_motion.py:11: DeprecationWarning: parsing timezone aware datetimes is deprecated; this will raise an error in the future\n",
      "  stormdti = (start_time - np.datetime64('1970-01-01T00:00:00Z')) / np.timedelta64(1, 's')\n"
     ]
    },
    {
     "name": "stdout",
     "output_type": "stream",
     "text": [
      "Testfig Saved\n",
      "10.223225361905618 meter / second -1.2552542370730213 meter / second Bunkers motion components\n",
      "[8.41714218859125] meter / second [-3.76078038829744] meter / second Observed motion components\n",
      "Figure Saved\n",
      "in loop\n",
      "20\n",
      "in loop\n",
      "20\n",
      "in loop\n",
      "20\n",
      "in loop\n",
      "20\n",
      "in loop\n",
      "20\n",
      "in loop\n",
      "20\n",
      "Pre-grid Organization Section\n",
      "KDP Section\n",
      "Grid Section\n"
     ]
    },
    {
     "name": "stderr",
     "output_type": "stream",
     "text": [
      "C:\\Users\\matts\\AppData\\Local\\Continuum\\anaconda3\\envs\\radar\\lib\\site-packages\\pyart\\map\\gates_to_grid.py:177: DeprecationWarning: Barnes weighting function is deprecated. Please use Barnes 2 to be consistent with Pauley and Wu 1990.\n",
      "  \" Pauley and Wu 1990.\", DeprecationWarning)\n"
     ]
    },
    {
     "name": "stdout",
     "output_type": "stream",
     "text": [
      "(-98.23255157470703, 36.9969482421875, <cartopy.crs.PlateCarree object at 0x0000024BA6E0D168>)\n"
     ]
    },
    {
     "name": "stderr",
     "output_type": "stream",
     "text": [
      "C:\\Users\\matts\\AppData\\Local\\Continuum\\anaconda3\\envs\\radar\\lib\\site-packages\\cartopy\\mpl\\geoaxes.py:1366: UserWarning: The following kwargs were not used by contour: 'linestyle'\n",
      "  result = matplotlib.axes.Axes.contour(self, *args, **kwargs)\n"
     ]
    },
    {
     "name": "stdout",
     "output_type": "stream",
     "text": [
      "0 storm id\n",
      "-97.4947468791444 storm lon\n",
      "39.10511421715142 storm lat\n",
      "length of obs 20\n",
      "(10.482528324049927, 289.537385560133)\n"
     ]
    },
    {
     "name": "stderr",
     "output_type": "stream",
     "text": [
      "C:\\Users\\matts\\Documents\\Python Scripts\\SPORK\\radar_storm_motion.py:9: DeprecationWarning: parsing timezone aware datetimes is deprecated; this will raise an error in the future\n",
      "  stormdte = (np.datetime64(end_time) - np.datetime64('1970-01-01T00:00:00Z')) / np.timedelta64(1, 's')\n",
      "C:\\Users\\matts\\Documents\\Python Scripts\\SPORK\\radar_storm_motion.py:11: DeprecationWarning: parsing timezone aware datetimes is deprecated; this will raise an error in the future\n",
      "  stormdti = (start_time - np.datetime64('1970-01-01T00:00:00Z')) / np.timedelta64(1, 's')\n",
      "C:\\Users\\matts\\Documents\\Python Scripts\\SPORK\\radar_storm_motion.py:9: DeprecationWarning: parsing timezone aware datetimes is deprecated; this will raise an error in the future\n",
      "  stormdte = (np.datetime64(end_time) - np.datetime64('1970-01-01T00:00:00Z')) / np.timedelta64(1, 's')\n",
      "C:\\Users\\matts\\Documents\\Python Scripts\\SPORK\\radar_storm_motion.py:11: DeprecationWarning: parsing timezone aware datetimes is deprecated; this will raise an error in the future\n",
      "  stormdti = (start_time - np.datetime64('1970-01-01T00:00:00Z')) / np.timedelta64(1, 's')\n"
     ]
    },
    {
     "name": "stdout",
     "output_type": "stream",
     "text": [
      "Testfig Saved\n",
      "10.223225361905618 meter / second -1.2552542370730213 meter / second Bunkers motion components\n",
      "[9.878980833782794] meter / second [-3.5055866485170752] meter / second Observed motion components\n",
      "Figure Saved\n",
      "in loop\n",
      "20\n",
      "in loop\n",
      "20\n",
      "in loop\n",
      "20\n",
      "in loop\n",
      "20\n",
      "in loop\n",
      "20\n",
      "in loop\n",
      "20\n",
      "in loop\n",
      "20\n",
      "File Reading\n",
      "in loop\n",
      "19\n",
      "Pre-grid Organization Section\n",
      "KDP Section\n",
      "Grid Section\n"
     ]
    },
    {
     "name": "stderr",
     "output_type": "stream",
     "text": [
      "C:\\Users\\matts\\AppData\\Local\\Continuum\\anaconda3\\envs\\radar\\lib\\site-packages\\pyart\\map\\gates_to_grid.py:177: DeprecationWarning: Barnes weighting function is deprecated. Please use Barnes 2 to be consistent with Pauley and Wu 1990.\n",
      "  \" Pauley and Wu 1990.\", DeprecationWarning)\n"
     ]
    },
    {
     "name": "stdout",
     "output_type": "stream",
     "text": [
      "(-98.23255157470703, 36.9969482421875, <cartopy.crs.PlateCarree object at 0x0000024BA6DC4288>)\n"
     ]
    },
    {
     "name": "stderr",
     "output_type": "stream",
     "text": [
      "C:\\Users\\matts\\AppData\\Local\\Continuum\\anaconda3\\envs\\radar\\lib\\site-packages\\cartopy\\mpl\\geoaxes.py:1366: UserWarning: The following kwargs were not used by contour: 'linestyle'\n",
      "  result = matplotlib.axes.Axes.contour(self, *args, **kwargs)\n"
     ]
    },
    {
     "name": "stdout",
     "output_type": "stream",
     "text": [
      "0 storm id\n",
      "-97.48831809774076 storm lon\n",
      "39.10253850627701 storm lat\n",
      "length of obs 21\n",
      "(10.302265616365233, 288.8035990614109)\n"
     ]
    },
    {
     "name": "stderr",
     "output_type": "stream",
     "text": [
      "C:\\Users\\matts\\Documents\\Python Scripts\\SPORK\\radar_storm_motion.py:9: DeprecationWarning: parsing timezone aware datetimes is deprecated; this will raise an error in the future\n",
      "  stormdte = (np.datetime64(end_time) - np.datetime64('1970-01-01T00:00:00Z')) / np.timedelta64(1, 's')\n",
      "C:\\Users\\matts\\Documents\\Python Scripts\\SPORK\\radar_storm_motion.py:11: DeprecationWarning: parsing timezone aware datetimes is deprecated; this will raise an error in the future\n",
      "  stormdti = (start_time - np.datetime64('1970-01-01T00:00:00Z')) / np.timedelta64(1, 's')\n",
      "C:\\Users\\matts\\Documents\\Python Scripts\\SPORK\\radar_storm_motion.py:9: DeprecationWarning: parsing timezone aware datetimes is deprecated; this will raise an error in the future\n",
      "  stormdte = (np.datetime64(end_time) - np.datetime64('1970-01-01T00:00:00Z')) / np.timedelta64(1, 's')\n",
      "C:\\Users\\matts\\Documents\\Python Scripts\\SPORK\\radar_storm_motion.py:11: DeprecationWarning: parsing timezone aware datetimes is deprecated; this will raise an error in the future\n",
      "  stormdti = (start_time - np.datetime64('1970-01-01T00:00:00Z')) / np.timedelta64(1, 's')\n"
     ]
    },
    {
     "name": "stdout",
     "output_type": "stream",
     "text": [
      "Testfig Saved\n",
      "10.223225361905618 meter / second -1.2552542370730213 meter / second Bunkers motion components\n",
      "[9.75242355244553] meter / second [-3.320679400942977] meter / second Observed motion components\n",
      "Figure Saved\n",
      "in loop\n",
      "19\n",
      "in loop\n",
      "19\n",
      "in loop\n",
      "19\n",
      "in loop\n",
      "19\n",
      "in loop\n",
      "19\n",
      "in loop\n",
      "19\n",
      "Pre-grid Organization Section\n",
      "KDP Section\n",
      "Grid Section\n"
     ]
    },
    {
     "name": "stderr",
     "output_type": "stream",
     "text": [
      "C:\\Users\\matts\\AppData\\Local\\Continuum\\anaconda3\\envs\\radar\\lib\\site-packages\\pyart\\map\\gates_to_grid.py:177: DeprecationWarning: Barnes weighting function is deprecated. Please use Barnes 2 to be consistent with Pauley and Wu 1990.\n",
      "  \" Pauley and Wu 1990.\", DeprecationWarning)\n"
     ]
    },
    {
     "name": "stdout",
     "output_type": "stream",
     "text": [
      "(-98.23255157470703, 36.9969482421875, <cartopy.crs.PlateCarree object at 0x0000024BA70AFEE8>)\n"
     ]
    },
    {
     "name": "stderr",
     "output_type": "stream",
     "text": [
      "C:\\Users\\matts\\AppData\\Local\\Continuum\\anaconda3\\envs\\radar\\lib\\site-packages\\cartopy\\mpl\\geoaxes.py:1366: UserWarning: The following kwargs were not used by contour: 'linestyle'\n",
      "  result = matplotlib.axes.Axes.contour(self, *args, **kwargs)\n"
     ]
    },
    {
     "name": "stdout",
     "output_type": "stream",
     "text": [
      "0 storm id\n",
      "-97.47733457951112 storm lon\n",
      "39.101895184245535 storm lat\n",
      "length of obs 22\n",
      "(9.750299672181777, 285.1886715304046)\n"
     ]
    },
    {
     "name": "stderr",
     "output_type": "stream",
     "text": [
      "C:\\Users\\matts\\Documents\\Python Scripts\\SPORK\\radar_storm_motion.py:9: DeprecationWarning: parsing timezone aware datetimes is deprecated; this will raise an error in the future\n",
      "  stormdte = (np.datetime64(end_time) - np.datetime64('1970-01-01T00:00:00Z')) / np.timedelta64(1, 's')\n",
      "C:\\Users\\matts\\Documents\\Python Scripts\\SPORK\\radar_storm_motion.py:11: DeprecationWarning: parsing timezone aware datetimes is deprecated; this will raise an error in the future\n",
      "  stormdti = (start_time - np.datetime64('1970-01-01T00:00:00Z')) / np.timedelta64(1, 's')\n",
      "C:\\Users\\matts\\Documents\\Python Scripts\\SPORK\\radar_storm_motion.py:9: DeprecationWarning: parsing timezone aware datetimes is deprecated; this will raise an error in the future\n",
      "  stormdte = (np.datetime64(end_time) - np.datetime64('1970-01-01T00:00:00Z')) / np.timedelta64(1, 's')\n",
      "C:\\Users\\matts\\Documents\\Python Scripts\\SPORK\\radar_storm_motion.py:11: DeprecationWarning: parsing timezone aware datetimes is deprecated; this will raise an error in the future\n",
      "  stormdti = (start_time - np.datetime64('1970-01-01T00:00:00Z')) / np.timedelta64(1, 's')\n"
     ]
    },
    {
     "name": "stdout",
     "output_type": "stream",
     "text": [
      "Testfig Saved\n",
      "10.223225361905618 meter / second -1.2552542370730213 meter / second Bunkers motion components\n",
      "[9.409705279434837] meter / second [-2.554562634096926] meter / second Observed motion components\n",
      "Figure Saved\n",
      "in loop\n",
      "19\n",
      "in loop\n",
      "19\n",
      "in loop\n",
      "19\n",
      "in loop\n",
      "19\n",
      "in loop\n",
      "19\n",
      "in loop\n",
      "19\n",
      "in loop\n",
      "19\n",
      "Pre-grid Organization Section\n",
      "KDP Section\n",
      "Grid Section\n"
     ]
    },
    {
     "name": "stderr",
     "output_type": "stream",
     "text": [
      "C:\\Users\\matts\\AppData\\Local\\Continuum\\anaconda3\\envs\\radar\\lib\\site-packages\\pyart\\map\\gates_to_grid.py:177: DeprecationWarning: Barnes weighting function is deprecated. Please use Barnes 2 to be consistent with Pauley and Wu 1990.\n",
      "  \" Pauley and Wu 1990.\", DeprecationWarning)\n"
     ]
    },
    {
     "name": "stdout",
     "output_type": "stream",
     "text": [
      "(-98.23255157470703, 36.9969482421875, <cartopy.crs.PlateCarree object at 0x0000024BDD9ADE28>)\n"
     ]
    },
    {
     "name": "stderr",
     "output_type": "stream",
     "text": [
      "C:\\Users\\matts\\AppData\\Local\\Continuum\\anaconda3\\envs\\radar\\lib\\site-packages\\cartopy\\mpl\\geoaxes.py:1366: UserWarning: The following kwargs were not used by contour: 'linestyle'\n",
      "  result = matplotlib.axes.Axes.contour(self, *args, **kwargs)\n"
     ]
    },
    {
     "name": "stdout",
     "output_type": "stream",
     "text": [
      "0 storm id\n",
      "-97.46760332655538 storm lon\n",
      "39.100775905507824 storm lat\n",
      "length of obs 23\n",
      "(8.669371841199844, 280.0350369910272)\n"
     ]
    },
    {
     "name": "stderr",
     "output_type": "stream",
     "text": [
      "C:\\Users\\matts\\Documents\\Python Scripts\\SPORK\\radar_storm_motion.py:9: DeprecationWarning: parsing timezone aware datetimes is deprecated; this will raise an error in the future\n",
      "  stormdte = (np.datetime64(end_time) - np.datetime64('1970-01-01T00:00:00Z')) / np.timedelta64(1, 's')\n",
      "C:\\Users\\matts\\Documents\\Python Scripts\\SPORK\\radar_storm_motion.py:11: DeprecationWarning: parsing timezone aware datetimes is deprecated; this will raise an error in the future\n",
      "  stormdti = (start_time - np.datetime64('1970-01-01T00:00:00Z')) / np.timedelta64(1, 's')\n",
      "C:\\Users\\matts\\Documents\\Python Scripts\\SPORK\\radar_storm_motion.py:9: DeprecationWarning: parsing timezone aware datetimes is deprecated; this will raise an error in the future\n",
      "  stormdte = (np.datetime64(end_time) - np.datetime64('1970-01-01T00:00:00Z')) / np.timedelta64(1, 's')\n",
      "C:\\Users\\matts\\Documents\\Python Scripts\\SPORK\\radar_storm_motion.py:11: DeprecationWarning: parsing timezone aware datetimes is deprecated; this will raise an error in the future\n",
      "  stormdti = (start_time - np.datetime64('1970-01-01T00:00:00Z')) / np.timedelta64(1, 's')\n"
     ]
    },
    {
     "name": "stdout",
     "output_type": "stream",
     "text": [
      "Testfig Saved\n",
      "10.223225361905618 meter / second -1.2552542370730213 meter / second Bunkers motion components\n",
      "[8.536742425656868] meter / second [-1.5106412145108608] meter / second Observed motion components\n",
      "Figure Saved\n",
      "in loop\n",
      "19\n",
      "in loop\n",
      "19\n",
      "in loop\n",
      "19\n",
      "in loop\n",
      "19\n",
      "in loop\n",
      "19\n",
      "File Reading\n",
      "in loop\n",
      "20\n",
      "Pre-grid Organization Section\n",
      "KDP Section\n",
      "Grid Section\n"
     ]
    },
    {
     "name": "stderr",
     "output_type": "stream",
     "text": [
      "C:\\Users\\matts\\AppData\\Local\\Continuum\\anaconda3\\envs\\radar\\lib\\site-packages\\pyart\\map\\gates_to_grid.py:177: DeprecationWarning: Barnes weighting function is deprecated. Please use Barnes 2 to be consistent with Pauley and Wu 1990.\n",
      "  \" Pauley and Wu 1990.\", DeprecationWarning)\n"
     ]
    },
    {
     "name": "stdout",
     "output_type": "stream",
     "text": [
      "(-98.23255157470703, 36.9969482421875, <cartopy.crs.PlateCarree object at 0x0000024BECBC39A8>)\n"
     ]
    },
    {
     "name": "stderr",
     "output_type": "stream",
     "text": [
      "C:\\Users\\matts\\AppData\\Local\\Continuum\\anaconda3\\envs\\radar\\lib\\site-packages\\cartopy\\mpl\\geoaxes.py:1366: UserWarning: The following kwargs were not used by contour: 'linestyle'\n",
      "  result = matplotlib.axes.Axes.contour(self, *args, **kwargs)\n"
     ]
    },
    {
     "name": "stdout",
     "output_type": "stream",
     "text": [
      "0 storm id\n",
      "-97.460075714802 storm lon\n",
      "39.09905096668995 storm lat\n",
      "length of obs 24\n",
      "(8.02734280562559, 280.7321481993289)\n"
     ]
    },
    {
     "name": "stderr",
     "output_type": "stream",
     "text": [
      "C:\\Users\\matts\\Documents\\Python Scripts\\SPORK\\radar_storm_motion.py:9: DeprecationWarning: parsing timezone aware datetimes is deprecated; this will raise an error in the future\n",
      "  stormdte = (np.datetime64(end_time) - np.datetime64('1970-01-01T00:00:00Z')) / np.timedelta64(1, 's')\n",
      "C:\\Users\\matts\\Documents\\Python Scripts\\SPORK\\radar_storm_motion.py:11: DeprecationWarning: parsing timezone aware datetimes is deprecated; this will raise an error in the future\n",
      "  stormdti = (start_time - np.datetime64('1970-01-01T00:00:00Z')) / np.timedelta64(1, 's')\n",
      "C:\\Users\\matts\\Documents\\Python Scripts\\SPORK\\radar_storm_motion.py:9: DeprecationWarning: parsing timezone aware datetimes is deprecated; this will raise an error in the future\n",
      "  stormdte = (np.datetime64(end_time) - np.datetime64('1970-01-01T00:00:00Z')) / np.timedelta64(1, 's')\n",
      "C:\\Users\\matts\\Documents\\Python Scripts\\SPORK\\radar_storm_motion.py:11: DeprecationWarning: parsing timezone aware datetimes is deprecated; this will raise an error in the future\n",
      "  stormdti = (start_time - np.datetime64('1970-01-01T00:00:00Z')) / np.timedelta64(1, 's')\n"
     ]
    },
    {
     "name": "stdout",
     "output_type": "stream",
     "text": [
      "Testfig Saved\n",
      "10.223225361905618 meter / second -1.2552542370730213 meter / second Bunkers motion components\n",
      "[7.886932264686684] meter / second [-1.494835098354697] meter / second Observed motion components\n",
      "Figure Saved\n",
      "in loop\n",
      "20\n",
      "in loop\n",
      "20\n",
      "in loop\n",
      "20\n",
      "in loop\n",
      "20\n",
      "in loop\n",
      "20\n",
      "in loop\n",
      "20\n",
      "Pre-grid Organization Section\n",
      "KDP Section\n",
      "Grid Section\n"
     ]
    },
    {
     "name": "stderr",
     "output_type": "stream",
     "text": [
      "C:\\Users\\matts\\AppData\\Local\\Continuum\\anaconda3\\envs\\radar\\lib\\site-packages\\pyart\\map\\gates_to_grid.py:177: DeprecationWarning: Barnes weighting function is deprecated. Please use Barnes 2 to be consistent with Pauley and Wu 1990.\n",
      "  \" Pauley and Wu 1990.\", DeprecationWarning)\n"
     ]
    },
    {
     "name": "stdout",
     "output_type": "stream",
     "text": [
      "(-98.23255157470703, 36.9969482421875, <cartopy.crs.PlateCarree object at 0x0000024BECBC3AC8>)\n"
     ]
    },
    {
     "name": "stderr",
     "output_type": "stream",
     "text": [
      "C:\\Users\\matts\\AppData\\Local\\Continuum\\anaconda3\\envs\\radar\\lib\\site-packages\\cartopy\\mpl\\geoaxes.py:1366: UserWarning: The following kwargs were not used by contour: 'linestyle'\n",
      "  result = matplotlib.axes.Axes.contour(self, *args, **kwargs)\n"
     ]
    },
    {
     "name": "stdout",
     "output_type": "stream",
     "text": [
      "0 storm id\n",
      "-97.44808845176111 storm lon\n",
      "39.09613564817926 storm lat\n",
      "length of obs 25\n",
      "(7.766621771648921, 281.03686508679556)\n"
     ]
    },
    {
     "name": "stderr",
     "output_type": "stream",
     "text": [
      "C:\\Users\\matts\\Documents\\Python Scripts\\SPORK\\radar_storm_motion.py:9: DeprecationWarning: parsing timezone aware datetimes is deprecated; this will raise an error in the future\n",
      "  stormdte = (np.datetime64(end_time) - np.datetime64('1970-01-01T00:00:00Z')) / np.timedelta64(1, 's')\n",
      "C:\\Users\\matts\\Documents\\Python Scripts\\SPORK\\radar_storm_motion.py:11: DeprecationWarning: parsing timezone aware datetimes is deprecated; this will raise an error in the future\n",
      "  stormdti = (start_time - np.datetime64('1970-01-01T00:00:00Z')) / np.timedelta64(1, 's')\n",
      "C:\\Users\\matts\\Documents\\Python Scripts\\SPORK\\radar_storm_motion.py:9: DeprecationWarning: parsing timezone aware datetimes is deprecated; this will raise an error in the future\n",
      "  stormdte = (np.datetime64(end_time) - np.datetime64('1970-01-01T00:00:00Z')) / np.timedelta64(1, 's')\n",
      "C:\\Users\\matts\\Documents\\Python Scripts\\SPORK\\radar_storm_motion.py:11: DeprecationWarning: parsing timezone aware datetimes is deprecated; this will raise an error in the future\n",
      "  stormdti = (start_time - np.datetime64('1970-01-01T00:00:00Z')) / np.timedelta64(1, 's')\n"
     ]
    },
    {
     "name": "stdout",
     "output_type": "stream",
     "text": [
      "Testfig Saved\n",
      "10.223225361905618 meter / second -1.2552542370730213 meter / second Bunkers motion components\n",
      "[7.62297197013801] meter / second [-1.4868463559969025] meter / second Observed motion components\n",
      "Figure Saved\n",
      "in loop\n",
      "20\n",
      "in loop\n",
      "20\n",
      "in loop\n",
      "20\n",
      "in loop\n",
      "20\n",
      "in loop\n",
      "20\n",
      "in loop\n",
      "20\n",
      "Pre-grid Organization Section\n",
      "KDP Section\n",
      "Grid Section\n"
     ]
    },
    {
     "name": "stderr",
     "output_type": "stream",
     "text": [
      "C:\\Users\\matts\\AppData\\Local\\Continuum\\anaconda3\\envs\\radar\\lib\\site-packages\\pyart\\map\\gates_to_grid.py:177: DeprecationWarning: Barnes weighting function is deprecated. Please use Barnes 2 to be consistent with Pauley and Wu 1990.\n",
      "  \" Pauley and Wu 1990.\", DeprecationWarning)\n"
     ]
    },
    {
     "name": "stdout",
     "output_type": "stream",
     "text": [
      "(-98.23255157470703, 36.9969482421875, <cartopy.crs.PlateCarree object at 0x0000024BECBA9A68>)\n"
     ]
    },
    {
     "name": "stderr",
     "output_type": "stream",
     "text": [
      "C:\\Users\\matts\\AppData\\Local\\Continuum\\anaconda3\\envs\\radar\\lib\\site-packages\\cartopy\\mpl\\geoaxes.py:1366: UserWarning: The following kwargs were not used by contour: 'linestyle'\n",
      "  result = matplotlib.axes.Axes.contour(self, *args, **kwargs)\n"
     ]
    },
    {
     "name": "stdout",
     "output_type": "stream",
     "text": [
      "0 storm id\n",
      "-97.43824792837175 storm lon\n",
      "39.09591085977742 storm lat\n",
      "length of obs 26\n",
      "(7.615549285709167, 276.3476833228715)\n"
     ]
    },
    {
     "name": "stderr",
     "output_type": "stream",
     "text": [
      "C:\\Users\\matts\\Documents\\Python Scripts\\SPORK\\radar_storm_motion.py:9: DeprecationWarning: parsing timezone aware datetimes is deprecated; this will raise an error in the future\n",
      "  stormdte = (np.datetime64(end_time) - np.datetime64('1970-01-01T00:00:00Z')) / np.timedelta64(1, 's')\n",
      "C:\\Users\\matts\\Documents\\Python Scripts\\SPORK\\radar_storm_motion.py:11: DeprecationWarning: parsing timezone aware datetimes is deprecated; this will raise an error in the future\n",
      "  stormdti = (start_time - np.datetime64('1970-01-01T00:00:00Z')) / np.timedelta64(1, 's')\n",
      "C:\\Users\\matts\\Documents\\Python Scripts\\SPORK\\radar_storm_motion.py:9: DeprecationWarning: parsing timezone aware datetimes is deprecated; this will raise an error in the future\n",
      "  stormdte = (np.datetime64(end_time) - np.datetime64('1970-01-01T00:00:00Z')) / np.timedelta64(1, 's')\n",
      "C:\\Users\\matts\\Documents\\Python Scripts\\SPORK\\radar_storm_motion.py:11: DeprecationWarning: parsing timezone aware datetimes is deprecated; this will raise an error in the future\n",
      "  stormdti = (start_time - np.datetime64('1970-01-01T00:00:00Z')) / np.timedelta64(1, 's')\n"
     ]
    },
    {
     "name": "stdout",
     "output_type": "stream",
     "text": [
      "Testfig Saved\n",
      "10.223225361905618 meter / second -1.2552542370730213 meter / second Bunkers motion components\n",
      "[7.5688605383916485] meter / second [-0.841986385544981] meter / second Observed motion components\n",
      "Figure Saved\n",
      "in loop\n",
      "20\n",
      "in loop\n",
      "20\n",
      "in loop\n",
      "20\n",
      "in loop\n",
      "20\n",
      "in loop\n",
      "20\n",
      "in loop\n",
      "20\n",
      "in loop\n",
      "20\n",
      "File Reading\n",
      "in loop\n",
      "21\n",
      "Pre-grid Organization Section\n",
      "KDP Section\n",
      "Grid Section\n"
     ]
    },
    {
     "name": "stderr",
     "output_type": "stream",
     "text": [
      "C:\\Users\\matts\\AppData\\Local\\Continuum\\anaconda3\\envs\\radar\\lib\\site-packages\\pyart\\map\\gates_to_grid.py:177: DeprecationWarning: Barnes weighting function is deprecated. Please use Barnes 2 to be consistent with Pauley and Wu 1990.\n",
      "  \" Pauley and Wu 1990.\", DeprecationWarning)\n"
     ]
    },
    {
     "name": "stdout",
     "output_type": "stream",
     "text": [
      "(-98.23255157470703, 36.9969482421875, <cartopy.crs.PlateCarree object at 0x0000024BBB903288>)\n"
     ]
    },
    {
     "name": "stderr",
     "output_type": "stream",
     "text": [
      "C:\\Users\\matts\\AppData\\Local\\Continuum\\anaconda3\\envs\\radar\\lib\\site-packages\\cartopy\\mpl\\geoaxes.py:1366: UserWarning: The following kwargs were not used by contour: 'linestyle'\n",
      "  result = matplotlib.axes.Axes.contour(self, *args, **kwargs)\n",
      "C:\\Users\\matts\\Documents\\Python Scripts\\SPORK\\radar_storm_motion.py:9: DeprecationWarning: parsing timezone aware datetimes is deprecated; this will raise an error in the future\n",
      "  stormdte = (np.datetime64(end_time) - np.datetime64('1970-01-01T00:00:00Z')) / np.timedelta64(1, 's')\n",
      "C:\\Users\\matts\\Documents\\Python Scripts\\SPORK\\radar_storm_motion.py:11: DeprecationWarning: parsing timezone aware datetimes is deprecated; this will raise an error in the future\n",
      "  stormdti = (start_time - np.datetime64('1970-01-01T00:00:00Z')) / np.timedelta64(1, 's')\n",
      "C:\\Users\\matts\\Documents\\Python Scripts\\SPORK\\radar_storm_motion.py:9: DeprecationWarning: parsing timezone aware datetimes is deprecated; this will raise an error in the future\n",
      "  stormdte = (np.datetime64(end_time) - np.datetime64('1970-01-01T00:00:00Z')) / np.timedelta64(1, 's')\n",
      "C:\\Users\\matts\\Documents\\Python Scripts\\SPORK\\radar_storm_motion.py:11: DeprecationWarning: parsing timezone aware datetimes is deprecated; this will raise an error in the future\n",
      "  stormdti = (start_time - np.datetime64('1970-01-01T00:00:00Z')) / np.timedelta64(1, 's')\n"
     ]
    },
    {
     "name": "stdout",
     "output_type": "stream",
     "text": [
      "0 storm id\n",
      "-97.4258265383309 storm lon\n",
      "39.09391661327668 storm lat\n",
      "length of obs 27\n",
      "(7.710672125461759, 276.6489836756188)\n",
      "Testfig Saved\n",
      "10.223225361905618 meter / second -1.2552542370730213 meter / second Bunkers motion components\n",
      "[7.65881122252981] meter / second [-0.892790728012115] meter / second Observed motion components\n",
      "Figure Saved\n",
      "in loop\n",
      "21\n",
      "in loop\n",
      "21\n",
      "in loop\n",
      "21\n",
      "in loop\n",
      "21\n",
      "in loop\n",
      "21\n",
      "in loop\n",
      "21\n",
      "Pre-grid Organization Section\n",
      "KDP Section\n",
      "Grid Section\n"
     ]
    },
    {
     "name": "stderr",
     "output_type": "stream",
     "text": [
      "C:\\Users\\matts\\AppData\\Local\\Continuum\\anaconda3\\envs\\radar\\lib\\site-packages\\pyart\\map\\gates_to_grid.py:177: DeprecationWarning: Barnes weighting function is deprecated. Please use Barnes 2 to be consistent with Pauley and Wu 1990.\n",
      "  \" Pauley and Wu 1990.\", DeprecationWarning)\n"
     ]
    },
    {
     "name": "stdout",
     "output_type": "stream",
     "text": [
      "(-98.23255157470703, 36.9969482421875, <cartopy.crs.PlateCarree object at 0x0000024BBB9032E8>)\n"
     ]
    },
    {
     "name": "stderr",
     "output_type": "stream",
     "text": [
      "C:\\Users\\matts\\AppData\\Local\\Continuum\\anaconda3\\envs\\radar\\lib\\site-packages\\cartopy\\mpl\\geoaxes.py:1366: UserWarning: The following kwargs were not used by contour: 'linestyle'\n",
      "  result = matplotlib.axes.Axes.contour(self, *args, **kwargs)\n"
     ]
    },
    {
     "name": "stdout",
     "output_type": "stream",
     "text": [
      "0 storm id\n",
      "-97.40781872568525 storm lon\n",
      "39.089423049065594 storm lat\n",
      "length of obs 28\n",
      "(8.200872148785285, 280.10810160802083)\n"
     ]
    },
    {
     "name": "stderr",
     "output_type": "stream",
     "text": [
      "C:\\Users\\matts\\Documents\\Python Scripts\\SPORK\\radar_storm_motion.py:9: DeprecationWarning: parsing timezone aware datetimes is deprecated; this will raise an error in the future\n",
      "  stormdte = (np.datetime64(end_time) - np.datetime64('1970-01-01T00:00:00Z')) / np.timedelta64(1, 's')\n",
      "C:\\Users\\matts\\Documents\\Python Scripts\\SPORK\\radar_storm_motion.py:11: DeprecationWarning: parsing timezone aware datetimes is deprecated; this will raise an error in the future\n",
      "  stormdti = (start_time - np.datetime64('1970-01-01T00:00:00Z')) / np.timedelta64(1, 's')\n",
      "C:\\Users\\matts\\Documents\\Python Scripts\\SPORK\\radar_storm_motion.py:9: DeprecationWarning: parsing timezone aware datetimes is deprecated; this will raise an error in the future\n",
      "  stormdte = (np.datetime64(end_time) - np.datetime64('1970-01-01T00:00:00Z')) / np.timedelta64(1, 's')\n",
      "C:\\Users\\matts\\Documents\\Python Scripts\\SPORK\\radar_storm_motion.py:11: DeprecationWarning: parsing timezone aware datetimes is deprecated; this will raise an error in the future\n",
      "  stormdti = (start_time - np.datetime64('1970-01-01T00:00:00Z')) / np.timedelta64(1, 's')\n"
     ]
    },
    {
     "name": "stdout",
     "output_type": "stream",
     "text": [
      "Testfig Saved\n",
      "10.223225361905618 meter / second -1.2552542370730213 meter / second Bunkers motion components\n",
      "[8.073581272873893] meter / second [-1.4393017164660604] meter / second Observed motion components\n",
      "Figure Saved\n",
      "in loop\n",
      "21\n",
      "in loop\n",
      "21\n",
      "in loop\n",
      "21\n",
      "in loop\n",
      "21\n",
      "in loop\n",
      "21\n",
      "in loop\n",
      "21\n",
      "in loop\n",
      "21\n",
      "Pre-grid Organization Section\n",
      "KDP Section\n",
      "Grid Section\n"
     ]
    },
    {
     "name": "stderr",
     "output_type": "stream",
     "text": [
      "C:\\Users\\matts\\AppData\\Local\\Continuum\\anaconda3\\envs\\radar\\lib\\site-packages\\pyart\\map\\gates_to_grid.py:177: DeprecationWarning: Barnes weighting function is deprecated. Please use Barnes 2 to be consistent with Pauley and Wu 1990.\n",
      "  \" Pauley and Wu 1990.\", DeprecationWarning)\n"
     ]
    },
    {
     "name": "stdout",
     "output_type": "stream",
     "text": [
      "(-98.23255157470703, 36.9969482421875, <cartopy.crs.PlateCarree object at 0x0000024BA6EA06A8>)\n"
     ]
    },
    {
     "name": "stderr",
     "output_type": "stream",
     "text": [
      "C:\\Users\\matts\\AppData\\Local\\Continuum\\anaconda3\\envs\\radar\\lib\\site-packages\\cartopy\\mpl\\geoaxes.py:1366: UserWarning: The following kwargs were not used by contour: 'linestyle'\n",
      "  result = matplotlib.axes.Axes.contour(self, *args, **kwargs)\n"
     ]
    },
    {
     "name": "stdout",
     "output_type": "stream",
     "text": [
      "0 storm id\n",
      "-97.39404765657731 storm lon\n",
      "39.088997857233956 storm lat\n",
      "length of obs 29\n",
      "(8.604904264024178, 279.31111391913555)\n"
     ]
    },
    {
     "name": "stderr",
     "output_type": "stream",
     "text": [
      "C:\\Users\\matts\\Documents\\Python Scripts\\SPORK\\radar_storm_motion.py:9: DeprecationWarning: parsing timezone aware datetimes is deprecated; this will raise an error in the future\n",
      "  stormdte = (np.datetime64(end_time) - np.datetime64('1970-01-01T00:00:00Z')) / np.timedelta64(1, 's')\n",
      "C:\\Users\\matts\\Documents\\Python Scripts\\SPORK\\radar_storm_motion.py:11: DeprecationWarning: parsing timezone aware datetimes is deprecated; this will raise an error in the future\n",
      "  stormdti = (start_time - np.datetime64('1970-01-01T00:00:00Z')) / np.timedelta64(1, 's')\n",
      "C:\\Users\\matts\\Documents\\Python Scripts\\SPORK\\radar_storm_motion.py:9: DeprecationWarning: parsing timezone aware datetimes is deprecated; this will raise an error in the future\n",
      "  stormdte = (np.datetime64(end_time) - np.datetime64('1970-01-01T00:00:00Z')) / np.timedelta64(1, 's')\n",
      "C:\\Users\\matts\\Documents\\Python Scripts\\SPORK\\radar_storm_motion.py:11: DeprecationWarning: parsing timezone aware datetimes is deprecated; this will raise an error in the future\n",
      "  stormdti = (start_time - np.datetime64('1970-01-01T00:00:00Z')) / np.timedelta64(1, 's')\n"
     ]
    },
    {
     "name": "stdout",
     "output_type": "stream",
     "text": [
      "Testfig Saved\n",
      "10.223225361905618 meter / second -1.2552542370730213 meter / second Bunkers motion components\n",
      "[8.491529064246576] meter / second [-1.3922325754259341] meter / second Observed motion components\n",
      "Figure Saved\n",
      "in loop\n",
      "21\n",
      "in loop\n",
      "21\n",
      "in loop\n",
      "21\n",
      "in loop\n",
      "21\n",
      "in loop\n",
      "21\n",
      "in loop\n",
      "21\n",
      "in loop\n",
      "21\n",
      "File Reading\n",
      "in loop\n",
      "21\n",
      "Pre-grid Organization Section\n",
      "KDP Section\n",
      "Grid Section\n"
     ]
    },
    {
     "name": "stderr",
     "output_type": "stream",
     "text": [
      "C:\\Users\\matts\\AppData\\Local\\Continuum\\anaconda3\\envs\\radar\\lib\\site-packages\\pyart\\map\\gates_to_grid.py:177: DeprecationWarning: Barnes weighting function is deprecated. Please use Barnes 2 to be consistent with Pauley and Wu 1990.\n",
      "  \" Pauley and Wu 1990.\", DeprecationWarning)\n"
     ]
    },
    {
     "name": "stdout",
     "output_type": "stream",
     "text": [
      "(-98.23255157470703, 36.9969482421875, <cartopy.crs.PlateCarree object at 0x0000024BDD9AD948>)\n"
     ]
    },
    {
     "name": "stderr",
     "output_type": "stream",
     "text": [
      "C:\\Users\\matts\\AppData\\Local\\Continuum\\anaconda3\\envs\\radar\\lib\\site-packages\\cartopy\\mpl\\geoaxes.py:1366: UserWarning: The following kwargs were not used by contour: 'linestyle'\n",
      "  result = matplotlib.axes.Axes.contour(self, *args, **kwargs)\n"
     ]
    },
    {
     "name": "stdout",
     "output_type": "stream",
     "text": [
      "0 storm id\n",
      "-97.37752055310573 storm lon\n",
      "39.087754336772804 storm lat\n",
      "length of obs 30\n",
      "(8.908971366885751, 280.8399743570269)\n"
     ]
    },
    {
     "name": "stderr",
     "output_type": "stream",
     "text": [
      "C:\\Users\\matts\\Documents\\Python Scripts\\SPORK\\radar_storm_motion.py:9: DeprecationWarning: parsing timezone aware datetimes is deprecated; this will raise an error in the future\n",
      "  stormdte = (np.datetime64(end_time) - np.datetime64('1970-01-01T00:00:00Z')) / np.timedelta64(1, 's')\n",
      "C:\\Users\\matts\\Documents\\Python Scripts\\SPORK\\radar_storm_motion.py:11: DeprecationWarning: parsing timezone aware datetimes is deprecated; this will raise an error in the future\n",
      "  stormdti = (start_time - np.datetime64('1970-01-01T00:00:00Z')) / np.timedelta64(1, 's')\n",
      "C:\\Users\\matts\\Documents\\Python Scripts\\SPORK\\radar_storm_motion.py:9: DeprecationWarning: parsing timezone aware datetimes is deprecated; this will raise an error in the future\n",
      "  stormdte = (np.datetime64(end_time) - np.datetime64('1970-01-01T00:00:00Z')) / np.timedelta64(1, 's')\n",
      "C:\\Users\\matts\\Documents\\Python Scripts\\SPORK\\radar_storm_motion.py:11: DeprecationWarning: parsing timezone aware datetimes is deprecated; this will raise an error in the future\n",
      "  stormdti = (start_time - np.datetime64('1970-01-01T00:00:00Z')) / np.timedelta64(1, 's')\n"
     ]
    },
    {
     "name": "stdout",
     "output_type": "stream",
     "text": [
      "Testfig Saved\n",
      "10.223225361905618 meter / second -1.2552542370730213 meter / second Bunkers motion components\n",
      "[8.750002164710999] meter / second [-1.6754799114113585] meter / second Observed motion components\n",
      "Figure Saved\n",
      "in loop\n",
      "21\n",
      "in loop\n",
      "21\n",
      "in loop\n",
      "21\n",
      "in loop\n",
      "21\n",
      "in loop\n",
      "21\n",
      "in loop\n",
      "21\n",
      "Pre-grid Organization Section\n",
      "KDP Section\n",
      "Grid Section\n"
     ]
    },
    {
     "name": "stderr",
     "output_type": "stream",
     "text": [
      "C:\\Users\\matts\\AppData\\Local\\Continuum\\anaconda3\\envs\\radar\\lib\\site-packages\\pyart\\map\\gates_to_grid.py:177: DeprecationWarning: Barnes weighting function is deprecated. Please use Barnes 2 to be consistent with Pauley and Wu 1990.\n",
      "  \" Pauley and Wu 1990.\", DeprecationWarning)\n"
     ]
    },
    {
     "name": "stdout",
     "output_type": "stream",
     "text": [
      "(-98.23255157470703, 36.9969482421875, <cartopy.crs.PlateCarree object at 0x0000024B9B8C4048>)\n"
     ]
    },
    {
     "name": "stderr",
     "output_type": "stream",
     "text": [
      "C:\\Users\\matts\\AppData\\Local\\Continuum\\anaconda3\\envs\\radar\\lib\\site-packages\\cartopy\\mpl\\geoaxes.py:1366: UserWarning: The following kwargs were not used by contour: 'linestyle'\n",
      "  result = matplotlib.axes.Axes.contour(self, *args, **kwargs)\n"
     ]
    },
    {
     "name": "stdout",
     "output_type": "stream",
     "text": [
      "0 storm id\n",
      "-97.3671443301242 storm lon\n",
      "39.084557229991816 storm lat\n",
      "length of obs 31\n",
      "(9.34746006699679, 280.8624300483295)\n"
     ]
    },
    {
     "name": "stderr",
     "output_type": "stream",
     "text": [
      "C:\\Users\\matts\\Documents\\Python Scripts\\SPORK\\radar_storm_motion.py:9: DeprecationWarning: parsing timezone aware datetimes is deprecated; this will raise an error in the future\n",
      "  stormdte = (np.datetime64(end_time) - np.datetime64('1970-01-01T00:00:00Z')) / np.timedelta64(1, 's')\n",
      "C:\\Users\\matts\\Documents\\Python Scripts\\SPORK\\radar_storm_motion.py:11: DeprecationWarning: parsing timezone aware datetimes is deprecated; this will raise an error in the future\n",
      "  stormdti = (start_time - np.datetime64('1970-01-01T00:00:00Z')) / np.timedelta64(1, 's')\n",
      "C:\\Users\\matts\\Documents\\Python Scripts\\SPORK\\radar_storm_motion.py:9: DeprecationWarning: parsing timezone aware datetimes is deprecated; this will raise an error in the future\n",
      "  stormdte = (np.datetime64(end_time) - np.datetime64('1970-01-01T00:00:00Z')) / np.timedelta64(1, 's')\n",
      "C:\\Users\\matts\\Documents\\Python Scripts\\SPORK\\radar_storm_motion.py:11: DeprecationWarning: parsing timezone aware datetimes is deprecated; this will raise an error in the future\n",
      "  stormdti = (start_time - np.datetime64('1970-01-01T00:00:00Z')) / np.timedelta64(1, 's')\n"
     ]
    },
    {
     "name": "stdout",
     "output_type": "stream",
     "text": [
      "Testfig Saved\n",
      "10.223225361905618 meter / second -1.2552542370730213 meter / second Bunkers motion components\n",
      "[9.17997690567193] meter / second [-1.7615429927849198] meter / second Observed motion components\n",
      "Figure Saved\n",
      "in loop\n",
      "21\n",
      "in loop\n",
      "21\n",
      "in loop\n",
      "21\n",
      "in loop\n",
      "21\n",
      "in loop\n",
      "21\n",
      "in loop\n",
      "21\n",
      "in loop\n",
      "21\n",
      "Pre-grid Organization Section\n",
      "KDP Section\n",
      "Grid Section\n"
     ]
    },
    {
     "name": "stderr",
     "output_type": "stream",
     "text": [
      "C:\\Users\\matts\\AppData\\Local\\Continuum\\anaconda3\\envs\\radar\\lib\\site-packages\\pyart\\map\\gates_to_grid.py:177: DeprecationWarning: Barnes weighting function is deprecated. Please use Barnes 2 to be consistent with Pauley and Wu 1990.\n",
      "  \" Pauley and Wu 1990.\", DeprecationWarning)\n"
     ]
    },
    {
     "name": "stdout",
     "output_type": "stream",
     "text": [
      "(-98.23255157470703, 36.9969482421875, <cartopy.crs.PlateCarree object at 0x0000024BA6E0DC48>)\n"
     ]
    },
    {
     "name": "stderr",
     "output_type": "stream",
     "text": [
      "C:\\Users\\matts\\AppData\\Local\\Continuum\\anaconda3\\envs\\radar\\lib\\site-packages\\cartopy\\mpl\\geoaxes.py:1366: UserWarning: The following kwargs were not used by contour: 'linestyle'\n",
      "  result = matplotlib.axes.Axes.contour(self, *args, **kwargs)\n"
     ]
    },
    {
     "name": "stdout",
     "output_type": "stream",
     "text": [
      "0 storm id\n",
      "-97.36371514538631 storm lon\n",
      "39.07990903692836 storm lat\n",
      "length of obs 32\n",
      "(8.927491958102259, 284.03525115681987)\n"
     ]
    },
    {
     "name": "stderr",
     "output_type": "stream",
     "text": [
      "C:\\Users\\matts\\Documents\\Python Scripts\\SPORK\\radar_storm_motion.py:9: DeprecationWarning: parsing timezone aware datetimes is deprecated; this will raise an error in the future\n",
      "  stormdte = (np.datetime64(end_time) - np.datetime64('1970-01-01T00:00:00Z')) / np.timedelta64(1, 's')\n",
      "C:\\Users\\matts\\Documents\\Python Scripts\\SPORK\\radar_storm_motion.py:11: DeprecationWarning: parsing timezone aware datetimes is deprecated; this will raise an error in the future\n",
      "  stormdti = (start_time - np.datetime64('1970-01-01T00:00:00Z')) / np.timedelta64(1, 's')\n",
      "C:\\Users\\matts\\Documents\\Python Scripts\\SPORK\\radar_storm_motion.py:9: DeprecationWarning: parsing timezone aware datetimes is deprecated; this will raise an error in the future\n",
      "  stormdte = (np.datetime64(end_time) - np.datetime64('1970-01-01T00:00:00Z')) / np.timedelta64(1, 's')\n",
      "C:\\Users\\matts\\Documents\\Python Scripts\\SPORK\\radar_storm_motion.py:11: DeprecationWarning: parsing timezone aware datetimes is deprecated; this will raise an error in the future\n",
      "  stormdti = (start_time - np.datetime64('1970-01-01T00:00:00Z')) / np.timedelta64(1, 's')\n"
     ]
    },
    {
     "name": "stdout",
     "output_type": "stream",
     "text": [
      "Testfig Saved\n",
      "10.223225361905618 meter / second -1.2552542370730213 meter / second Bunkers motion components\n",
      "[8.660976866871863] meter / second [-2.1650848420999496] meter / second Observed motion components\n",
      "Figure Saved\n",
      "in loop\n",
      "21\n",
      "in loop\n",
      "21\n",
      "in loop\n",
      "21\n",
      "in loop\n",
      "21\n",
      "in loop\n",
      "21\n",
      "in loop\n",
      "21\n",
      "in loop\n",
      "21\n",
      "File Reading\n",
      "in loop\n",
      "21\n",
      "Pre-grid Organization Section\n",
      "KDP Section\n",
      "Grid Section\n"
     ]
    },
    {
     "name": "stderr",
     "output_type": "stream",
     "text": [
      "C:\\Users\\matts\\AppData\\Local\\Continuum\\anaconda3\\envs\\radar\\lib\\site-packages\\pyart\\map\\gates_to_grid.py:177: DeprecationWarning: Barnes weighting function is deprecated. Please use Barnes 2 to be consistent with Pauley and Wu 1990.\n",
      "  \" Pauley and Wu 1990.\", DeprecationWarning)\n"
     ]
    },
    {
     "name": "stdout",
     "output_type": "stream",
     "text": [
      "(-98.23255157470703, 36.9969482421875, <cartopy.crs.PlateCarree object at 0x0000024BDD9B3948>)\n"
     ]
    },
    {
     "name": "stderr",
     "output_type": "stream",
     "text": [
      "C:\\Users\\matts\\AppData\\Local\\Continuum\\anaconda3\\envs\\radar\\lib\\site-packages\\cartopy\\mpl\\geoaxes.py:1366: UserWarning: The following kwargs were not used by contour: 'linestyle'\n",
      "  result = matplotlib.axes.Axes.contour(self, *args, **kwargs)\n"
     ]
    },
    {
     "name": "stdout",
     "output_type": "stream",
     "text": [
      "0 storm id\n",
      "-97.35126690585156 storm lon\n",
      "39.07541548456879 storm lat\n",
      "length of obs 33\n",
      "(9.09252113054382, 285.72425081032236)\n"
     ]
    },
    {
     "name": "stderr",
     "output_type": "stream",
     "text": [
      "C:\\Users\\matts\\Documents\\Python Scripts\\SPORK\\radar_storm_motion.py:9: DeprecationWarning: parsing timezone aware datetimes is deprecated; this will raise an error in the future\n",
      "  stormdte = (np.datetime64(end_time) - np.datetime64('1970-01-01T00:00:00Z')) / np.timedelta64(1, 's')\n",
      "C:\\Users\\matts\\Documents\\Python Scripts\\SPORK\\radar_storm_motion.py:11: DeprecationWarning: parsing timezone aware datetimes is deprecated; this will raise an error in the future\n",
      "  stormdti = (start_time - np.datetime64('1970-01-01T00:00:00Z')) / np.timedelta64(1, 's')\n",
      "C:\\Users\\matts\\Documents\\Python Scripts\\SPORK\\radar_storm_motion.py:9: DeprecationWarning: parsing timezone aware datetimes is deprecated; this will raise an error in the future\n",
      "  stormdte = (np.datetime64(end_time) - np.datetime64('1970-01-01T00:00:00Z')) / np.timedelta64(1, 's')\n",
      "C:\\Users\\matts\\Documents\\Python Scripts\\SPORK\\radar_storm_motion.py:11: DeprecationWarning: parsing timezone aware datetimes is deprecated; this will raise an error in the future\n",
      "  stormdti = (start_time - np.datetime64('1970-01-01T00:00:00Z')) / np.timedelta64(1, 's')\n"
     ]
    },
    {
     "name": "stdout",
     "output_type": "stream",
     "text": [
      "Testfig Saved\n",
      "10.223225361905618 meter / second -1.2552542370730213 meter / second Bunkers motion components\n",
      "[8.752252865249927] meter / second [-2.4641449413762806] meter / second Observed motion components\n",
      "Figure Saved\n",
      "in loop\n",
      "21\n",
      "in loop\n",
      "21\n",
      "in loop\n",
      "21\n",
      "in loop\n",
      "21\n",
      "in loop\n",
      "21\n",
      "in loop\n",
      "21\n",
      "Pre-grid Organization Section\n",
      "KDP Section\n",
      "Grid Section\n"
     ]
    },
    {
     "name": "stderr",
     "output_type": "stream",
     "text": [
      "C:\\Users\\matts\\AppData\\Local\\Continuum\\anaconda3\\envs\\radar\\lib\\site-packages\\pyart\\map\\gates_to_grid.py:177: DeprecationWarning: Barnes weighting function is deprecated. Please use Barnes 2 to be consistent with Pauley and Wu 1990.\n",
      "  \" Pauley and Wu 1990.\", DeprecationWarning)\n"
     ]
    },
    {
     "name": "stdout",
     "output_type": "stream",
     "text": [
      "(-98.23255157470703, 36.9969482421875, <cartopy.crs.PlateCarree object at 0x0000024BDD9B4A08>)\n"
     ]
    },
    {
     "name": "stderr",
     "output_type": "stream",
     "text": [
      "C:\\Users\\matts\\AppData\\Local\\Continuum\\anaconda3\\envs\\radar\\lib\\site-packages\\cartopy\\mpl\\geoaxes.py:1366: UserWarning: The following kwargs were not used by contour: 'linestyle'\n",
      "  result = matplotlib.axes.Axes.contour(self, *args, **kwargs)\n"
     ]
    },
    {
     "name": "stdout",
     "output_type": "stream",
     "text": [
      "0 storm id\n",
      "-97.34217385882278 storm lon\n",
      "39.0733329753894 storm lat\n",
      "length of obs 34\n",
      "(9.127989851567914, 285.73380903122774)\n"
     ]
    },
    {
     "name": "stderr",
     "output_type": "stream",
     "text": [
      "C:\\Users\\matts\\Documents\\Python Scripts\\SPORK\\radar_storm_motion.py:9: DeprecationWarning: parsing timezone aware datetimes is deprecated; this will raise an error in the future\n",
      "  stormdte = (np.datetime64(end_time) - np.datetime64('1970-01-01T00:00:00Z')) / np.timedelta64(1, 's')\n",
      "C:\\Users\\matts\\Documents\\Python Scripts\\SPORK\\radar_storm_motion.py:11: DeprecationWarning: parsing timezone aware datetimes is deprecated; this will raise an error in the future\n",
      "  stormdti = (start_time - np.datetime64('1970-01-01T00:00:00Z')) / np.timedelta64(1, 's')\n",
      "C:\\Users\\matts\\Documents\\Python Scripts\\SPORK\\radar_storm_motion.py:9: DeprecationWarning: parsing timezone aware datetimes is deprecated; this will raise an error in the future\n",
      "  stormdte = (np.datetime64(end_time) - np.datetime64('1970-01-01T00:00:00Z')) / np.timedelta64(1, 's')\n",
      "C:\\Users\\matts\\Documents\\Python Scripts\\SPORK\\radar_storm_motion.py:11: DeprecationWarning: parsing timezone aware datetimes is deprecated; this will raise an error in the future\n",
      "  stormdti = (start_time - np.datetime64('1970-01-01T00:00:00Z')) / np.timedelta64(1, 's')\n"
     ]
    },
    {
     "name": "stdout",
     "output_type": "stream",
     "text": [
      "Testfig Saved\n",
      "10.223225361905618 meter / second -1.2552542370730213 meter / second Bunkers motion components\n",
      "[8.785981444381738] meter / second [-2.475222977694461] meter / second Observed motion components\n",
      "Figure Saved\n",
      "in loop\n",
      "21\n",
      "in loop\n",
      "21\n",
      "in loop\n",
      "21\n",
      "in loop\n",
      "21\n",
      "in loop\n",
      "21\n",
      "in loop\n",
      "21\n",
      "in loop\n",
      "21\n",
      "Pre-grid Organization Section\n",
      "KDP Section\n",
      "Grid Section\n"
     ]
    },
    {
     "name": "stderr",
     "output_type": "stream",
     "text": [
      "C:\\Users\\matts\\AppData\\Local\\Continuum\\anaconda3\\envs\\radar\\lib\\site-packages\\pyart\\map\\gates_to_grid.py:177: DeprecationWarning: Barnes weighting function is deprecated. Please use Barnes 2 to be consistent with Pauley and Wu 1990.\n",
      "  \" Pauley and Wu 1990.\", DeprecationWarning)\n"
     ]
    },
    {
     "name": "stdout",
     "output_type": "stream",
     "text": [
      "(-98.23255157470703, 36.9969482421875, <cartopy.crs.PlateCarree object at 0x0000024BA6F9C828>)\n"
     ]
    },
    {
     "name": "stderr",
     "output_type": "stream",
     "text": [
      "C:\\Users\\matts\\AppData\\Local\\Continuum\\anaconda3\\envs\\radar\\lib\\site-packages\\cartopy\\mpl\\geoaxes.py:1366: UserWarning: The following kwargs were not used by contour: 'linestyle'\n",
      "  result = matplotlib.axes.Axes.contour(self, *args, **kwargs)\n"
     ]
    },
    {
     "name": "stdout",
     "output_type": "stream",
     "text": [
      "0 storm id\n",
      "-97.34009074922696 storm lon\n",
      "39.07006970511924 storm lat\n",
      "length of obs 35\n",
      "(8.451793482075534, 287.3062453894329)\n"
     ]
    },
    {
     "name": "stderr",
     "output_type": "stream",
     "text": [
      "C:\\Users\\matts\\Documents\\Python Scripts\\SPORK\\radar_storm_motion.py:9: DeprecationWarning: parsing timezone aware datetimes is deprecated; this will raise an error in the future\n",
      "  stormdte = (np.datetime64(end_time) - np.datetime64('1970-01-01T00:00:00Z')) / np.timedelta64(1, 's')\n",
      "C:\\Users\\matts\\Documents\\Python Scripts\\SPORK\\radar_storm_motion.py:11: DeprecationWarning: parsing timezone aware datetimes is deprecated; this will raise an error in the future\n",
      "  stormdti = (start_time - np.datetime64('1970-01-01T00:00:00Z')) / np.timedelta64(1, 's')\n",
      "C:\\Users\\matts\\Documents\\Python Scripts\\SPORK\\radar_storm_motion.py:9: DeprecationWarning: parsing timezone aware datetimes is deprecated; this will raise an error in the future\n",
      "  stormdte = (np.datetime64(end_time) - np.datetime64('1970-01-01T00:00:00Z')) / np.timedelta64(1, 's')\n",
      "C:\\Users\\matts\\Documents\\Python Scripts\\SPORK\\radar_storm_motion.py:11: DeprecationWarning: parsing timezone aware datetimes is deprecated; this will raise an error in the future\n",
      "  stormdti = (start_time - np.datetime64('1970-01-01T00:00:00Z')) / np.timedelta64(1, 's')\n"
     ]
    },
    {
     "name": "stdout",
     "output_type": "stream",
     "text": [
      "Testfig Saved\n",
      "10.223225361905618 meter / second -1.2552542370730213 meter / second Bunkers motion components\n",
      "[8.069167092422742] meter / second [-2.5142305976613173] meter / second Observed motion components\n",
      "Figure Saved\n",
      "in loop\n",
      "21\n",
      "in loop\n",
      "21\n",
      "in loop\n",
      "21\n",
      "in loop\n",
      "21\n",
      "in loop\n",
      "21\n",
      "in loop\n",
      "21\n",
      "in loop\n",
      "21\n",
      "File Reading\n",
      "in loop\n",
      "21\n",
      "Pre-grid Organization Section\n",
      "KDP Section\n",
      "Grid Section\n"
     ]
    },
    {
     "name": "stderr",
     "output_type": "stream",
     "text": [
      "C:\\Users\\matts\\AppData\\Local\\Continuum\\anaconda3\\envs\\radar\\lib\\site-packages\\pyart\\map\\gates_to_grid.py:177: DeprecationWarning: Barnes weighting function is deprecated. Please use Barnes 2 to be consistent with Pauley and Wu 1990.\n",
      "  \" Pauley and Wu 1990.\", DeprecationWarning)\n"
     ]
    },
    {
     "name": "stdout",
     "output_type": "stream",
     "text": [
      "(-98.23255157470703, 36.9969482421875, <cartopy.crs.PlateCarree object at 0x0000024BA6F9CE28>)\n"
     ]
    },
    {
     "name": "stderr",
     "output_type": "stream",
     "text": [
      "C:\\Users\\matts\\AppData\\Local\\Continuum\\anaconda3\\envs\\radar\\lib\\site-packages\\cartopy\\mpl\\geoaxes.py:1366: UserWarning: The following kwargs were not used by contour: 'linestyle'\n",
      "  result = matplotlib.axes.Axes.contour(self, *args, **kwargs)\n"
     ]
    },
    {
     "name": "stdout",
     "output_type": "stream",
     "text": [
      "1 storm id\n",
      "-97.65388699712658 storm lon\n",
      "38.953449054865175 storm lat\n",
      "looks like a new cell\n",
      "0 storm id\n",
      "-97.33572237825274 storm lon\n",
      "39.069932158296034 storm lat\n",
      "length of obs 36\n",
      "(7.848958944245082, 288.1106431712846)\n"
     ]
    },
    {
     "name": "stderr",
     "output_type": "stream",
     "text": [
      "C:\\Users\\matts\\Documents\\Python Scripts\\SPORK\\radar_storm_motion.py:9: DeprecationWarning: parsing timezone aware datetimes is deprecated; this will raise an error in the future\n",
      "  stormdte = (np.datetime64(end_time) - np.datetime64('1970-01-01T00:00:00Z')) / np.timedelta64(1, 's')\n",
      "C:\\Users\\matts\\Documents\\Python Scripts\\SPORK\\radar_storm_motion.py:11: DeprecationWarning: parsing timezone aware datetimes is deprecated; this will raise an error in the future\n",
      "  stormdti = (start_time - np.datetime64('1970-01-01T00:00:00Z')) / np.timedelta64(1, 's')\n",
      "C:\\Users\\matts\\Documents\\Python Scripts\\SPORK\\radar_storm_motion.py:9: DeprecationWarning: parsing timezone aware datetimes is deprecated; this will raise an error in the future\n",
      "  stormdte = (np.datetime64(end_time) - np.datetime64('1970-01-01T00:00:00Z')) / np.timedelta64(1, 's')\n",
      "C:\\Users\\matts\\Documents\\Python Scripts\\SPORK\\radar_storm_motion.py:11: DeprecationWarning: parsing timezone aware datetimes is deprecated; this will raise an error in the future\n",
      "  stormdti = (start_time - np.datetime64('1970-01-01T00:00:00Z')) / np.timedelta64(1, 's')\n"
     ]
    },
    {
     "name": "stdout",
     "output_type": "stream",
     "text": [
      "Testfig Saved\n",
      "10.223225361905618 meter / second -1.2552542370730213 meter / second Bunkers motion components\n",
      "[nan 7.4601058553766295] meter / second [nan -2.439872360395148] meter / second Observed motion components\n",
      "Figure Saved\n",
      "in loop\n",
      "21\n",
      "in loop\n",
      "21\n",
      "in loop\n",
      "21\n",
      "in loop\n",
      "21\n",
      "in loop\n",
      "21\n",
      "in loop\n",
      "21\n",
      "Pre-grid Organization Section\n",
      "KDP Section\n",
      "Grid Section\n"
     ]
    },
    {
     "name": "stderr",
     "output_type": "stream",
     "text": [
      "C:\\Users\\matts\\AppData\\Local\\Continuum\\anaconda3\\envs\\radar\\lib\\site-packages\\pyart\\map\\gates_to_grid.py:177: DeprecationWarning: Barnes weighting function is deprecated. Please use Barnes 2 to be consistent with Pauley and Wu 1990.\n",
      "  \" Pauley and Wu 1990.\", DeprecationWarning)\n"
     ]
    },
    {
     "name": "stdout",
     "output_type": "stream",
     "text": [
      "(-98.23255157470703, 36.9969482421875, <cartopy.crs.PlateCarree object at 0x0000024BB4A9F7C8>)\n"
     ]
    },
    {
     "name": "stderr",
     "output_type": "stream",
     "text": [
      "C:\\Users\\matts\\AppData\\Local\\Continuum\\anaconda3\\envs\\radar\\lib\\site-packages\\cartopy\\mpl\\geoaxes.py:1366: UserWarning: The following kwargs were not used by contour: 'linestyle'\n",
      "  result = matplotlib.axes.Axes.contour(self, *args, **kwargs)\n"
     ]
    },
    {
     "name": "stdout",
     "output_type": "stream",
     "text": [
      "1 storm id\n",
      "-97.6595705216916 storm lon\n",
      "38.95992025406027 storm lat\n",
      "length of obs 1\n",
      "(7.711241501961493, 145.66633345734732)\n",
      "0 storm id\n",
      "-97.32840548209138 storm lon\n",
      "39.06696444912604 storm lat\n",
      "length of obs 37\n",
      "(7.623497199035836, 289.64656093405847)\n"
     ]
    },
    {
     "name": "stderr",
     "output_type": "stream",
     "text": [
      "C:\\Users\\matts\\Documents\\Python Scripts\\SPORK\\radar_storm_motion.py:9: DeprecationWarning: parsing timezone aware datetimes is deprecated; this will raise an error in the future\n",
      "  stormdte = (np.datetime64(end_time) - np.datetime64('1970-01-01T00:00:00Z')) / np.timedelta64(1, 's')\n",
      "C:\\Users\\matts\\Documents\\Python Scripts\\SPORK\\radar_storm_motion.py:11: DeprecationWarning: parsing timezone aware datetimes is deprecated; this will raise an error in the future\n",
      "  stormdti = (start_time - np.datetime64('1970-01-01T00:00:00Z')) / np.timedelta64(1, 's')\n",
      "C:\\Users\\matts\\Documents\\Python Scripts\\SPORK\\radar_storm_motion.py:9: DeprecationWarning: parsing timezone aware datetimes is deprecated; this will raise an error in the future\n",
      "  stormdte = (np.datetime64(end_time) - np.datetime64('1970-01-01T00:00:00Z')) / np.timedelta64(1, 's')\n",
      "C:\\Users\\matts\\Documents\\Python Scripts\\SPORK\\radar_storm_motion.py:11: DeprecationWarning: parsing timezone aware datetimes is deprecated; this will raise an error in the future\n",
      "  stormdti = (start_time - np.datetime64('1970-01-01T00:00:00Z')) / np.timedelta64(1, 's')\n",
      "C:\\Users\\matts\\Documents\\Python Scripts\\SPORK\\radar_storm_motion.py:9: DeprecationWarning: parsing timezone aware datetimes is deprecated; this will raise an error in the future\n",
      "  stormdte = (np.datetime64(end_time) - np.datetime64('1970-01-01T00:00:00Z')) / np.timedelta64(1, 's')\n",
      "C:\\Users\\matts\\Documents\\Python Scripts\\SPORK\\radar_storm_motion.py:11: DeprecationWarning: parsing timezone aware datetimes is deprecated; this will raise an error in the future\n",
      "  stormdti = (start_time - np.datetime64('1970-01-01T00:00:00Z')) / np.timedelta64(1, 's')\n",
      "C:\\Users\\matts\\Documents\\Python Scripts\\SPORK\\radar_storm_motion.py:9: DeprecationWarning: parsing timezone aware datetimes is deprecated; this will raise an error in the future\n",
      "  stormdte = (np.datetime64(end_time) - np.datetime64('1970-01-01T00:00:00Z')) / np.timedelta64(1, 's')\n",
      "C:\\Users\\matts\\Documents\\Python Scripts\\SPORK\\radar_storm_motion.py:11: DeprecationWarning: parsing timezone aware datetimes is deprecated; this will raise an error in the future\n",
      "  stormdti = (start_time - np.datetime64('1970-01-01T00:00:00Z')) / np.timedelta64(1, 's')\n"
     ]
    },
    {
     "name": "stdout",
     "output_type": "stream",
     "text": [
      "Testfig Saved\n",
      "10.223225361905618 meter / second -1.2552542370730213 meter / second Bunkers motion components\n",
      "[-4.349227809817534 7.179691801682044] meter / second [6.367688981089067 -2.5631494643439896] meter / second Observed motion components\n",
      "Figure Saved\n",
      "in loop\n",
      "21\n",
      "in loop\n",
      "21\n",
      "in loop\n",
      "21\n",
      "in loop\n",
      "21\n",
      "in loop\n",
      "21\n",
      "in loop\n",
      "21\n",
      "in loop\n",
      "21\n",
      "Pre-grid Organization Section\n",
      "KDP Section\n",
      "Grid Section\n"
     ]
    },
    {
     "name": "stderr",
     "output_type": "stream",
     "text": [
      "C:\\Users\\matts\\AppData\\Local\\Continuum\\anaconda3\\envs\\radar\\lib\\site-packages\\pyart\\map\\gates_to_grid.py:177: DeprecationWarning: Barnes weighting function is deprecated. Please use Barnes 2 to be consistent with Pauley and Wu 1990.\n",
      "  \" Pauley and Wu 1990.\", DeprecationWarning)\n"
     ]
    },
    {
     "name": "stdout",
     "output_type": "stream",
     "text": [
      "(-98.23255157470703, 36.9969482421875, <cartopy.crs.PlateCarree object at 0x0000024B878D8228>)\n"
     ]
    },
    {
     "name": "stderr",
     "output_type": "stream",
     "text": [
      "C:\\Users\\matts\\AppData\\Local\\Continuum\\anaconda3\\envs\\radar\\lib\\site-packages\\cartopy\\mpl\\geoaxes.py:1366: UserWarning: The following kwargs were not used by contour: 'linestyle'\n",
      "  result = matplotlib.axes.Axes.contour(self, *args, **kwargs)\n"
     ]
    },
    {
     "name": "stdout",
     "output_type": "stream",
     "text": [
      "1 storm id\n",
      "-97.64493355041189 storm lon\n",
      "38.9676179175008 storm lat\n",
      "length of obs 2\n",
      "(7.836708575421992, 206.1704777991288)\n",
      "0 storm id\n",
      "-97.32058489396184 storm lon\n",
      "39.06191860094167 storm lat\n",
      "length of obs 38\n",
      "(6.958547574711469, 292.13174552296334)\n"
     ]
    },
    {
     "name": "stderr",
     "output_type": "stream",
     "text": [
      "C:\\Users\\matts\\Documents\\Python Scripts\\SPORK\\radar_storm_motion.py:9: DeprecationWarning: parsing timezone aware datetimes is deprecated; this will raise an error in the future\n",
      "  stormdte = (np.datetime64(end_time) - np.datetime64('1970-01-01T00:00:00Z')) / np.timedelta64(1, 's')\n",
      "C:\\Users\\matts\\Documents\\Python Scripts\\SPORK\\radar_storm_motion.py:11: DeprecationWarning: parsing timezone aware datetimes is deprecated; this will raise an error in the future\n",
      "  stormdti = (start_time - np.datetime64('1970-01-01T00:00:00Z')) / np.timedelta64(1, 's')\n",
      "C:\\Users\\matts\\Documents\\Python Scripts\\SPORK\\radar_storm_motion.py:9: DeprecationWarning: parsing timezone aware datetimes is deprecated; this will raise an error in the future\n",
      "  stormdte = (np.datetime64(end_time) - np.datetime64('1970-01-01T00:00:00Z')) / np.timedelta64(1, 's')\n",
      "C:\\Users\\matts\\Documents\\Python Scripts\\SPORK\\radar_storm_motion.py:11: DeprecationWarning: parsing timezone aware datetimes is deprecated; this will raise an error in the future\n",
      "  stormdti = (start_time - np.datetime64('1970-01-01T00:00:00Z')) / np.timedelta64(1, 's')\n",
      "C:\\Users\\matts\\Documents\\Python Scripts\\SPORK\\radar_storm_motion.py:9: DeprecationWarning: parsing timezone aware datetimes is deprecated; this will raise an error in the future\n",
      "  stormdte = (np.datetime64(end_time) - np.datetime64('1970-01-01T00:00:00Z')) / np.timedelta64(1, 's')\n",
      "C:\\Users\\matts\\Documents\\Python Scripts\\SPORK\\radar_storm_motion.py:11: DeprecationWarning: parsing timezone aware datetimes is deprecated; this will raise an error in the future\n",
      "  stormdti = (start_time - np.datetime64('1970-01-01T00:00:00Z')) / np.timedelta64(1, 's')\n",
      "C:\\Users\\matts\\Documents\\Python Scripts\\SPORK\\radar_storm_motion.py:9: DeprecationWarning: parsing timezone aware datetimes is deprecated; this will raise an error in the future\n",
      "  stormdte = (np.datetime64(end_time) - np.datetime64('1970-01-01T00:00:00Z')) / np.timedelta64(1, 's')\n",
      "C:\\Users\\matts\\Documents\\Python Scripts\\SPORK\\radar_storm_motion.py:11: DeprecationWarning: parsing timezone aware datetimes is deprecated; this will raise an error in the future\n",
      "  stormdti = (start_time - np.datetime64('1970-01-01T00:00:00Z')) / np.timedelta64(1, 's')\n"
     ]
    },
    {
     "name": "stdout",
     "output_type": "stream",
     "text": [
      "Testfig Saved\n",
      "10.223225361905618 meter / second -1.2552542370730213 meter / second Bunkers motion components\n",
      "[3.4563291686266195 6.445842042590267] meter / second [7.033334200377045 -2.621546244394442] meter / second Observed motion components\n",
      "Figure Saved\n",
      "in loop\n",
      "21\n",
      "in loop\n",
      "21\n",
      "in loop\n",
      "21\n",
      "in loop\n",
      "21\n",
      "in loop\n",
      "21\n",
      "in loop\n",
      "21\n",
      "in loop\n",
      "21\n",
      "File Reading\n",
      "in loop\n",
      "21\n",
      "Pre-grid Organization Section\n",
      "KDP Section\n",
      "Grid Section\n"
     ]
    },
    {
     "name": "stderr",
     "output_type": "stream",
     "text": [
      "C:\\Users\\matts\\AppData\\Local\\Continuum\\anaconda3\\envs\\radar\\lib\\site-packages\\pyart\\map\\gates_to_grid.py:177: DeprecationWarning: Barnes weighting function is deprecated. Please use Barnes 2 to be consistent with Pauley and Wu 1990.\n",
      "  \" Pauley and Wu 1990.\", DeprecationWarning)\n"
     ]
    },
    {
     "name": "stdout",
     "output_type": "stream",
     "text": [
      "(-98.23255157470703, 36.9969482421875, <cartopy.crs.PlateCarree object at 0x0000024BA7067D08>)\n"
     ]
    },
    {
     "name": "stderr",
     "output_type": "stream",
     "text": [
      "C:\\Users\\matts\\AppData\\Local\\Continuum\\anaconda3\\envs\\radar\\lib\\site-packages\\cartopy\\mpl\\geoaxes.py:1366: UserWarning: The following kwargs were not used by contour: 'linestyle'\n",
      "  result = matplotlib.axes.Axes.contour(self, *args, **kwargs)\n"
     ]
    },
    {
     "name": "stdout",
     "output_type": "stream",
     "text": [
      "1 storm id\n",
      "-97.62931111735286 storm lon\n",
      "38.976232886242606 storm lat\n",
      "length of obs 3\n",
      "(9.393489032209338, 219.9938949255544)\n",
      "0 storm id\n",
      "-97.3077703425116 storm lon\n",
      "39.05814974089542 storm lat\n",
      "length of obs 39\n",
      "(6.925502010121355, 294.7558635462357)\n"
     ]
    },
    {
     "name": "stderr",
     "output_type": "stream",
     "text": [
      "C:\\Users\\matts\\Documents\\Python Scripts\\SPORK\\radar_storm_motion.py:9: DeprecationWarning: parsing timezone aware datetimes is deprecated; this will raise an error in the future\n",
      "  stormdte = (np.datetime64(end_time) - np.datetime64('1970-01-01T00:00:00Z')) / np.timedelta64(1, 's')\n",
      "C:\\Users\\matts\\Documents\\Python Scripts\\SPORK\\radar_storm_motion.py:11: DeprecationWarning: parsing timezone aware datetimes is deprecated; this will raise an error in the future\n",
      "  stormdti = (start_time - np.datetime64('1970-01-01T00:00:00Z')) / np.timedelta64(1, 's')\n",
      "C:\\Users\\matts\\Documents\\Python Scripts\\SPORK\\radar_storm_motion.py:9: DeprecationWarning: parsing timezone aware datetimes is deprecated; this will raise an error in the future\n",
      "  stormdte = (np.datetime64(end_time) - np.datetime64('1970-01-01T00:00:00Z')) / np.timedelta64(1, 's')\n",
      "C:\\Users\\matts\\Documents\\Python Scripts\\SPORK\\radar_storm_motion.py:11: DeprecationWarning: parsing timezone aware datetimes is deprecated; this will raise an error in the future\n",
      "  stormdti = (start_time - np.datetime64('1970-01-01T00:00:00Z')) / np.timedelta64(1, 's')\n",
      "C:\\Users\\matts\\Documents\\Python Scripts\\SPORK\\radar_storm_motion.py:9: DeprecationWarning: parsing timezone aware datetimes is deprecated; this will raise an error in the future\n",
      "  stormdte = (np.datetime64(end_time) - np.datetime64('1970-01-01T00:00:00Z')) / np.timedelta64(1, 's')\n",
      "C:\\Users\\matts\\Documents\\Python Scripts\\SPORK\\radar_storm_motion.py:11: DeprecationWarning: parsing timezone aware datetimes is deprecated; this will raise an error in the future\n",
      "  stormdti = (start_time - np.datetime64('1970-01-01T00:00:00Z')) / np.timedelta64(1, 's')\n",
      "C:\\Users\\matts\\Documents\\Python Scripts\\SPORK\\radar_storm_motion.py:9: DeprecationWarning: parsing timezone aware datetimes is deprecated; this will raise an error in the future\n",
      "  stormdte = (np.datetime64(end_time) - np.datetime64('1970-01-01T00:00:00Z')) / np.timedelta64(1, 's')\n",
      "C:\\Users\\matts\\Documents\\Python Scripts\\SPORK\\radar_storm_motion.py:11: DeprecationWarning: parsing timezone aware datetimes is deprecated; this will raise an error in the future\n",
      "  stormdti = (start_time - np.datetime64('1970-01-01T00:00:00Z')) / np.timedelta64(1, 's')\n"
     ]
    },
    {
     "name": "stdout",
     "output_type": "stream",
     "text": [
      "Testfig Saved\n",
      "10.223225361905618 meter / second -1.2552542370730213 meter / second Bunkers motion components\n",
      "[6.0372515853948014 6.289050620575468] meter / second [7.196473406668372 -2.900072479100177] meter / second Observed motion components\n",
      "Figure Saved\n",
      "in loop\n",
      "21\n",
      "in loop\n",
      "21\n",
      "in loop\n",
      "21\n",
      "in loop\n",
      "21\n",
      "in loop\n",
      "21\n",
      "in loop\n",
      "21\n",
      "Pre-grid Organization Section\n",
      "KDP Section\n",
      "Grid Section\n"
     ]
    },
    {
     "name": "stderr",
     "output_type": "stream",
     "text": [
      "C:\\Users\\matts\\AppData\\Local\\Continuum\\anaconda3\\envs\\radar\\lib\\site-packages\\pyart\\map\\gates_to_grid.py:177: DeprecationWarning: Barnes weighting function is deprecated. Please use Barnes 2 to be consistent with Pauley and Wu 1990.\n",
      "  \" Pauley and Wu 1990.\", DeprecationWarning)\n"
     ]
    },
    {
     "name": "stdout",
     "output_type": "stream",
     "text": [
      "(-98.23255157470703, 36.9969482421875, <cartopy.crs.PlateCarree object at 0x0000024BA7067AC8>)\n"
     ]
    },
    {
     "name": "stderr",
     "output_type": "stream",
     "text": [
      "C:\\Users\\matts\\AppData\\Local\\Continuum\\anaconda3\\envs\\radar\\lib\\site-packages\\cartopy\\mpl\\geoaxes.py:1366: UserWarning: The following kwargs were not used by contour: 'linestyle'\n",
      "  result = matplotlib.axes.Axes.contour(self, *args, **kwargs)\n"
     ]
    },
    {
     "name": "stdout",
     "output_type": "stream",
     "text": [
      "1 storm id\n",
      "-97.60925784980829 storm lon\n",
      "38.98131395982224 storm lat\n",
      "length of obs 4\n",
      "(10.734232094901342, 231.2482347146988)\n",
      "0 storm id\n",
      "-97.30100474869937 storm lon\n",
      "39.05456467639775 storm lat\n",
      "length of obs 40\n",
      "(6.483703755380074, 299.2166359913157)\n"
     ]
    },
    {
     "name": "stderr",
     "output_type": "stream",
     "text": [
      "C:\\Users\\matts\\Documents\\Python Scripts\\SPORK\\radar_storm_motion.py:9: DeprecationWarning: parsing timezone aware datetimes is deprecated; this will raise an error in the future\n",
      "  stormdte = (np.datetime64(end_time) - np.datetime64('1970-01-01T00:00:00Z')) / np.timedelta64(1, 's')\n",
      "C:\\Users\\matts\\Documents\\Python Scripts\\SPORK\\radar_storm_motion.py:11: DeprecationWarning: parsing timezone aware datetimes is deprecated; this will raise an error in the future\n",
      "  stormdti = (start_time - np.datetime64('1970-01-01T00:00:00Z')) / np.timedelta64(1, 's')\n",
      "C:\\Users\\matts\\Documents\\Python Scripts\\SPORK\\radar_storm_motion.py:9: DeprecationWarning: parsing timezone aware datetimes is deprecated; this will raise an error in the future\n",
      "  stormdte = (np.datetime64(end_time) - np.datetime64('1970-01-01T00:00:00Z')) / np.timedelta64(1, 's')\n",
      "C:\\Users\\matts\\Documents\\Python Scripts\\SPORK\\radar_storm_motion.py:11: DeprecationWarning: parsing timezone aware datetimes is deprecated; this will raise an error in the future\n",
      "  stormdti = (start_time - np.datetime64('1970-01-01T00:00:00Z')) / np.timedelta64(1, 's')\n",
      "C:\\Users\\matts\\Documents\\Python Scripts\\SPORK\\radar_storm_motion.py:9: DeprecationWarning: parsing timezone aware datetimes is deprecated; this will raise an error in the future\n",
      "  stormdte = (np.datetime64(end_time) - np.datetime64('1970-01-01T00:00:00Z')) / np.timedelta64(1, 's')\n",
      "C:\\Users\\matts\\Documents\\Python Scripts\\SPORK\\radar_storm_motion.py:11: DeprecationWarning: parsing timezone aware datetimes is deprecated; this will raise an error in the future\n",
      "  stormdti = (start_time - np.datetime64('1970-01-01T00:00:00Z')) / np.timedelta64(1, 's')\n",
      "C:\\Users\\matts\\Documents\\Python Scripts\\SPORK\\radar_storm_motion.py:9: DeprecationWarning: parsing timezone aware datetimes is deprecated; this will raise an error in the future\n",
      "  stormdte = (np.datetime64(end_time) - np.datetime64('1970-01-01T00:00:00Z')) / np.timedelta64(1, 's')\n",
      "C:\\Users\\matts\\Documents\\Python Scripts\\SPORK\\radar_storm_motion.py:11: DeprecationWarning: parsing timezone aware datetimes is deprecated; this will raise an error in the future\n",
      "  stormdti = (start_time - np.datetime64('1970-01-01T00:00:00Z')) / np.timedelta64(1, 's')\n"
     ]
    },
    {
     "name": "stdout",
     "output_type": "stream",
     "text": [
      "Testfig Saved\n",
      "10.223225361905618 meter / second -1.2552542370730213 meter / second Bunkers motion components\n",
      "[8.371254038015048 5.658849486085462] meter / second [6.719065745937216 -3.1647807003582384] meter / second Observed motion components\n",
      "Figure Saved\n",
      "in loop\n",
      "21\n",
      "in loop\n",
      "21\n",
      "in loop\n",
      "21\n",
      "in loop\n",
      "21\n",
      "in loop\n",
      "21\n",
      "in loop\n",
      "21\n",
      "in loop\n",
      "21\n",
      "Pre-grid Organization Section\n",
      "KDP Section\n",
      "Grid Section\n"
     ]
    },
    {
     "name": "stderr",
     "output_type": "stream",
     "text": [
      "C:\\Users\\matts\\AppData\\Local\\Continuum\\anaconda3\\envs\\radar\\lib\\site-packages\\pyart\\map\\gates_to_grid.py:177: DeprecationWarning: Barnes weighting function is deprecated. Please use Barnes 2 to be consistent with Pauley and Wu 1990.\n",
      "  \" Pauley and Wu 1990.\", DeprecationWarning)\n"
     ]
    },
    {
     "name": "stdout",
     "output_type": "stream",
     "text": [
      "(-98.23255157470703, 36.9969482421875, <cartopy.crs.PlateCarree object at 0x0000024BA6DC4408>)\n"
     ]
    },
    {
     "name": "stderr",
     "output_type": "stream",
     "text": [
      "C:\\Users\\matts\\AppData\\Local\\Continuum\\anaconda3\\envs\\radar\\lib\\site-packages\\cartopy\\mpl\\geoaxes.py:1366: UserWarning: The following kwargs were not used by contour: 'linestyle'\n",
      "  result = matplotlib.axes.Axes.contour(self, *args, **kwargs)\n"
     ]
    },
    {
     "name": "stdout",
     "output_type": "stream",
     "text": [
      "0 storm id\n",
      "-97.35147737217657 storm lon\n",
      "39.03987736476597 storm lat\n",
      "length of obs 41\n",
      "(4.4311723919492705, 344.7744297650697)\n"
     ]
    },
    {
     "name": "stderr",
     "output_type": "stream",
     "text": [
      "C:\\Users\\matts\\Documents\\Python Scripts\\SPORK\\radar_storm_motion.py:9: DeprecationWarning: parsing timezone aware datetimes is deprecated; this will raise an error in the future\n",
      "  stormdte = (np.datetime64(end_time) - np.datetime64('1970-01-01T00:00:00Z')) / np.timedelta64(1, 's')\n",
      "C:\\Users\\matts\\Documents\\Python Scripts\\SPORK\\radar_storm_motion.py:11: DeprecationWarning: parsing timezone aware datetimes is deprecated; this will raise an error in the future\n",
      "  stormdti = (start_time - np.datetime64('1970-01-01T00:00:00Z')) / np.timedelta64(1, 's')\n",
      "C:\\Users\\matts\\Documents\\Python Scripts\\SPORK\\radar_storm_motion.py:9: DeprecationWarning: parsing timezone aware datetimes is deprecated; this will raise an error in the future\n",
      "  stormdte = (np.datetime64(end_time) - np.datetime64('1970-01-01T00:00:00Z')) / np.timedelta64(1, 's')\n",
      "C:\\Users\\matts\\Documents\\Python Scripts\\SPORK\\radar_storm_motion.py:11: DeprecationWarning: parsing timezone aware datetimes is deprecated; this will raise an error in the future\n",
      "  stormdti = (start_time - np.datetime64('1970-01-01T00:00:00Z')) / np.timedelta64(1, 's')\n"
     ]
    },
    {
     "name": "stdout",
     "output_type": "stream",
     "text": [
      "Testfig Saved\n",
      "10.223225361905618 meter / second -1.2552542370730213 meter / second Bunkers motion components\n",
      "[1.163713716789496] meter / second [-4.275635526156246] meter / second Observed motion components\n",
      "Figure Saved\n",
      "in loop\n",
      "21\n",
      "in loop\n",
      "21\n",
      "in loop\n",
      "21\n",
      "in loop\n",
      "21\n",
      "in loop\n",
      "21\n",
      "in loop\n",
      "21\n",
      "in loop\n",
      "21\n",
      "File Reading\n",
      "in loop\n",
      "21\n",
      "Pre-grid Organization Section\n",
      "KDP Section\n",
      "Grid Section\n"
     ]
    },
    {
     "name": "stderr",
     "output_type": "stream",
     "text": [
      "C:\\Users\\matts\\AppData\\Local\\Continuum\\anaconda3\\envs\\radar\\lib\\site-packages\\pyart\\map\\gates_to_grid.py:177: DeprecationWarning: Barnes weighting function is deprecated. Please use Barnes 2 to be consistent with Pauley and Wu 1990.\n",
      "  \" Pauley and Wu 1990.\", DeprecationWarning)\n"
     ]
    },
    {
     "name": "stdout",
     "output_type": "stream",
     "text": [
      "(-98.23255157470703, 36.9969482421875, <cartopy.crs.PlateCarree object at 0x0000024BECBC3D68>)\n"
     ]
    },
    {
     "name": "stderr",
     "output_type": "stream",
     "text": [
      "C:\\Users\\matts\\AppData\\Local\\Continuum\\anaconda3\\envs\\radar\\lib\\site-packages\\cartopy\\mpl\\geoaxes.py:1366: UserWarning: The following kwargs were not used by contour: 'linestyle'\n",
      "  result = matplotlib.axes.Axes.contour(self, *args, **kwargs)\n"
     ]
    },
    {
     "name": "stdout",
     "output_type": "stream",
     "text": [
      "0 storm id\n",
      "-97.3570893568204 storm lon\n",
      "39.03721044039459 storm lat\n",
      "length of obs 42\n",
      "(4.063048203639551, 353.1313924480008)\n"
     ]
    },
    {
     "name": "stderr",
     "output_type": "stream",
     "text": [
      "C:\\Users\\matts\\Documents\\Python Scripts\\SPORK\\radar_storm_motion.py:9: DeprecationWarning: parsing timezone aware datetimes is deprecated; this will raise an error in the future\n",
      "  stormdte = (np.datetime64(end_time) - np.datetime64('1970-01-01T00:00:00Z')) / np.timedelta64(1, 's')\n",
      "C:\\Users\\matts\\Documents\\Python Scripts\\SPORK\\radar_storm_motion.py:11: DeprecationWarning: parsing timezone aware datetimes is deprecated; this will raise an error in the future\n",
      "  stormdti = (start_time - np.datetime64('1970-01-01T00:00:00Z')) / np.timedelta64(1, 's')\n",
      "C:\\Users\\matts\\Documents\\Python Scripts\\SPORK\\radar_storm_motion.py:9: DeprecationWarning: parsing timezone aware datetimes is deprecated; this will raise an error in the future\n",
      "  stormdte = (np.datetime64(end_time) - np.datetime64('1970-01-01T00:00:00Z')) / np.timedelta64(1, 's')\n",
      "C:\\Users\\matts\\Documents\\Python Scripts\\SPORK\\radar_storm_motion.py:11: DeprecationWarning: parsing timezone aware datetimes is deprecated; this will raise an error in the future\n",
      "  stormdti = (start_time - np.datetime64('1970-01-01T00:00:00Z')) / np.timedelta64(1, 's')\n"
     ]
    },
    {
     "name": "stdout",
     "output_type": "stream",
     "text": [
      "Testfig Saved\n",
      "10.223225361905618 meter / second -1.2552542370730213 meter / second Bunkers motion components\n",
      "[0.48591166678777475] meter / second [-4.0338877720107815] meter / second Observed motion components\n",
      "Figure Saved\n",
      "in loop\n",
      "21\n",
      "in loop\n",
      "21\n",
      "in loop\n",
      "21\n",
      "in loop\n",
      "21\n",
      "in loop\n",
      "21\n",
      "in loop\n",
      "21\n",
      "Pre-grid Organization Section\n",
      "KDP Section\n",
      "Grid Section\n"
     ]
    },
    {
     "name": "stderr",
     "output_type": "stream",
     "text": [
      "C:\\Users\\matts\\AppData\\Local\\Continuum\\anaconda3\\envs\\radar\\lib\\site-packages\\pyart\\map\\gates_to_grid.py:177: DeprecationWarning: Barnes weighting function is deprecated. Please use Barnes 2 to be consistent with Pauley and Wu 1990.\n",
      "  \" Pauley and Wu 1990.\", DeprecationWarning)\n"
     ]
    },
    {
     "name": "stdout",
     "output_type": "stream",
     "text": [
      "(-98.23255157470703, 36.9969482421875, <cartopy.crs.PlateCarree object at 0x0000024BA70AFE88>)\n"
     ]
    },
    {
     "name": "stderr",
     "output_type": "stream",
     "text": [
      "C:\\Users\\matts\\AppData\\Local\\Continuum\\anaconda3\\envs\\radar\\lib\\site-packages\\cartopy\\mpl\\geoaxes.py:1366: UserWarning: The following kwargs were not used by contour: 'linestyle'\n",
      "  result = matplotlib.axes.Axes.contour(self, *args, **kwargs)\n"
     ]
    },
    {
     "name": "stdout",
     "output_type": "stream",
     "text": [
      "0 storm id\n",
      "-97.36030628182053 storm lon\n",
      "39.03677253478002 storm lat\n",
      "length of obs 43\n",
      "(3.7390508423354967, 10.29245556556242)\n"
     ]
    },
    {
     "name": "stderr",
     "output_type": "stream",
     "text": [
      "C:\\Users\\matts\\Documents\\Python Scripts\\SPORK\\radar_storm_motion.py:9: DeprecationWarning: parsing timezone aware datetimes is deprecated; this will raise an error in the future\n",
      "  stormdte = (np.datetime64(end_time) - np.datetime64('1970-01-01T00:00:00Z')) / np.timedelta64(1, 's')\n",
      "C:\\Users\\matts\\Documents\\Python Scripts\\SPORK\\radar_storm_motion.py:11: DeprecationWarning: parsing timezone aware datetimes is deprecated; this will raise an error in the future\n",
      "  stormdti = (start_time - np.datetime64('1970-01-01T00:00:00Z')) / np.timedelta64(1, 's')\n",
      "C:\\Users\\matts\\Documents\\Python Scripts\\SPORK\\radar_storm_motion.py:9: DeprecationWarning: parsing timezone aware datetimes is deprecated; this will raise an error in the future\n",
      "  stormdte = (np.datetime64(end_time) - np.datetime64('1970-01-01T00:00:00Z')) / np.timedelta64(1, 's')\n",
      "C:\\Users\\matts\\Documents\\Python Scripts\\SPORK\\radar_storm_motion.py:11: DeprecationWarning: parsing timezone aware datetimes is deprecated; this will raise an error in the future\n",
      "  stormdti = (start_time - np.datetime64('1970-01-01T00:00:00Z')) / np.timedelta64(1, 's')\n"
     ]
    },
    {
     "name": "stdout",
     "output_type": "stream",
     "text": [
      "Testfig Saved\n",
      "10.223225361905618 meter / second -1.2552542370730213 meter / second Bunkers motion components\n",
      "[-0.6680661609473552] meter / second [-3.67888417949884] meter / second Observed motion components\n",
      "Figure Saved\n",
      "in loop\n",
      "21\n",
      "in loop\n",
      "21\n",
      "in loop\n",
      "21\n",
      "in loop\n",
      "21\n",
      "in loop\n",
      "21\n",
      "in loop\n",
      "21\n",
      "in loop\n",
      "21\n",
      "Pre-grid Organization Section\n",
      "KDP Section\n",
      "Grid Section\n"
     ]
    },
    {
     "name": "stderr",
     "output_type": "stream",
     "text": [
      "C:\\Users\\matts\\AppData\\Local\\Continuum\\anaconda3\\envs\\radar\\lib\\site-packages\\pyart\\map\\gates_to_grid.py:177: DeprecationWarning: Barnes weighting function is deprecated. Please use Barnes 2 to be consistent with Pauley and Wu 1990.\n",
      "  \" Pauley and Wu 1990.\", DeprecationWarning)\n"
     ]
    },
    {
     "name": "stdout",
     "output_type": "stream",
     "text": [
      "(-98.23255157470703, 36.9969482421875, <cartopy.crs.PlateCarree object at 0x0000024BA6F9CDC8>)\n"
     ]
    },
    {
     "name": "stderr",
     "output_type": "stream",
     "text": [
      "C:\\Users\\matts\\AppData\\Local\\Continuum\\anaconda3\\envs\\radar\\lib\\site-packages\\cartopy\\mpl\\geoaxes.py:1366: UserWarning: The following kwargs were not used by contour: 'linestyle'\n",
      "  result = matplotlib.axes.Axes.contour(self, *args, **kwargs)\n"
     ]
    },
    {
     "name": "stdout",
     "output_type": "stream",
     "text": [
      "0 storm id\n",
      "-97.35298192919194 storm lon\n",
      "39.039428572244155 storm lat\n",
      "length of obs 44\n",
      "(3.3308622061738276, 13.900193270603154)\n"
     ]
    },
    {
     "name": "stderr",
     "output_type": "stream",
     "text": [
      "C:\\Users\\matts\\Documents\\Python Scripts\\SPORK\\radar_storm_motion.py:9: DeprecationWarning: parsing timezone aware datetimes is deprecated; this will raise an error in the future\n",
      "  stormdte = (np.datetime64(end_time) - np.datetime64('1970-01-01T00:00:00Z')) / np.timedelta64(1, 's')\n",
      "C:\\Users\\matts\\Documents\\Python Scripts\\SPORK\\radar_storm_motion.py:11: DeprecationWarning: parsing timezone aware datetimes is deprecated; this will raise an error in the future\n",
      "  stormdti = (start_time - np.datetime64('1970-01-01T00:00:00Z')) / np.timedelta64(1, 's')\n",
      "C:\\Users\\matts\\Documents\\Python Scripts\\SPORK\\radar_storm_motion.py:9: DeprecationWarning: parsing timezone aware datetimes is deprecated; this will raise an error in the future\n",
      "  stormdte = (np.datetime64(end_time) - np.datetime64('1970-01-01T00:00:00Z')) / np.timedelta64(1, 's')\n",
      "C:\\Users\\matts\\Documents\\Python Scripts\\SPORK\\radar_storm_motion.py:11: DeprecationWarning: parsing timezone aware datetimes is deprecated; this will raise an error in the future\n",
      "  stormdti = (start_time - np.datetime64('1970-01-01T00:00:00Z')) / np.timedelta64(1, 's')\n"
     ]
    },
    {
     "name": "stdout",
     "output_type": "stream",
     "text": [
      "Testfig Saved\n",
      "10.223225361905618 meter / second -1.2552542370730213 meter / second Bunkers motion components\n",
      "[-0.8001774142177653] meter / second [-3.2333201422520705] meter / second Observed motion components\n",
      "Figure Saved\n",
      "in loop\n",
      "21\n",
      "in loop\n",
      "21\n",
      "in loop\n",
      "21\n",
      "in loop\n",
      "21\n",
      "in loop\n",
      "21\n",
      "in loop\n",
      "21\n",
      "in loop\n",
      "21\n",
      "File Reading\n",
      "in loop\n",
      "21\n",
      "Pre-grid Organization Section\n",
      "KDP Section\n",
      "Grid Section\n"
     ]
    },
    {
     "name": "stderr",
     "output_type": "stream",
     "text": [
      "C:\\Users\\matts\\AppData\\Local\\Continuum\\anaconda3\\envs\\radar\\lib\\site-packages\\pyart\\map\\gates_to_grid.py:177: DeprecationWarning: Barnes weighting function is deprecated. Please use Barnes 2 to be consistent with Pauley and Wu 1990.\n",
      "  \" Pauley and Wu 1990.\", DeprecationWarning)\n"
     ]
    },
    {
     "name": "stdout",
     "output_type": "stream",
     "text": [
      "(-98.23255157470703, 36.9969482421875, <cartopy.crs.PlateCarree object at 0x0000024BA599A048>)\n"
     ]
    },
    {
     "name": "stderr",
     "output_type": "stream",
     "text": [
      "C:\\Users\\matts\\AppData\\Local\\Continuum\\anaconda3\\envs\\radar\\lib\\site-packages\\cartopy\\mpl\\geoaxes.py:1366: UserWarning: The following kwargs were not used by contour: 'linestyle'\n",
      "  result = matplotlib.axes.Axes.contour(self, *args, **kwargs)\n"
     ]
    },
    {
     "name": "stdout",
     "output_type": "stream",
     "text": [
      "0 storm id\n",
      "-97.35008865922555 storm lon\n",
      "39.044544693668016 storm lat\n",
      "length of obs 45\n",
      "(2.503485172490161, 16.9142071594232)\n"
     ]
    },
    {
     "name": "stderr",
     "output_type": "stream",
     "text": [
      "C:\\Users\\matts\\Documents\\Python Scripts\\SPORK\\radar_storm_motion.py:9: DeprecationWarning: parsing timezone aware datetimes is deprecated; this will raise an error in the future\n",
      "  stormdte = (np.datetime64(end_time) - np.datetime64('1970-01-01T00:00:00Z')) / np.timedelta64(1, 's')\n",
      "C:\\Users\\matts\\Documents\\Python Scripts\\SPORK\\radar_storm_motion.py:11: DeprecationWarning: parsing timezone aware datetimes is deprecated; this will raise an error in the future\n",
      "  stormdti = (start_time - np.datetime64('1970-01-01T00:00:00Z')) / np.timedelta64(1, 's')\n",
      "C:\\Users\\matts\\Documents\\Python Scripts\\SPORK\\radar_storm_motion.py:9: DeprecationWarning: parsing timezone aware datetimes is deprecated; this will raise an error in the future\n",
      "  stormdte = (np.datetime64(end_time) - np.datetime64('1970-01-01T00:00:00Z')) / np.timedelta64(1, 's')\n",
      "C:\\Users\\matts\\Documents\\Python Scripts\\SPORK\\radar_storm_motion.py:11: DeprecationWarning: parsing timezone aware datetimes is deprecated; this will raise an error in the future\n",
      "  stormdti = (start_time - np.datetime64('1970-01-01T00:00:00Z')) / np.timedelta64(1, 's')\n"
     ]
    },
    {
     "name": "stdout",
     "output_type": "stream",
     "text": [
      "Testfig Saved\n",
      "10.223225361905618 meter / second -1.2552542370730213 meter / second Bunkers motion components\n",
      "[-0.7283625686015985] meter / second [-2.3951880881338257] meter / second Observed motion components\n",
      "Figure Saved\n",
      "in loop\n",
      "21\n",
      "in loop\n",
      "21\n",
      "in loop\n",
      "21\n",
      "in loop\n",
      "21\n",
      "in loop\n",
      "21\n",
      "in loop\n",
      "21\n",
      "Pre-grid Organization Section\n",
      "KDP Section\n",
      "Grid Section\n"
     ]
    },
    {
     "name": "stderr",
     "output_type": "stream",
     "text": [
      "C:\\Users\\matts\\AppData\\Local\\Continuum\\anaconda3\\envs\\radar\\lib\\site-packages\\pyart\\map\\gates_to_grid.py:177: DeprecationWarning: Barnes weighting function is deprecated. Please use Barnes 2 to be consistent with Pauley and Wu 1990.\n",
      "  \" Pauley and Wu 1990.\", DeprecationWarning)\n"
     ]
    },
    {
     "name": "stdout",
     "output_type": "stream",
     "text": [
      "(-98.23255157470703, 36.9969482421875, <cartopy.crs.PlateCarree object at 0x0000024BA6E0DF48>)\n"
     ]
    },
    {
     "name": "stderr",
     "output_type": "stream",
     "text": [
      "C:\\Users\\matts\\AppData\\Local\\Continuum\\anaconda3\\envs\\radar\\lib\\site-packages\\cartopy\\mpl\\geoaxes.py:1366: UserWarning: The following kwargs were not used by contour: 'linestyle'\n",
      "  result = matplotlib.axes.Axes.contour(self, *args, **kwargs)\n"
     ]
    },
    {
     "name": "stdout",
     "output_type": "stream",
     "text": [
      "0 storm id\n",
      "-97.35112108240706 storm lon\n",
      "39.04837507802512 storm lat\n",
      "length of obs 46\n",
      "(2.330849835863459, 29.010892574757918)\n"
     ]
    },
    {
     "name": "stderr",
     "output_type": "stream",
     "text": [
      "C:\\Users\\matts\\Documents\\Python Scripts\\SPORK\\radar_storm_motion.py:9: DeprecationWarning: parsing timezone aware datetimes is deprecated; this will raise an error in the future\n",
      "  stormdte = (np.datetime64(end_time) - np.datetime64('1970-01-01T00:00:00Z')) / np.timedelta64(1, 's')\n",
      "C:\\Users\\matts\\Documents\\Python Scripts\\SPORK\\radar_storm_motion.py:11: DeprecationWarning: parsing timezone aware datetimes is deprecated; this will raise an error in the future\n",
      "  stormdti = (start_time - np.datetime64('1970-01-01T00:00:00Z')) / np.timedelta64(1, 's')\n",
      "C:\\Users\\matts\\Documents\\Python Scripts\\SPORK\\radar_storm_motion.py:9: DeprecationWarning: parsing timezone aware datetimes is deprecated; this will raise an error in the future\n",
      "  stormdte = (np.datetime64(end_time) - np.datetime64('1970-01-01T00:00:00Z')) / np.timedelta64(1, 's')\n",
      "C:\\Users\\matts\\Documents\\Python Scripts\\SPORK\\radar_storm_motion.py:11: DeprecationWarning: parsing timezone aware datetimes is deprecated; this will raise an error in the future\n",
      "  stormdti = (start_time - np.datetime64('1970-01-01T00:00:00Z')) / np.timedelta64(1, 's')\n"
     ]
    },
    {
     "name": "stdout",
     "output_type": "stream",
     "text": [
      "Testfig Saved\n",
      "10.223225361905618 meter / second -1.2552542370730213 meter / second Bunkers motion components\n",
      "[-1.1304059656051118] meter / second [-2.0383923347258466] meter / second Observed motion components\n",
      "Figure Saved\n",
      "in loop\n",
      "21\n",
      "in loop\n",
      "21\n",
      "in loop\n",
      "21\n",
      "in loop\n",
      "21\n",
      "in loop\n",
      "21\n",
      "in loop\n",
      "21\n",
      "in loop\n",
      "21\n",
      "Pre-grid Organization Section\n",
      "KDP Section\n",
      "Grid Section\n"
     ]
    },
    {
     "name": "stderr",
     "output_type": "stream",
     "text": [
      "C:\\Users\\matts\\AppData\\Local\\Continuum\\anaconda3\\envs\\radar\\lib\\site-packages\\pyart\\map\\gates_to_grid.py:177: DeprecationWarning: Barnes weighting function is deprecated. Please use Barnes 2 to be consistent with Pauley and Wu 1990.\n",
      "  \" Pauley and Wu 1990.\", DeprecationWarning)\n"
     ]
    },
    {
     "name": "stdout",
     "output_type": "stream",
     "text": [
      "(-98.23255157470703, 36.9969482421875, <cartopy.crs.PlateCarree object at 0x0000024BDD9B4948>)\n"
     ]
    },
    {
     "name": "stderr",
     "output_type": "stream",
     "text": [
      "C:\\Users\\matts\\AppData\\Local\\Continuum\\anaconda3\\envs\\radar\\lib\\site-packages\\cartopy\\mpl\\geoaxes.py:1366: UserWarning: The following kwargs were not used by contour: 'linestyle'\n",
      "  result = matplotlib.axes.Axes.contour(self, *args, **kwargs)\n"
     ]
    },
    {
     "name": "stdout",
     "output_type": "stream",
     "text": [
      "2 storm id\n",
      "-97.32622720638095 storm lon\n",
      "37.321038468199696 storm lat\n",
      "looks like a new cell\n",
      "0 storm id\n",
      "-97.35348578517977 storm lon\n",
      "39.05039220836746 storm lat\n",
      "length of obs 47\n",
      "(2.4220087989563437, 49.59582307226333)\n"
     ]
    },
    {
     "name": "stderr",
     "output_type": "stream",
     "text": [
      "C:\\Users\\matts\\Documents\\Python Scripts\\SPORK\\radar_storm_motion.py:9: DeprecationWarning: parsing timezone aware datetimes is deprecated; this will raise an error in the future\n",
      "  stormdte = (np.datetime64(end_time) - np.datetime64('1970-01-01T00:00:00Z')) / np.timedelta64(1, 's')\n",
      "C:\\Users\\matts\\Documents\\Python Scripts\\SPORK\\radar_storm_motion.py:11: DeprecationWarning: parsing timezone aware datetimes is deprecated; this will raise an error in the future\n",
      "  stormdti = (start_time - np.datetime64('1970-01-01T00:00:00Z')) / np.timedelta64(1, 's')\n",
      "C:\\Users\\matts\\Documents\\Python Scripts\\SPORK\\radar_storm_motion.py:9: DeprecationWarning: parsing timezone aware datetimes is deprecated; this will raise an error in the future\n",
      "  stormdte = (np.datetime64(end_time) - np.datetime64('1970-01-01T00:00:00Z')) / np.timedelta64(1, 's')\n",
      "C:\\Users\\matts\\Documents\\Python Scripts\\SPORK\\radar_storm_motion.py:11: DeprecationWarning: parsing timezone aware datetimes is deprecated; this will raise an error in the future\n",
      "  stormdti = (start_time - np.datetime64('1970-01-01T00:00:00Z')) / np.timedelta64(1, 's')\n"
     ]
    },
    {
     "name": "stdout",
     "output_type": "stream",
     "text": [
      "Testfig Saved\n",
      "10.223225361905618 meter / second -1.2552542370730213 meter / second Bunkers motion components\n",
      "[nan -1.8443380399747733] meter / second [nan -1.5698865616737925] meter / second Observed motion components\n",
      "Figure Saved\n",
      "in loop\n",
      "21\n",
      "in loop\n",
      "21\n",
      "in loop\n",
      "21\n",
      "in loop\n",
      "21\n",
      "in loop\n",
      "21\n",
      "in loop\n",
      "21\n",
      "in loop\n",
      "21\n",
      "File Reading\n",
      "in loop\n",
      "21\n",
      "Pre-grid Organization Section\n",
      "KDP Section\n",
      "Grid Section\n"
     ]
    },
    {
     "name": "stderr",
     "output_type": "stream",
     "text": [
      "C:\\Users\\matts\\AppData\\Local\\Continuum\\anaconda3\\envs\\radar\\lib\\site-packages\\pyart\\map\\gates_to_grid.py:177: DeprecationWarning: Barnes weighting function is deprecated. Please use Barnes 2 to be consistent with Pauley and Wu 1990.\n",
      "  \" Pauley and Wu 1990.\", DeprecationWarning)\n"
     ]
    },
    {
     "name": "stdout",
     "output_type": "stream",
     "text": [
      "(-98.23255157470703, 36.9969482421875, <cartopy.crs.PlateCarree object at 0x0000024BBB9038E8>)\n"
     ]
    },
    {
     "name": "stderr",
     "output_type": "stream",
     "text": [
      "C:\\Users\\matts\\AppData\\Local\\Continuum\\anaconda3\\envs\\radar\\lib\\site-packages\\cartopy\\mpl\\geoaxes.py:1366: UserWarning: The following kwargs were not used by contour: 'linestyle'\n",
      "  result = matplotlib.axes.Axes.contour(self, *args, **kwargs)\n"
     ]
    },
    {
     "name": "stdout",
     "output_type": "stream",
     "text": [
      "2 storm id\n",
      "-97.30054221481898 storm lon\n",
      "37.3328192651037 storm lat\n",
      "length of obs 1\n",
      "(20.32406115774969, 240.03144762424517)\n",
      "0 storm id\n",
      "-97.36141207166622 storm lon\n",
      "39.05043291924583 storm lat\n",
      "length of obs 48\n",
      "(3.1428991874978154, 70.07246233559538)\n"
     ]
    },
    {
     "name": "stderr",
     "output_type": "stream",
     "text": [
      "C:\\Users\\matts\\Documents\\Python Scripts\\SPORK\\radar_storm_motion.py:9: DeprecationWarning: parsing timezone aware datetimes is deprecated; this will raise an error in the future\n",
      "  stormdte = (np.datetime64(end_time) - np.datetime64('1970-01-01T00:00:00Z')) / np.timedelta64(1, 's')\n",
      "C:\\Users\\matts\\Documents\\Python Scripts\\SPORK\\radar_storm_motion.py:11: DeprecationWarning: parsing timezone aware datetimes is deprecated; this will raise an error in the future\n",
      "  stormdti = (start_time - np.datetime64('1970-01-01T00:00:00Z')) / np.timedelta64(1, 's')\n",
      "C:\\Users\\matts\\Documents\\Python Scripts\\SPORK\\radar_storm_motion.py:9: DeprecationWarning: parsing timezone aware datetimes is deprecated; this will raise an error in the future\n",
      "  stormdte = (np.datetime64(end_time) - np.datetime64('1970-01-01T00:00:00Z')) / np.timedelta64(1, 's')\n",
      "C:\\Users\\matts\\Documents\\Python Scripts\\SPORK\\radar_storm_motion.py:11: DeprecationWarning: parsing timezone aware datetimes is deprecated; this will raise an error in the future\n",
      "  stormdti = (start_time - np.datetime64('1970-01-01T00:00:00Z')) / np.timedelta64(1, 's')\n",
      "C:\\Users\\matts\\Documents\\Python Scripts\\SPORK\\radar_storm_motion.py:9: DeprecationWarning: parsing timezone aware datetimes is deprecated; this will raise an error in the future\n",
      "  stormdte = (np.datetime64(end_time) - np.datetime64('1970-01-01T00:00:00Z')) / np.timedelta64(1, 's')\n",
      "C:\\Users\\matts\\Documents\\Python Scripts\\SPORK\\radar_storm_motion.py:11: DeprecationWarning: parsing timezone aware datetimes is deprecated; this will raise an error in the future\n",
      "  stormdti = (start_time - np.datetime64('1970-01-01T00:00:00Z')) / np.timedelta64(1, 's')\n",
      "C:\\Users\\matts\\Documents\\Python Scripts\\SPORK\\radar_storm_motion.py:9: DeprecationWarning: parsing timezone aware datetimes is deprecated; this will raise an error in the future\n",
      "  stormdte = (np.datetime64(end_time) - np.datetime64('1970-01-01T00:00:00Z')) / np.timedelta64(1, 's')\n",
      "C:\\Users\\matts\\Documents\\Python Scripts\\SPORK\\radar_storm_motion.py:11: DeprecationWarning: parsing timezone aware datetimes is deprecated; this will raise an error in the future\n",
      "  stormdti = (start_time - np.datetime64('1970-01-01T00:00:00Z')) / np.timedelta64(1, 's')\n"
     ]
    },
    {
     "name": "stdout",
     "output_type": "stream",
     "text": [
      "Testfig Saved\n",
      "10.223225361905618 meter / second -1.2552542370730213 meter / second Bunkers motion components\n",
      "[17.606728197902093 -2.954716288976139] meter / second [10.152368399006653 -1.071198839820835] meter / second Observed motion components\n",
      "Figure Saved\n",
      "in loop\n",
      "21\n",
      "in loop\n",
      "21\n",
      "in loop\n",
      "21\n",
      "in loop\n",
      "21\n",
      "in loop\n",
      "21\n",
      "in loop\n",
      "21\n",
      "Pre-grid Organization Section\n",
      "KDP Section\n",
      "Grid Section\n"
     ]
    },
    {
     "name": "stderr",
     "output_type": "stream",
     "text": [
      "C:\\Users\\matts\\AppData\\Local\\Continuum\\anaconda3\\envs\\radar\\lib\\site-packages\\pyart\\map\\gates_to_grid.py:177: DeprecationWarning: Barnes weighting function is deprecated. Please use Barnes 2 to be consistent with Pauley and Wu 1990.\n",
      "  \" Pauley and Wu 1990.\", DeprecationWarning)\n"
     ]
    },
    {
     "name": "stdout",
     "output_type": "stream",
     "text": [
      "(-98.23255157470703, 36.9969482421875, <cartopy.crs.PlateCarree object at 0x0000024BA70AFE88>)\n"
     ]
    },
    {
     "name": "stderr",
     "output_type": "stream",
     "text": [
      "C:\\Users\\matts\\AppData\\Local\\Continuum\\anaconda3\\envs\\radar\\lib\\site-packages\\cartopy\\mpl\\geoaxes.py:1366: UserWarning: The following kwargs were not used by contour: 'linestyle'\n",
      "  result = matplotlib.axes.Axes.contour(self, *args, **kwargs)\n"
     ]
    },
    {
     "name": "stdout",
     "output_type": "stream",
     "text": [
      "2 storm id\n",
      "-97.2773572843969 storm lon\n",
      "37.34010276821828 storm lat\n",
      "length of obs 2\n",
      "(19.888039775701646, 243.882115044739)\n",
      "0 storm id\n",
      "-97.35448487058055 storm lon\n",
      "39.053746379565546 storm lat\n",
      "length of obs 49\n",
      "(3.4463395223651956, 83.064160650795)\n"
     ]
    },
    {
     "name": "stderr",
     "output_type": "stream",
     "text": [
      "C:\\Users\\matts\\Documents\\Python Scripts\\SPORK\\radar_storm_motion.py:9: DeprecationWarning: parsing timezone aware datetimes is deprecated; this will raise an error in the future\n",
      "  stormdte = (np.datetime64(end_time) - np.datetime64('1970-01-01T00:00:00Z')) / np.timedelta64(1, 's')\n",
      "C:\\Users\\matts\\Documents\\Python Scripts\\SPORK\\radar_storm_motion.py:11: DeprecationWarning: parsing timezone aware datetimes is deprecated; this will raise an error in the future\n",
      "  stormdti = (start_time - np.datetime64('1970-01-01T00:00:00Z')) / np.timedelta64(1, 's')\n",
      "C:\\Users\\matts\\Documents\\Python Scripts\\SPORK\\radar_storm_motion.py:9: DeprecationWarning: parsing timezone aware datetimes is deprecated; this will raise an error in the future\n",
      "  stormdte = (np.datetime64(end_time) - np.datetime64('1970-01-01T00:00:00Z')) / np.timedelta64(1, 's')\n",
      "C:\\Users\\matts\\Documents\\Python Scripts\\SPORK\\radar_storm_motion.py:11: DeprecationWarning: parsing timezone aware datetimes is deprecated; this will raise an error in the future\n",
      "  stormdti = (start_time - np.datetime64('1970-01-01T00:00:00Z')) / np.timedelta64(1, 's')\n",
      "C:\\Users\\matts\\Documents\\Python Scripts\\SPORK\\radar_storm_motion.py:9: DeprecationWarning: parsing timezone aware datetimes is deprecated; this will raise an error in the future\n",
      "  stormdte = (np.datetime64(end_time) - np.datetime64('1970-01-01T00:00:00Z')) / np.timedelta64(1, 's')\n",
      "C:\\Users\\matts\\Documents\\Python Scripts\\SPORK\\radar_storm_motion.py:11: DeprecationWarning: parsing timezone aware datetimes is deprecated; this will raise an error in the future\n",
      "  stormdti = (start_time - np.datetime64('1970-01-01T00:00:00Z')) / np.timedelta64(1, 's')\n",
      "C:\\Users\\matts\\Documents\\Python Scripts\\SPORK\\radar_storm_motion.py:9: DeprecationWarning: parsing timezone aware datetimes is deprecated; this will raise an error in the future\n",
      "  stormdte = (np.datetime64(end_time) - np.datetime64('1970-01-01T00:00:00Z')) / np.timedelta64(1, 's')\n",
      "C:\\Users\\matts\\Documents\\Python Scripts\\SPORK\\radar_storm_motion.py:11: DeprecationWarning: parsing timezone aware datetimes is deprecated; this will raise an error in the future\n",
      "  stormdti = (start_time - np.datetime64('1970-01-01T00:00:00Z')) / np.timedelta64(1, 's')\n"
     ]
    },
    {
     "name": "stdout",
     "output_type": "stream",
     "text": [
      "Testfig Saved\n",
      "10.223225361905618 meter / second -1.2552542370730213 meter / second Bunkers motion components\n",
      "[17.857276099384844 -3.421119210997875] meter / second [8.755102308381645 -0.4161723772160311] meter / second Observed motion components\n",
      "Figure Saved\n",
      "in loop\n",
      "21\n",
      "in loop\n",
      "21\n",
      "in loop\n",
      "21\n",
      "in loop\n",
      "21\n",
      "in loop\n",
      "21\n",
      "in loop\n",
      "21\n",
      "in loop\n",
      "21\n",
      "Pre-grid Organization Section\n",
      "KDP Section\n",
      "Grid Section\n"
     ]
    },
    {
     "name": "stderr",
     "output_type": "stream",
     "text": [
      "C:\\Users\\matts\\AppData\\Local\\Continuum\\anaconda3\\envs\\radar\\lib\\site-packages\\pyart\\map\\gates_to_grid.py:177: DeprecationWarning: Barnes weighting function is deprecated. Please use Barnes 2 to be consistent with Pauley and Wu 1990.\n",
      "  \" Pauley and Wu 1990.\", DeprecationWarning)\n"
     ]
    },
    {
     "name": "stdout",
     "output_type": "stream",
     "text": [
      "(-98.23255157470703, 36.9969482421875, <cartopy.crs.PlateCarree object at 0x0000024B8E3D2C48>)\n"
     ]
    },
    {
     "name": "stderr",
     "output_type": "stream",
     "text": [
      "C:\\Users\\matts\\AppData\\Local\\Continuum\\anaconda3\\envs\\radar\\lib\\site-packages\\cartopy\\mpl\\geoaxes.py:1366: UserWarning: The following kwargs were not used by contour: 'linestyle'\n",
      "  result = matplotlib.axes.Axes.contour(self, *args, **kwargs)\n"
     ]
    },
    {
     "name": "stdout",
     "output_type": "stream",
     "text": [
      "2 storm id\n",
      "-97.26670037822562 storm lon\n",
      "37.347535977560916 storm lat\n",
      "length of obs 3\n",
      "(17.086477010008295, 240.77616140459511)\n",
      "0 storm id\n",
      "-97.33932506476934 storm lon\n",
      "39.05930183238989 storm lat\n",
      "length of obs 50\n",
      "(2.8393528972638244, 99.0333575590159)\n"
     ]
    },
    {
     "name": "stderr",
     "output_type": "stream",
     "text": [
      "C:\\Users\\matts\\Documents\\Python Scripts\\SPORK\\radar_storm_motion.py:9: DeprecationWarning: parsing timezone aware datetimes is deprecated; this will raise an error in the future\n",
      "  stormdte = (np.datetime64(end_time) - np.datetime64('1970-01-01T00:00:00Z')) / np.timedelta64(1, 's')\n",
      "C:\\Users\\matts\\Documents\\Python Scripts\\SPORK\\radar_storm_motion.py:11: DeprecationWarning: parsing timezone aware datetimes is deprecated; this will raise an error in the future\n",
      "  stormdti = (start_time - np.datetime64('1970-01-01T00:00:00Z')) / np.timedelta64(1, 's')\n",
      "C:\\Users\\matts\\Documents\\Python Scripts\\SPORK\\radar_storm_motion.py:9: DeprecationWarning: parsing timezone aware datetimes is deprecated; this will raise an error in the future\n",
      "  stormdte = (np.datetime64(end_time) - np.datetime64('1970-01-01T00:00:00Z')) / np.timedelta64(1, 's')\n",
      "C:\\Users\\matts\\Documents\\Python Scripts\\SPORK\\radar_storm_motion.py:11: DeprecationWarning: parsing timezone aware datetimes is deprecated; this will raise an error in the future\n",
      "  stormdti = (start_time - np.datetime64('1970-01-01T00:00:00Z')) / np.timedelta64(1, 's')\n",
      "C:\\Users\\matts\\Documents\\Python Scripts\\SPORK\\radar_storm_motion.py:9: DeprecationWarning: parsing timezone aware datetimes is deprecated; this will raise an error in the future\n",
      "  stormdte = (np.datetime64(end_time) - np.datetime64('1970-01-01T00:00:00Z')) / np.timedelta64(1, 's')\n",
      "C:\\Users\\matts\\Documents\\Python Scripts\\SPORK\\radar_storm_motion.py:11: DeprecationWarning: parsing timezone aware datetimes is deprecated; this will raise an error in the future\n",
      "  stormdti = (start_time - np.datetime64('1970-01-01T00:00:00Z')) / np.timedelta64(1, 's')\n",
      "C:\\Users\\matts\\Documents\\Python Scripts\\SPORK\\radar_storm_motion.py:9: DeprecationWarning: parsing timezone aware datetimes is deprecated; this will raise an error in the future\n",
      "  stormdte = (np.datetime64(end_time) - np.datetime64('1970-01-01T00:00:00Z')) / np.timedelta64(1, 's')\n",
      "C:\\Users\\matts\\Documents\\Python Scripts\\SPORK\\radar_storm_motion.py:11: DeprecationWarning: parsing timezone aware datetimes is deprecated; this will raise an error in the future\n",
      "  stormdti = (start_time - np.datetime64('1970-01-01T00:00:00Z')) / np.timedelta64(1, 's')\n"
     ]
    },
    {
     "name": "stdout",
     "output_type": "stream",
     "text": [
      "Testfig Saved\n",
      "10.223225361905618 meter / second -1.2552542370730213 meter / second Bunkers motion components\n",
      "[14.91169350330635 -2.804136679215763] meter / second [8.342007760545012 0.4458052932360358] meter / second Observed motion components\n",
      "Figure Saved\n",
      "in loop\n",
      "21\n",
      "in loop\n",
      "21\n",
      "in loop\n",
      "21\n",
      "in loop\n",
      "21\n",
      "in loop\n",
      "21\n",
      "in loop\n",
      "21\n",
      "in loop\n",
      "21\n",
      "File Reading\n",
      "in loop\n",
      "21\n",
      "Pre-grid Organization Section\n",
      "KDP Section\n",
      "Grid Section\n"
     ]
    },
    {
     "name": "stderr",
     "output_type": "stream",
     "text": [
      "C:\\Users\\matts\\AppData\\Local\\Continuum\\anaconda3\\envs\\radar\\lib\\site-packages\\pyart\\map\\gates_to_grid.py:177: DeprecationWarning: Barnes weighting function is deprecated. Please use Barnes 2 to be consistent with Pauley and Wu 1990.\n",
      "  \" Pauley and Wu 1990.\", DeprecationWarning)\n"
     ]
    },
    {
     "name": "stdout",
     "output_type": "stream",
     "text": [
      "(-98.23255157470703, 36.9969482421875, <cartopy.crs.PlateCarree object at 0x0000024BC2C66288>)\n"
     ]
    },
    {
     "name": "stderr",
     "output_type": "stream",
     "text": [
      "C:\\Users\\matts\\AppData\\Local\\Continuum\\anaconda3\\envs\\radar\\lib\\site-packages\\cartopy\\mpl\\geoaxes.py:1366: UserWarning: The following kwargs were not used by contour: 'linestyle'\n",
      "  result = matplotlib.axes.Axes.contour(self, *args, **kwargs)\n"
     ]
    },
    {
     "name": "stdout",
     "output_type": "stream",
     "text": [
      "2 storm id\n",
      "-97.2604685119206 storm lon\n",
      "37.3531552012081 storm lat\n",
      "length of obs 4\n",
      "(14.184854986351006, 238.4583439550036)\n",
      "3 storm id\n",
      "-97.47016212428811 storm lon\n",
      "39.066643404155045 storm lat\n",
      "looks like a new cell\n",
      "4 storm id\n",
      "-97.20932856584213 storm lon\n",
      "39.064172501768034 storm lat\n",
      "looks like a new cell\n"
     ]
    },
    {
     "name": "stderr",
     "output_type": "stream",
     "text": [
      "C:\\Users\\matts\\Documents\\Python Scripts\\SPORK\\radar_storm_motion.py:9: DeprecationWarning: parsing timezone aware datetimes is deprecated; this will raise an error in the future\n",
      "  stormdte = (np.datetime64(end_time) - np.datetime64('1970-01-01T00:00:00Z')) / np.timedelta64(1, 's')\n",
      "C:\\Users\\matts\\Documents\\Python Scripts\\SPORK\\radar_storm_motion.py:11: DeprecationWarning: parsing timezone aware datetimes is deprecated; this will raise an error in the future\n",
      "  stormdti = (start_time - np.datetime64('1970-01-01T00:00:00Z')) / np.timedelta64(1, 's')\n",
      "C:\\Users\\matts\\Documents\\Python Scripts\\SPORK\\radar_storm_motion.py:9: DeprecationWarning: parsing timezone aware datetimes is deprecated; this will raise an error in the future\n",
      "  stormdte = (np.datetime64(end_time) - np.datetime64('1970-01-01T00:00:00Z')) / np.timedelta64(1, 's')\n",
      "C:\\Users\\matts\\Documents\\Python Scripts\\SPORK\\radar_storm_motion.py:11: DeprecationWarning: parsing timezone aware datetimes is deprecated; this will raise an error in the future\n",
      "  stormdti = (start_time - np.datetime64('1970-01-01T00:00:00Z')) / np.timedelta64(1, 's')\n"
     ]
    },
    {
     "name": "stdout",
     "output_type": "stream",
     "text": [
      "Testfig Saved\n",
      "10.223225361905618 meter / second -1.2552542370730213 meter / second Bunkers motion components\n",
      "[12.089185421716364 nan nan] meter / second [7.420357594022511 nan nan] meter / second Observed motion components\n",
      "Figure Saved\n",
      "in loop\n",
      "21\n",
      "in loop\n",
      "21\n",
      "in loop\n",
      "21\n",
      "in loop\n",
      "21\n",
      "in loop\n",
      "21\n",
      "in loop\n",
      "21\n",
      "Pre-grid Organization Section\n",
      "KDP Section\n",
      "Grid Section\n"
     ]
    },
    {
     "name": "stderr",
     "output_type": "stream",
     "text": [
      "C:\\Users\\matts\\AppData\\Local\\Continuum\\anaconda3\\envs\\radar\\lib\\site-packages\\pyart\\map\\gates_to_grid.py:177: DeprecationWarning: Barnes weighting function is deprecated. Please use Barnes 2 to be consistent with Pauley and Wu 1990.\n",
      "  \" Pauley and Wu 1990.\", DeprecationWarning)\n"
     ]
    },
    {
     "name": "stdout",
     "output_type": "stream",
     "text": [
      "(-98.23255157470703, 36.9969482421875, <cartopy.crs.PlateCarree object at 0x0000024BC2C662E8>)\n"
     ]
    },
    {
     "name": "stderr",
     "output_type": "stream",
     "text": [
      "C:\\Users\\matts\\AppData\\Local\\Continuum\\anaconda3\\envs\\radar\\lib\\site-packages\\cartopy\\mpl\\geoaxes.py:1366: UserWarning: The following kwargs were not used by contour: 'linestyle'\n",
      "  result = matplotlib.axes.Axes.contour(self, *args, **kwargs)\n"
     ]
    },
    {
     "name": "stdout",
     "output_type": "stream",
     "text": [
      "2 storm id\n",
      "-97.26179789828105 storm lon\n",
      "37.35860793756476 storm lat\n",
      "length of obs 5\n",
      "(11.871694654716636, 233.76227130704694)\n",
      "3 storm id\n",
      "-97.46186775291997 storm lon\n",
      "39.07245821469651 storm lat\n",
      "length of obs 1\n",
      "(8.537826843954363, 227.92128725333302)\n",
      "4 storm id\n",
      "-97.19101873038315 storm lon\n",
      "39.065083080635354 storm lat\n",
      "length of obs 1\n",
      "(14.017974034525121, 266.34090886012166)\n"
     ]
    },
    {
     "name": "stderr",
     "output_type": "stream",
     "text": [
      "C:\\Users\\matts\\Documents\\Python Scripts\\SPORK\\radar_storm_motion.py:9: DeprecationWarning: parsing timezone aware datetimes is deprecated; this will raise an error in the future\n",
      "  stormdte = (np.datetime64(end_time) - np.datetime64('1970-01-01T00:00:00Z')) / np.timedelta64(1, 's')\n",
      "C:\\Users\\matts\\Documents\\Python Scripts\\SPORK\\radar_storm_motion.py:11: DeprecationWarning: parsing timezone aware datetimes is deprecated; this will raise an error in the future\n",
      "  stormdti = (start_time - np.datetime64('1970-01-01T00:00:00Z')) / np.timedelta64(1, 's')\n",
      "C:\\Users\\matts\\Documents\\Python Scripts\\SPORK\\radar_storm_motion.py:9: DeprecationWarning: parsing timezone aware datetimes is deprecated; this will raise an error in the future\n",
      "  stormdte = (np.datetime64(end_time) - np.datetime64('1970-01-01T00:00:00Z')) / np.timedelta64(1, 's')\n",
      "C:\\Users\\matts\\Documents\\Python Scripts\\SPORK\\radar_storm_motion.py:11: DeprecationWarning: parsing timezone aware datetimes is deprecated; this will raise an error in the future\n",
      "  stormdti = (start_time - np.datetime64('1970-01-01T00:00:00Z')) / np.timedelta64(1, 's')\n",
      "C:\\Users\\matts\\Documents\\Python Scripts\\SPORK\\radar_storm_motion.py:9: DeprecationWarning: parsing timezone aware datetimes is deprecated; this will raise an error in the future\n",
      "  stormdte = (np.datetime64(end_time) - np.datetime64('1970-01-01T00:00:00Z')) / np.timedelta64(1, 's')\n",
      "C:\\Users\\matts\\Documents\\Python Scripts\\SPORK\\radar_storm_motion.py:11: DeprecationWarning: parsing timezone aware datetimes is deprecated; this will raise an error in the future\n",
      "  stormdti = (start_time - np.datetime64('1970-01-01T00:00:00Z')) / np.timedelta64(1, 's')\n",
      "C:\\Users\\matts\\Documents\\Python Scripts\\SPORK\\radar_storm_motion.py:9: DeprecationWarning: parsing timezone aware datetimes is deprecated; this will raise an error in the future\n",
      "  stormdte = (np.datetime64(end_time) - np.datetime64('1970-01-01T00:00:00Z')) / np.timedelta64(1, 's')\n",
      "C:\\Users\\matts\\Documents\\Python Scripts\\SPORK\\radar_storm_motion.py:11: DeprecationWarning: parsing timezone aware datetimes is deprecated; this will raise an error in the future\n",
      "  stormdti = (start_time - np.datetime64('1970-01-01T00:00:00Z')) / np.timedelta64(1, 's')\n",
      "C:\\Users\\matts\\Documents\\Python Scripts\\SPORK\\radar_storm_motion.py:9: DeprecationWarning: parsing timezone aware datetimes is deprecated; this will raise an error in the future\n",
      "  stormdte = (np.datetime64(end_time) - np.datetime64('1970-01-01T00:00:00Z')) / np.timedelta64(1, 's')\n",
      "C:\\Users\\matts\\Documents\\Python Scripts\\SPORK\\radar_storm_motion.py:11: DeprecationWarning: parsing timezone aware datetimes is deprecated; this will raise an error in the future\n",
      "  stormdti = (start_time - np.datetime64('1970-01-01T00:00:00Z')) / np.timedelta64(1, 's')\n",
      "C:\\Users\\matts\\Documents\\Python Scripts\\SPORK\\radar_storm_motion.py:9: DeprecationWarning: parsing timezone aware datetimes is deprecated; this will raise an error in the future\n",
      "  stormdte = (np.datetime64(end_time) - np.datetime64('1970-01-01T00:00:00Z')) / np.timedelta64(1, 's')\n",
      "C:\\Users\\matts\\Documents\\Python Scripts\\SPORK\\radar_storm_motion.py:11: DeprecationWarning: parsing timezone aware datetimes is deprecated; this will raise an error in the future\n",
      "  stormdti = (start_time - np.datetime64('1970-01-01T00:00:00Z')) / np.timedelta64(1, 's')\n"
     ]
    },
    {
     "name": "stdout",
     "output_type": "stream",
     "text": [
      "Testfig Saved\n",
      "10.223225361905618 meter / second -1.2552542370730213 meter / second Bunkers motion components\n",
      "[9.5753673520481 6.336987463260742 13.98939754785492] meter / second [7.017796951191941 5.721632381394659 0.8946241002182073] meter / second Observed motion components\n",
      "Figure Saved\n",
      "in loop\n",
      "21\n",
      "in loop\n",
      "21\n",
      "in loop\n",
      "21\n",
      "in loop\n",
      "21\n",
      "in loop\n",
      "21\n",
      "in loop\n",
      "21\n",
      "in loop\n",
      "21\n",
      "Pre-grid Organization Section\n",
      "KDP Section\n",
      "Grid Section\n"
     ]
    },
    {
     "name": "stderr",
     "output_type": "stream",
     "text": [
      "C:\\Users\\matts\\AppData\\Local\\Continuum\\anaconda3\\envs\\radar\\lib\\site-packages\\pyart\\map\\gates_to_grid.py:177: DeprecationWarning: Barnes weighting function is deprecated. Please use Barnes 2 to be consistent with Pauley and Wu 1990.\n",
      "  \" Pauley and Wu 1990.\", DeprecationWarning)\n"
     ]
    },
    {
     "name": "stdout",
     "output_type": "stream",
     "text": [
      "(-98.23255157470703, 36.9969482421875, <cartopy.crs.PlateCarree object at 0x0000024BA6E41048>)\n"
     ]
    },
    {
     "name": "stderr",
     "output_type": "stream",
     "text": [
      "C:\\Users\\matts\\AppData\\Local\\Continuum\\anaconda3\\envs\\radar\\lib\\site-packages\\cartopy\\mpl\\geoaxes.py:1366: UserWarning: The following kwargs were not used by contour: 'linestyle'\n",
      "  result = matplotlib.axes.Axes.contour(self, *args, **kwargs)\n"
     ]
    },
    {
     "name": "stdout",
     "output_type": "stream",
     "text": [
      "3 storm id\n",
      "-97.45155485484604 storm lon\n",
      "39.077053891678496 storm lat\n",
      "length of obs 2\n",
      "(8.839107519771629, 234.22726876942255)\n",
      "4 storm id\n",
      "-97.18156046505709 storm lon\n",
      "39.06274669093283 storm lat\n",
      "length of obs 2\n",
      "(10.726131881392657, 273.7922502095148)\n"
     ]
    },
    {
     "name": "stderr",
     "output_type": "stream",
     "text": [
      "C:\\Users\\matts\\Documents\\Python Scripts\\SPORK\\radar_storm_motion.py:9: DeprecationWarning: parsing timezone aware datetimes is deprecated; this will raise an error in the future\n",
      "  stormdte = (np.datetime64(end_time) - np.datetime64('1970-01-01T00:00:00Z')) / np.timedelta64(1, 's')\n",
      "C:\\Users\\matts\\Documents\\Python Scripts\\SPORK\\radar_storm_motion.py:11: DeprecationWarning: parsing timezone aware datetimes is deprecated; this will raise an error in the future\n",
      "  stormdti = (start_time - np.datetime64('1970-01-01T00:00:00Z')) / np.timedelta64(1, 's')\n",
      "C:\\Users\\matts\\Documents\\Python Scripts\\SPORK\\radar_storm_motion.py:9: DeprecationWarning: parsing timezone aware datetimes is deprecated; this will raise an error in the future\n",
      "  stormdte = (np.datetime64(end_time) - np.datetime64('1970-01-01T00:00:00Z')) / np.timedelta64(1, 's')\n",
      "C:\\Users\\matts\\Documents\\Python Scripts\\SPORK\\radar_storm_motion.py:11: DeprecationWarning: parsing timezone aware datetimes is deprecated; this will raise an error in the future\n",
      "  stormdti = (start_time - np.datetime64('1970-01-01T00:00:00Z')) / np.timedelta64(1, 's')\n",
      "C:\\Users\\matts\\Documents\\Python Scripts\\SPORK\\radar_storm_motion.py:9: DeprecationWarning: parsing timezone aware datetimes is deprecated; this will raise an error in the future\n",
      "  stormdte = (np.datetime64(end_time) - np.datetime64('1970-01-01T00:00:00Z')) / np.timedelta64(1, 's')\n",
      "C:\\Users\\matts\\Documents\\Python Scripts\\SPORK\\radar_storm_motion.py:11: DeprecationWarning: parsing timezone aware datetimes is deprecated; this will raise an error in the future\n",
      "  stormdti = (start_time - np.datetime64('1970-01-01T00:00:00Z')) / np.timedelta64(1, 's')\n",
      "C:\\Users\\matts\\Documents\\Python Scripts\\SPORK\\radar_storm_motion.py:9: DeprecationWarning: parsing timezone aware datetimes is deprecated; this will raise an error in the future\n",
      "  stormdte = (np.datetime64(end_time) - np.datetime64('1970-01-01T00:00:00Z')) / np.timedelta64(1, 's')\n",
      "C:\\Users\\matts\\Documents\\Python Scripts\\SPORK\\radar_storm_motion.py:11: DeprecationWarning: parsing timezone aware datetimes is deprecated; this will raise an error in the future\n",
      "  stormdti = (start_time - np.datetime64('1970-01-01T00:00:00Z')) / np.timedelta64(1, 's')\n"
     ]
    },
    {
     "name": "stdout",
     "output_type": "stream",
     "text": [
      "Testfig Saved\n",
      "10.223225361905618 meter / second -1.2552542370730213 meter / second Bunkers motion components\n",
      "[7.17154028629935 10.702646193265384] meter / second [5.167091219251776 -0.7094149694008146] meter / second Observed motion components\n",
      "Figure Saved\n",
      "in loop\n",
      "21\n",
      "in loop\n",
      "21\n",
      "in loop\n",
      "21\n",
      "in loop\n",
      "21\n",
      "in loop\n",
      "21\n",
      "in loop\n",
      "21\n",
      "in loop\n",
      "21\n",
      "File Reading\n",
      "in loop\n",
      "21\n",
      "Pre-grid Organization Section\n",
      "KDP Section\n",
      "Grid Section\n"
     ]
    },
    {
     "name": "stderr",
     "output_type": "stream",
     "text": [
      "C:\\Users\\matts\\AppData\\Local\\Continuum\\anaconda3\\envs\\radar\\lib\\site-packages\\pyart\\map\\gates_to_grid.py:177: DeprecationWarning: Barnes weighting function is deprecated. Please use Barnes 2 to be consistent with Pauley and Wu 1990.\n",
      "  \" Pauley and Wu 1990.\", DeprecationWarning)\n"
     ]
    },
    {
     "name": "stdout",
     "output_type": "stream",
     "text": [
      "(-98.23255157470703, 36.9969482421875, <cartopy.crs.PlateCarree object at 0x0000024B8ABC6348>)\n"
     ]
    },
    {
     "name": "stderr",
     "output_type": "stream",
     "text": [
      "C:\\Users\\matts\\AppData\\Local\\Continuum\\anaconda3\\envs\\radar\\lib\\site-packages\\cartopy\\mpl\\geoaxes.py:1366: UserWarning: The following kwargs were not used by contour: 'linestyle'\n",
      "  result = matplotlib.axes.Axes.contour(self, *args, **kwargs)\n"
     ]
    },
    {
     "name": "stdout",
     "output_type": "stream",
     "text": [
      "4 storm id\n",
      "-97.18045474867033 storm lon\n",
      "39.05810614134373 storm lat\n",
      "length of obs 3\n",
      "(7.3369638578169125, 285.149688067994)\n",
      "3 storm id\n",
      "-97.43888716860428 storm lon\n",
      "39.08348557520696 storm lat\n",
      "length of obs 3\n",
      "(9.334391580457778, 235.26152612914623)\n"
     ]
    },
    {
     "name": "stderr",
     "output_type": "stream",
     "text": [
      "C:\\Users\\matts\\Documents\\Python Scripts\\SPORK\\radar_storm_motion.py:9: DeprecationWarning: parsing timezone aware datetimes is deprecated; this will raise an error in the future\n",
      "  stormdte = (np.datetime64(end_time) - np.datetime64('1970-01-01T00:00:00Z')) / np.timedelta64(1, 's')\n",
      "C:\\Users\\matts\\Documents\\Python Scripts\\SPORK\\radar_storm_motion.py:11: DeprecationWarning: parsing timezone aware datetimes is deprecated; this will raise an error in the future\n",
      "  stormdti = (start_time - np.datetime64('1970-01-01T00:00:00Z')) / np.timedelta64(1, 's')\n",
      "C:\\Users\\matts\\Documents\\Python Scripts\\SPORK\\radar_storm_motion.py:9: DeprecationWarning: parsing timezone aware datetimes is deprecated; this will raise an error in the future\n",
      "  stormdte = (np.datetime64(end_time) - np.datetime64('1970-01-01T00:00:00Z')) / np.timedelta64(1, 's')\n",
      "C:\\Users\\matts\\Documents\\Python Scripts\\SPORK\\radar_storm_motion.py:11: DeprecationWarning: parsing timezone aware datetimes is deprecated; this will raise an error in the future\n",
      "  stormdti = (start_time - np.datetime64('1970-01-01T00:00:00Z')) / np.timedelta64(1, 's')\n",
      "C:\\Users\\matts\\Documents\\Python Scripts\\SPORK\\radar_storm_motion.py:9: DeprecationWarning: parsing timezone aware datetimes is deprecated; this will raise an error in the future\n",
      "  stormdte = (np.datetime64(end_time) - np.datetime64('1970-01-01T00:00:00Z')) / np.timedelta64(1, 's')\n",
      "C:\\Users\\matts\\Documents\\Python Scripts\\SPORK\\radar_storm_motion.py:11: DeprecationWarning: parsing timezone aware datetimes is deprecated; this will raise an error in the future\n",
      "  stormdti = (start_time - np.datetime64('1970-01-01T00:00:00Z')) / np.timedelta64(1, 's')\n",
      "C:\\Users\\matts\\Documents\\Python Scripts\\SPORK\\radar_storm_motion.py:9: DeprecationWarning: parsing timezone aware datetimes is deprecated; this will raise an error in the future\n",
      "  stormdte = (np.datetime64(end_time) - np.datetime64('1970-01-01T00:00:00Z')) / np.timedelta64(1, 's')\n",
      "C:\\Users\\matts\\Documents\\Python Scripts\\SPORK\\radar_storm_motion.py:11: DeprecationWarning: parsing timezone aware datetimes is deprecated; this will raise an error in the future\n",
      "  stormdti = (start_time - np.datetime64('1970-01-01T00:00:00Z')) / np.timedelta64(1, 's')\n"
     ]
    },
    {
     "name": "stdout",
     "output_type": "stream",
     "text": [
      "Testfig Saved\n",
      "10.223225361905618 meter / second -1.2552542370730213 meter / second Bunkers motion components\n",
      "[7.0819776061080395 7.670644438272614] meter / second [-1.917454520320071 5.319029994173606] meter / second Observed motion components\n",
      "Figure Saved\n",
      "in loop\n",
      "21\n",
      "in loop\n",
      "21\n",
      "in loop\n",
      "21\n",
      "in loop\n",
      "21\n",
      "in loop\n",
      "21\n",
      "in loop\n",
      "21\n",
      "Pre-grid Organization Section\n",
      "KDP Section\n",
      "Grid Section\n"
     ]
    },
    {
     "name": "stderr",
     "output_type": "stream",
     "text": [
      "C:\\Users\\matts\\AppData\\Local\\Continuum\\anaconda3\\envs\\radar\\lib\\site-packages\\pyart\\map\\gates_to_grid.py:177: DeprecationWarning: Barnes weighting function is deprecated. Please use Barnes 2 to be consistent with Pauley and Wu 1990.\n",
      "  \" Pauley and Wu 1990.\", DeprecationWarning)\n"
     ]
    },
    {
     "name": "stdout",
     "output_type": "stream",
     "text": [
      "(-98.23255157470703, 36.9969482421875, <cartopy.crs.PlateCarree object at 0x0000024BA599AD08>)\n"
     ]
    },
    {
     "name": "stderr",
     "output_type": "stream",
     "text": [
      "C:\\Users\\matts\\AppData\\Local\\Continuum\\anaconda3\\envs\\radar\\lib\\site-packages\\cartopy\\mpl\\geoaxes.py:1366: UserWarning: The following kwargs were not used by contour: 'linestyle'\n",
      "  result = matplotlib.axes.Axes.contour(self, *args, **kwargs)\n"
     ]
    },
    {
     "name": "stdout",
     "output_type": "stream",
     "text": [
      "5 storm id\n",
      "-97.57682906468047 storm lon\n",
      "37.01172678821765 storm lat\n",
      "looks like a new cell\n",
      "4 storm id\n",
      "-97.17093850303308 storm lon\n",
      "39.06035022999061 storm lat\n",
      "length of obs 4\n",
      "(7.1709891468274725, 277.3191423328471)\n",
      "3 storm id\n",
      "-97.42250737858107 storm lon\n",
      "39.08635190041672 storm lat\n",
      "length of obs 4\n",
      "(10.002026965733222, 241.96902870136554)\n"
     ]
    },
    {
     "name": "stderr",
     "output_type": "stream",
     "text": [
      "C:\\Users\\matts\\Documents\\Python Scripts\\SPORK\\radar_storm_motion.py:9: DeprecationWarning: parsing timezone aware datetimes is deprecated; this will raise an error in the future\n",
      "  stormdte = (np.datetime64(end_time) - np.datetime64('1970-01-01T00:00:00Z')) / np.timedelta64(1, 's')\n",
      "C:\\Users\\matts\\Documents\\Python Scripts\\SPORK\\radar_storm_motion.py:11: DeprecationWarning: parsing timezone aware datetimes is deprecated; this will raise an error in the future\n",
      "  stormdti = (start_time - np.datetime64('1970-01-01T00:00:00Z')) / np.timedelta64(1, 's')\n",
      "C:\\Users\\matts\\Documents\\Python Scripts\\SPORK\\radar_storm_motion.py:9: DeprecationWarning: parsing timezone aware datetimes is deprecated; this will raise an error in the future\n",
      "  stormdte = (np.datetime64(end_time) - np.datetime64('1970-01-01T00:00:00Z')) / np.timedelta64(1, 's')\n",
      "C:\\Users\\matts\\Documents\\Python Scripts\\SPORK\\radar_storm_motion.py:11: DeprecationWarning: parsing timezone aware datetimes is deprecated; this will raise an error in the future\n",
      "  stormdti = (start_time - np.datetime64('1970-01-01T00:00:00Z')) / np.timedelta64(1, 's')\n",
      "C:\\Users\\matts\\Documents\\Python Scripts\\SPORK\\radar_storm_motion.py:9: DeprecationWarning: parsing timezone aware datetimes is deprecated; this will raise an error in the future\n",
      "  stormdte = (np.datetime64(end_time) - np.datetime64('1970-01-01T00:00:00Z')) / np.timedelta64(1, 's')\n",
      "C:\\Users\\matts\\Documents\\Python Scripts\\SPORK\\radar_storm_motion.py:11: DeprecationWarning: parsing timezone aware datetimes is deprecated; this will raise an error in the future\n",
      "  stormdti = (start_time - np.datetime64('1970-01-01T00:00:00Z')) / np.timedelta64(1, 's')\n",
      "C:\\Users\\matts\\Documents\\Python Scripts\\SPORK\\radar_storm_motion.py:9: DeprecationWarning: parsing timezone aware datetimes is deprecated; this will raise an error in the future\n",
      "  stormdte = (np.datetime64(end_time) - np.datetime64('1970-01-01T00:00:00Z')) / np.timedelta64(1, 's')\n",
      "C:\\Users\\matts\\Documents\\Python Scripts\\SPORK\\radar_storm_motion.py:11: DeprecationWarning: parsing timezone aware datetimes is deprecated; this will raise an error in the future\n",
      "  stormdti = (start_time - np.datetime64('1970-01-01T00:00:00Z')) / np.timedelta64(1, 's')\n"
     ]
    },
    {
     "name": "stdout",
     "output_type": "stream",
     "text": [
      "Testfig Saved\n",
      "10.223225361905618 meter / second -1.2552542370730213 meter / second Bunkers motion components\n",
      "[nan 7.112559463741089 8.82872609474959] meter / second [nan -0.9135552630599193 4.70044029503005] meter / second Observed motion components\n",
      "Figure Saved\n",
      "in loop\n",
      "21\n",
      "in loop\n",
      "21\n",
      "in loop\n",
      "21\n",
      "in loop\n",
      "21\n",
      "in loop\n",
      "21\n",
      "in loop\n",
      "21\n",
      "in loop\n",
      "21\n",
      "Pre-grid Organization Section\n",
      "KDP Section\n",
      "Grid Section\n"
     ]
    },
    {
     "name": "stderr",
     "output_type": "stream",
     "text": [
      "C:\\Users\\matts\\AppData\\Local\\Continuum\\anaconda3\\envs\\radar\\lib\\site-packages\\pyart\\map\\gates_to_grid.py:177: DeprecationWarning: Barnes weighting function is deprecated. Please use Barnes 2 to be consistent with Pauley and Wu 1990.\n",
      "  \" Pauley and Wu 1990.\", DeprecationWarning)\n"
     ]
    },
    {
     "name": "stdout",
     "output_type": "stream",
     "text": [
      "(-98.23255157470703, 36.9969482421875, <cartopy.crs.PlateCarree object at 0x0000024BECBA9648>)\n"
     ]
    },
    {
     "name": "stderr",
     "output_type": "stream",
     "text": [
      "C:\\Users\\matts\\AppData\\Local\\Continuum\\anaconda3\\envs\\radar\\lib\\site-packages\\cartopy\\mpl\\geoaxes.py:1366: UserWarning: The following kwargs were not used by contour: 'linestyle'\n",
      "  result = matplotlib.axes.Axes.contour(self, *args, **kwargs)\n"
     ]
    },
    {
     "name": "stdout",
     "output_type": "stream",
     "text": [
      "duplicate\n",
      "[-97.42250738]\n",
      "[39.0863519]\n",
      "[-97.40258678 -97.41739451]\n",
      "[39.03256635 39.14228018]\n",
      "-97.40258678236665\n",
      "39.03256634937439\n",
      "[-97.42250738]\n",
      "[39.0863519]\n",
      "[-97.40258678 -97.41739451]\n",
      "[39.03256635 39.14228018]\n",
      "-97.41739451162103\n",
      "39.1422801791808\n",
      "[1] index_ns\n",
      "1\n",
      "1\n",
      "[2 3] index_i\n",
      "5 storm id\n",
      "-97.56099148066103 storm lon\n",
      "37.016228855728784 storm lat\n",
      "length of obs 1\n",
      "(13.569421785165865, 250.40885789501934)\n",
      "4 storm id\n",
      "-97.16938054709833 storm lon\n",
      "39.06127507163162 storm lat\n",
      "length of obs 5\n",
      "(6.003546851033412, 275.3491883117389)\n",
      "3 storm id\n",
      "-97.40258678236665 storm lon\n",
      "39.03256634937439 storm lat\n",
      "length of obs 5\n",
      "(12.058446171856778, 303.0187872639137)\n",
      "6 storm id\n",
      "-97.41739451162103 storm lon\n",
      "39.1422801791808 storm lat\n",
      "looks like a new cell\n"
     ]
    },
    {
     "name": "stderr",
     "output_type": "stream",
     "text": [
      "C:\\Users\\matts\\Documents\\Python Scripts\\SPORK\\radar_storm_motion.py:9: DeprecationWarning: parsing timezone aware datetimes is deprecated; this will raise an error in the future\n",
      "  stormdte = (np.datetime64(end_time) - np.datetime64('1970-01-01T00:00:00Z')) / np.timedelta64(1, 's')\n",
      "C:\\Users\\matts\\Documents\\Python Scripts\\SPORK\\radar_storm_motion.py:11: DeprecationWarning: parsing timezone aware datetimes is deprecated; this will raise an error in the future\n",
      "  stormdti = (start_time - np.datetime64('1970-01-01T00:00:00Z')) / np.timedelta64(1, 's')\n",
      "C:\\Users\\matts\\Documents\\Python Scripts\\SPORK\\radar_storm_motion.py:9: DeprecationWarning: parsing timezone aware datetimes is deprecated; this will raise an error in the future\n",
      "  stormdte = (np.datetime64(end_time) - np.datetime64('1970-01-01T00:00:00Z')) / np.timedelta64(1, 's')\n",
      "C:\\Users\\matts\\Documents\\Python Scripts\\SPORK\\radar_storm_motion.py:11: DeprecationWarning: parsing timezone aware datetimes is deprecated; this will raise an error in the future\n",
      "  stormdti = (start_time - np.datetime64('1970-01-01T00:00:00Z')) / np.timedelta64(1, 's')\n",
      "C:\\Users\\matts\\Documents\\Python Scripts\\SPORK\\radar_storm_motion.py:9: DeprecationWarning: parsing timezone aware datetimes is deprecated; this will raise an error in the future\n",
      "  stormdte = (np.datetime64(end_time) - np.datetime64('1970-01-01T00:00:00Z')) / np.timedelta64(1, 's')\n",
      "C:\\Users\\matts\\Documents\\Python Scripts\\SPORK\\radar_storm_motion.py:11: DeprecationWarning: parsing timezone aware datetimes is deprecated; this will raise an error in the future\n",
      "  stormdti = (start_time - np.datetime64('1970-01-01T00:00:00Z')) / np.timedelta64(1, 's')\n",
      "C:\\Users\\matts\\Documents\\Python Scripts\\SPORK\\radar_storm_motion.py:9: DeprecationWarning: parsing timezone aware datetimes is deprecated; this will raise an error in the future\n",
      "  stormdte = (np.datetime64(end_time) - np.datetime64('1970-01-01T00:00:00Z')) / np.timedelta64(1, 's')\n",
      "C:\\Users\\matts\\Documents\\Python Scripts\\SPORK\\radar_storm_motion.py:11: DeprecationWarning: parsing timezone aware datetimes is deprecated; this will raise an error in the future\n",
      "  stormdti = (start_time - np.datetime64('1970-01-01T00:00:00Z')) / np.timedelta64(1, 's')\n",
      "C:\\Users\\matts\\Documents\\Python Scripts\\SPORK\\radar_storm_motion.py:9: DeprecationWarning: parsing timezone aware datetimes is deprecated; this will raise an error in the future\n",
      "  stormdte = (np.datetime64(end_time) - np.datetime64('1970-01-01T00:00:00Z')) / np.timedelta64(1, 's')\n",
      "C:\\Users\\matts\\Documents\\Python Scripts\\SPORK\\radar_storm_motion.py:11: DeprecationWarning: parsing timezone aware datetimes is deprecated; this will raise an error in the future\n",
      "  stormdti = (start_time - np.datetime64('1970-01-01T00:00:00Z')) / np.timedelta64(1, 's')\n",
      "C:\\Users\\matts\\Documents\\Python Scripts\\SPORK\\radar_storm_motion.py:9: DeprecationWarning: parsing timezone aware datetimes is deprecated; this will raise an error in the future\n",
      "  stormdte = (np.datetime64(end_time) - np.datetime64('1970-01-01T00:00:00Z')) / np.timedelta64(1, 's')\n",
      "C:\\Users\\matts\\Documents\\Python Scripts\\SPORK\\radar_storm_motion.py:11: DeprecationWarning: parsing timezone aware datetimes is deprecated; this will raise an error in the future\n",
      "  stormdti = (start_time - np.datetime64('1970-01-01T00:00:00Z')) / np.timedelta64(1, 's')\n"
     ]
    },
    {
     "name": "stdout",
     "output_type": "stream",
     "text": [
      "Testfig Saved\n",
      "10.223225361905618 meter / second -1.2552542370730213 meter / second Bunkers motion components\n",
      "[12.783878488621745 5.977401592386959 10.110909874993789 nan] meter / second [4.5499075124543085 -0.559682942283437 -6.570816203434734 nan] meter / second Observed motion components\n",
      "Figure Saved\n",
      "in loop\n",
      "21\n",
      "in loop\n",
      "21\n",
      "in loop\n",
      "21\n",
      "in loop\n",
      "21\n",
      "in loop\n",
      "21\n",
      "in loop\n",
      "21\n",
      "in loop\n",
      "21\n",
      "File Reading\n",
      "in loop\n",
      "21\n",
      "Pre-grid Organization Section\n",
      "KDP Section\n",
      "Grid Section\n"
     ]
    },
    {
     "name": "stderr",
     "output_type": "stream",
     "text": [
      "C:\\Users\\matts\\AppData\\Local\\Continuum\\anaconda3\\envs\\radar\\lib\\site-packages\\pyart\\map\\gates_to_grid.py:177: DeprecationWarning: Barnes weighting function is deprecated. Please use Barnes 2 to be consistent with Pauley and Wu 1990.\n",
      "  \" Pauley and Wu 1990.\", DeprecationWarning)\n"
     ]
    },
    {
     "name": "stdout",
     "output_type": "stream",
     "text": [
      "(-98.23255157470703, 36.9969482421875, <cartopy.crs.PlateCarree object at 0x0000024BA6E0D468>)\n"
     ]
    },
    {
     "name": "stderr",
     "output_type": "stream",
     "text": [
      "C:\\Users\\matts\\AppData\\Local\\Continuum\\anaconda3\\envs\\radar\\lib\\site-packages\\cartopy\\mpl\\geoaxes.py:1366: UserWarning: The following kwargs were not used by contour: 'linestyle'\n",
      "  result = matplotlib.axes.Axes.contour(self, *args, **kwargs)\n"
     ]
    },
    {
     "name": "stdout",
     "output_type": "stream",
     "text": [
      "5 storm id\n",
      "-97.54327188966799 storm lon\n",
      "37.02968087376875 storm lat\n",
      "length of obs 2\n",
      "(14.942765706689311, 236.18357794033702)\n",
      "4 storm id\n",
      "-97.15614326515531 storm lon\n",
      "39.06438666622343 storm lat\n",
      "length of obs 6\n",
      "(6.504068554807016, 269.7196145229317)\n",
      "3 storm id\n",
      "-97.37013495034908 storm lon\n",
      "39.02761993397009 storm lat\n",
      "length of obs 6\n",
      "(13.692179011174343, 296.7035537789504)\n",
      "6 storm id\n",
      "-97.40775444773078 storm lon\n",
      "39.15379848487493 storm lat\n",
      "length of obs 1\n",
      "(11.836483899799898, 212.98891137982153)\n"
     ]
    },
    {
     "name": "stderr",
     "output_type": "stream",
     "text": [
      "C:\\Users\\matts\\Documents\\Python Scripts\\SPORK\\radar_storm_motion.py:9: DeprecationWarning: parsing timezone aware datetimes is deprecated; this will raise an error in the future\n",
      "  stormdte = (np.datetime64(end_time) - np.datetime64('1970-01-01T00:00:00Z')) / np.timedelta64(1, 's')\n",
      "C:\\Users\\matts\\Documents\\Python Scripts\\SPORK\\radar_storm_motion.py:11: DeprecationWarning: parsing timezone aware datetimes is deprecated; this will raise an error in the future\n",
      "  stormdti = (start_time - np.datetime64('1970-01-01T00:00:00Z')) / np.timedelta64(1, 's')\n",
      "C:\\Users\\matts\\Documents\\Python Scripts\\SPORK\\radar_storm_motion.py:9: DeprecationWarning: parsing timezone aware datetimes is deprecated; this will raise an error in the future\n",
      "  stormdte = (np.datetime64(end_time) - np.datetime64('1970-01-01T00:00:00Z')) / np.timedelta64(1, 's')\n",
      "C:\\Users\\matts\\Documents\\Python Scripts\\SPORK\\radar_storm_motion.py:11: DeprecationWarning: parsing timezone aware datetimes is deprecated; this will raise an error in the future\n",
      "  stormdti = (start_time - np.datetime64('1970-01-01T00:00:00Z')) / np.timedelta64(1, 's')\n",
      "C:\\Users\\matts\\Documents\\Python Scripts\\SPORK\\radar_storm_motion.py:9: DeprecationWarning: parsing timezone aware datetimes is deprecated; this will raise an error in the future\n",
      "  stormdte = (np.datetime64(end_time) - np.datetime64('1970-01-01T00:00:00Z')) / np.timedelta64(1, 's')\n",
      "C:\\Users\\matts\\Documents\\Python Scripts\\SPORK\\radar_storm_motion.py:11: DeprecationWarning: parsing timezone aware datetimes is deprecated; this will raise an error in the future\n",
      "  stormdti = (start_time - np.datetime64('1970-01-01T00:00:00Z')) / np.timedelta64(1, 's')\n",
      "C:\\Users\\matts\\Documents\\Python Scripts\\SPORK\\radar_storm_motion.py:9: DeprecationWarning: parsing timezone aware datetimes is deprecated; this will raise an error in the future\n",
      "  stormdte = (np.datetime64(end_time) - np.datetime64('1970-01-01T00:00:00Z')) / np.timedelta64(1, 's')\n",
      "C:\\Users\\matts\\Documents\\Python Scripts\\SPORK\\radar_storm_motion.py:11: DeprecationWarning: parsing timezone aware datetimes is deprecated; this will raise an error in the future\n",
      "  stormdti = (start_time - np.datetime64('1970-01-01T00:00:00Z')) / np.timedelta64(1, 's')\n",
      "C:\\Users\\matts\\Documents\\Python Scripts\\SPORK\\radar_storm_motion.py:9: DeprecationWarning: parsing timezone aware datetimes is deprecated; this will raise an error in the future\n",
      "  stormdte = (np.datetime64(end_time) - np.datetime64('1970-01-01T00:00:00Z')) / np.timedelta64(1, 's')\n",
      "C:\\Users\\matts\\Documents\\Python Scripts\\SPORK\\radar_storm_motion.py:11: DeprecationWarning: parsing timezone aware datetimes is deprecated; this will raise an error in the future\n",
      "  stormdti = (start_time - np.datetime64('1970-01-01T00:00:00Z')) / np.timedelta64(1, 's')\n",
      "C:\\Users\\matts\\Documents\\Python Scripts\\SPORK\\radar_storm_motion.py:9: DeprecationWarning: parsing timezone aware datetimes is deprecated; this will raise an error in the future\n",
      "  stormdte = (np.datetime64(end_time) - np.datetime64('1970-01-01T00:00:00Z')) / np.timedelta64(1, 's')\n",
      "C:\\Users\\matts\\Documents\\Python Scripts\\SPORK\\radar_storm_motion.py:11: DeprecationWarning: parsing timezone aware datetimes is deprecated; this will raise an error in the future\n",
      "  stormdti = (start_time - np.datetime64('1970-01-01T00:00:00Z')) / np.timedelta64(1, 's')\n",
      "C:\\Users\\matts\\Documents\\Python Scripts\\SPORK\\radar_storm_motion.py:9: DeprecationWarning: parsing timezone aware datetimes is deprecated; this will raise an error in the future\n",
      "  stormdte = (np.datetime64(end_time) - np.datetime64('1970-01-01T00:00:00Z')) / np.timedelta64(1, 's')\n",
      "C:\\Users\\matts\\Documents\\Python Scripts\\SPORK\\radar_storm_motion.py:11: DeprecationWarning: parsing timezone aware datetimes is deprecated; this will raise an error in the future\n",
      "  stormdti = (start_time - np.datetime64('1970-01-01T00:00:00Z')) / np.timedelta64(1, 's')\n",
      "C:\\Users\\matts\\Documents\\Python Scripts\\SPORK\\radar_storm_motion.py:9: DeprecationWarning: parsing timezone aware datetimes is deprecated; this will raise an error in the future\n",
      "  stormdte = (np.datetime64(end_time) - np.datetime64('1970-01-01T00:00:00Z')) / np.timedelta64(1, 's')\n",
      "C:\\Users\\matts\\Documents\\Python Scripts\\SPORK\\radar_storm_motion.py:11: DeprecationWarning: parsing timezone aware datetimes is deprecated; this will raise an error in the future\n",
      "  stormdti = (start_time - np.datetime64('1970-01-01T00:00:00Z')) / np.timedelta64(1, 's')\n"
     ]
    },
    {
     "name": "stdout",
     "output_type": "stream",
     "text": [
      "Testfig Saved\n",
      "10.223225361905618 meter / second -1.2552542370730213 meter / second Bunkers motion components\n",
      "[12.41482317248529 6.503990675870367 12.231819360547743 6.444689864316235] meter / second [8.316153711959176 0.03182850641720878 -6.152914854357453 9.928158120366627] meter / second Observed motion components\n",
      "Figure Saved\n",
      "in loop\n",
      "21\n",
      "in loop\n",
      "21\n",
      "in loop\n",
      "21\n",
      "in loop\n",
      "21\n",
      "in loop\n",
      "21\n",
      "in loop\n",
      "21\n",
      "Pre-grid Organization Section\n",
      "KDP Section\n",
      "Grid Section\n"
     ]
    },
    {
     "name": "stderr",
     "output_type": "stream",
     "text": [
      "C:\\Users\\matts\\AppData\\Local\\Continuum\\anaconda3\\envs\\radar\\lib\\site-packages\\pyart\\map\\gates_to_grid.py:177: DeprecationWarning: Barnes weighting function is deprecated. Please use Barnes 2 to be consistent with Pauley and Wu 1990.\n",
      "  \" Pauley and Wu 1990.\", DeprecationWarning)\n"
     ]
    },
    {
     "name": "stdout",
     "output_type": "stream",
     "text": [
      "(-98.23255157470703, 36.9969482421875, <cartopy.crs.PlateCarree object at 0x0000024BA5985FA8>)\n"
     ]
    },
    {
     "name": "stderr",
     "output_type": "stream",
     "text": [
      "C:\\Users\\matts\\AppData\\Local\\Continuum\\anaconda3\\envs\\radar\\lib\\site-packages\\cartopy\\mpl\\geoaxes.py:1366: UserWarning: The following kwargs were not used by contour: 'linestyle'\n",
      "  result = matplotlib.axes.Axes.contour(self, *args, **kwargs)\n"
     ]
    },
    {
     "name": "stdout",
     "output_type": "stream",
     "text": [
      "5 storm id\n",
      "-97.53012497437395 storm lon\n",
      "37.042136581313066 storm lat\n",
      "length of obs 3\n",
      "(15.113304009080474, 230.81424413989947)\n",
      "4 storm id\n",
      "-97.18423653521548 storm lon\n",
      "39.0558745736211 storm lat\n",
      "length of obs 7\n",
      "(2.871680566191861, 293.07670108698574)\n",
      "6 storm id\n",
      "-97.39713010651572 storm lon\n",
      "39.16372350426933 storm lat\n",
      "length of obs 2\n",
      "(12.165023811527197, 216.24143862547717)\n"
     ]
    },
    {
     "name": "stderr",
     "output_type": "stream",
     "text": [
      "C:\\Users\\matts\\Documents\\Python Scripts\\SPORK\\radar_storm_motion.py:9: DeprecationWarning: parsing timezone aware datetimes is deprecated; this will raise an error in the future\n",
      "  stormdte = (np.datetime64(end_time) - np.datetime64('1970-01-01T00:00:00Z')) / np.timedelta64(1, 's')\n",
      "C:\\Users\\matts\\Documents\\Python Scripts\\SPORK\\radar_storm_motion.py:11: DeprecationWarning: parsing timezone aware datetimes is deprecated; this will raise an error in the future\n",
      "  stormdti = (start_time - np.datetime64('1970-01-01T00:00:00Z')) / np.timedelta64(1, 's')\n",
      "C:\\Users\\matts\\Documents\\Python Scripts\\SPORK\\radar_storm_motion.py:9: DeprecationWarning: parsing timezone aware datetimes is deprecated; this will raise an error in the future\n",
      "  stormdte = (np.datetime64(end_time) - np.datetime64('1970-01-01T00:00:00Z')) / np.timedelta64(1, 's')\n",
      "C:\\Users\\matts\\Documents\\Python Scripts\\SPORK\\radar_storm_motion.py:11: DeprecationWarning: parsing timezone aware datetimes is deprecated; this will raise an error in the future\n",
      "  stormdti = (start_time - np.datetime64('1970-01-01T00:00:00Z')) / np.timedelta64(1, 's')\n",
      "C:\\Users\\matts\\Documents\\Python Scripts\\SPORK\\radar_storm_motion.py:9: DeprecationWarning: parsing timezone aware datetimes is deprecated; this will raise an error in the future\n",
      "  stormdte = (np.datetime64(end_time) - np.datetime64('1970-01-01T00:00:00Z')) / np.timedelta64(1, 's')\n",
      "C:\\Users\\matts\\Documents\\Python Scripts\\SPORK\\radar_storm_motion.py:11: DeprecationWarning: parsing timezone aware datetimes is deprecated; this will raise an error in the future\n",
      "  stormdti = (start_time - np.datetime64('1970-01-01T00:00:00Z')) / np.timedelta64(1, 's')\n",
      "C:\\Users\\matts\\Documents\\Python Scripts\\SPORK\\radar_storm_motion.py:9: DeprecationWarning: parsing timezone aware datetimes is deprecated; this will raise an error in the future\n",
      "  stormdte = (np.datetime64(end_time) - np.datetime64('1970-01-01T00:00:00Z')) / np.timedelta64(1, 's')\n",
      "C:\\Users\\matts\\Documents\\Python Scripts\\SPORK\\radar_storm_motion.py:11: DeprecationWarning: parsing timezone aware datetimes is deprecated; this will raise an error in the future\n",
      "  stormdti = (start_time - np.datetime64('1970-01-01T00:00:00Z')) / np.timedelta64(1, 's')\n",
      "C:\\Users\\matts\\Documents\\Python Scripts\\SPORK\\radar_storm_motion.py:9: DeprecationWarning: parsing timezone aware datetimes is deprecated; this will raise an error in the future\n",
      "  stormdte = (np.datetime64(end_time) - np.datetime64('1970-01-01T00:00:00Z')) / np.timedelta64(1, 's')\n",
      "C:\\Users\\matts\\Documents\\Python Scripts\\SPORK\\radar_storm_motion.py:11: DeprecationWarning: parsing timezone aware datetimes is deprecated; this will raise an error in the future\n",
      "  stormdti = (start_time - np.datetime64('1970-01-01T00:00:00Z')) / np.timedelta64(1, 's')\n",
      "C:\\Users\\matts\\Documents\\Python Scripts\\SPORK\\radar_storm_motion.py:9: DeprecationWarning: parsing timezone aware datetimes is deprecated; this will raise an error in the future\n",
      "  stormdte = (np.datetime64(end_time) - np.datetime64('1970-01-01T00:00:00Z')) / np.timedelta64(1, 's')\n",
      "C:\\Users\\matts\\Documents\\Python Scripts\\SPORK\\radar_storm_motion.py:11: DeprecationWarning: parsing timezone aware datetimes is deprecated; this will raise an error in the future\n",
      "  stormdti = (start_time - np.datetime64('1970-01-01T00:00:00Z')) / np.timedelta64(1, 's')\n"
     ]
    },
    {
     "name": "stdout",
     "output_type": "stream",
     "text": [
      "Testfig Saved\n",
      "10.223225361905618 meter / second -1.2552542370730213 meter / second Bunkers motion components\n",
      "[11.714345994073192 2.6418914507293376 7.191829958452145] meter / second [9.549139018886954 -1.1255926602493647 9.811492556371528] meter / second Observed motion components\n",
      "Figure Saved\n",
      "in loop\n",
      "21\n",
      "in loop\n",
      "21\n",
      "in loop\n",
      "21\n",
      "in loop\n",
      "21\n",
      "in loop\n",
      "21\n",
      "in loop\n",
      "21\n",
      "in loop\n",
      "21\n",
      "Pre-grid Organization Section\n",
      "KDP Section\n",
      "Grid Section\n"
     ]
    },
    {
     "name": "stderr",
     "output_type": "stream",
     "text": [
      "C:\\Users\\matts\\AppData\\Local\\Continuum\\anaconda3\\envs\\radar\\lib\\site-packages\\pyart\\map\\gates_to_grid.py:177: DeprecationWarning: Barnes weighting function is deprecated. Please use Barnes 2 to be consistent with Pauley and Wu 1990.\n",
      "  \" Pauley and Wu 1990.\", DeprecationWarning)\n"
     ]
    },
    {
     "name": "stdout",
     "output_type": "stream",
     "text": [
      "(-98.23255157470703, 36.9969482421875, <cartopy.crs.PlateCarree object at 0x0000024BDD9B3288>)\n"
     ]
    },
    {
     "name": "stderr",
     "output_type": "stream",
     "text": [
      "C:\\Users\\matts\\AppData\\Local\\Continuum\\anaconda3\\envs\\radar\\lib\\site-packages\\cartopy\\mpl\\geoaxes.py:1366: UserWarning: The following kwargs were not used by contour: 'linestyle'\n",
      "  result = matplotlib.axes.Axes.contour(self, *args, **kwargs)\n"
     ]
    },
    {
     "name": "stdout",
     "output_type": "stream",
     "text": [
      "5 storm id\n",
      "-97.51987944676549 storm lon\n",
      "37.050888043595705 storm lat\n",
      "length of obs 4\n",
      "(14.348743986668966, 229.27611411889345)\n",
      "4 storm id\n",
      "-97.16594393822552 storm lon\n",
      "39.05533923300525 storm lat\n",
      "length of obs 8\n",
      "(4.15954020297237, 284.70645562931304)\n",
      "6 storm id\n",
      "-97.38668195687137 storm lon\n",
      "39.174715983366724 storm lat\n",
      "length of obs 3\n",
      "(12.639614716679349, 216.29605646524539)\n"
     ]
    },
    {
     "name": "stderr",
     "output_type": "stream",
     "text": [
      "C:\\Users\\matts\\Documents\\Python Scripts\\SPORK\\radar_storm_motion.py:9: DeprecationWarning: parsing timezone aware datetimes is deprecated; this will raise an error in the future\n",
      "  stormdte = (np.datetime64(end_time) - np.datetime64('1970-01-01T00:00:00Z')) / np.timedelta64(1, 's')\n",
      "C:\\Users\\matts\\Documents\\Python Scripts\\SPORK\\radar_storm_motion.py:11: DeprecationWarning: parsing timezone aware datetimes is deprecated; this will raise an error in the future\n",
      "  stormdti = (start_time - np.datetime64('1970-01-01T00:00:00Z')) / np.timedelta64(1, 's')\n",
      "C:\\Users\\matts\\Documents\\Python Scripts\\SPORK\\radar_storm_motion.py:9: DeprecationWarning: parsing timezone aware datetimes is deprecated; this will raise an error in the future\n",
      "  stormdte = (np.datetime64(end_time) - np.datetime64('1970-01-01T00:00:00Z')) / np.timedelta64(1, 's')\n",
      "C:\\Users\\matts\\Documents\\Python Scripts\\SPORK\\radar_storm_motion.py:11: DeprecationWarning: parsing timezone aware datetimes is deprecated; this will raise an error in the future\n",
      "  stormdti = (start_time - np.datetime64('1970-01-01T00:00:00Z')) / np.timedelta64(1, 's')\n",
      "C:\\Users\\matts\\Documents\\Python Scripts\\SPORK\\radar_storm_motion.py:9: DeprecationWarning: parsing timezone aware datetimes is deprecated; this will raise an error in the future\n",
      "  stormdte = (np.datetime64(end_time) - np.datetime64('1970-01-01T00:00:00Z')) / np.timedelta64(1, 's')\n",
      "C:\\Users\\matts\\Documents\\Python Scripts\\SPORK\\radar_storm_motion.py:11: DeprecationWarning: parsing timezone aware datetimes is deprecated; this will raise an error in the future\n",
      "  stormdti = (start_time - np.datetime64('1970-01-01T00:00:00Z')) / np.timedelta64(1, 's')\n",
      "C:\\Users\\matts\\Documents\\Python Scripts\\SPORK\\radar_storm_motion.py:9: DeprecationWarning: parsing timezone aware datetimes is deprecated; this will raise an error in the future\n",
      "  stormdte = (np.datetime64(end_time) - np.datetime64('1970-01-01T00:00:00Z')) / np.timedelta64(1, 's')\n",
      "C:\\Users\\matts\\Documents\\Python Scripts\\SPORK\\radar_storm_motion.py:11: DeprecationWarning: parsing timezone aware datetimes is deprecated; this will raise an error in the future\n",
      "  stormdti = (start_time - np.datetime64('1970-01-01T00:00:00Z')) / np.timedelta64(1, 's')\n",
      "C:\\Users\\matts\\Documents\\Python Scripts\\SPORK\\radar_storm_motion.py:9: DeprecationWarning: parsing timezone aware datetimes is deprecated; this will raise an error in the future\n",
      "  stormdte = (np.datetime64(end_time) - np.datetime64('1970-01-01T00:00:00Z')) / np.timedelta64(1, 's')\n",
      "C:\\Users\\matts\\Documents\\Python Scripts\\SPORK\\radar_storm_motion.py:11: DeprecationWarning: parsing timezone aware datetimes is deprecated; this will raise an error in the future\n",
      "  stormdti = (start_time - np.datetime64('1970-01-01T00:00:00Z')) / np.timedelta64(1, 's')\n",
      "C:\\Users\\matts\\Documents\\Python Scripts\\SPORK\\radar_storm_motion.py:9: DeprecationWarning: parsing timezone aware datetimes is deprecated; this will raise an error in the future\n",
      "  stormdte = (np.datetime64(end_time) - np.datetime64('1970-01-01T00:00:00Z')) / np.timedelta64(1, 's')\n",
      "C:\\Users\\matts\\Documents\\Python Scripts\\SPORK\\radar_storm_motion.py:11: DeprecationWarning: parsing timezone aware datetimes is deprecated; this will raise an error in the future\n",
      "  stormdti = (start_time - np.datetime64('1970-01-01T00:00:00Z')) / np.timedelta64(1, 's')\n"
     ]
    },
    {
     "name": "stdout",
     "output_type": "stream",
     "text": [
      "Testfig Saved\n",
      "10.223225361905618 meter / second -1.2552542370730213 meter / second Bunkers motion components\n",
      "[10.874373824510096 4.023270152045065 7.482117348015107] meter / second [9.361327252039557 -1.0559696888673973 10.18713797769661] meter / second Observed motion components\n",
      "Figure Saved\n",
      "in loop\n",
      "21\n",
      "in loop\n",
      "21\n",
      "in loop\n",
      "21\n",
      "in loop\n",
      "21\n",
      "in loop\n",
      "21\n",
      "in loop\n",
      "21\n",
      "in loop\n",
      "21\n",
      "File Reading\n",
      "in loop\n",
      "21\n",
      "Pre-grid Organization Section\n",
      "KDP Section\n",
      "Grid Section\n"
     ]
    },
    {
     "name": "stderr",
     "output_type": "stream",
     "text": [
      "C:\\Users\\matts\\AppData\\Local\\Continuum\\anaconda3\\envs\\radar\\lib\\site-packages\\pyart\\map\\gates_to_grid.py:177: DeprecationWarning: Barnes weighting function is deprecated. Please use Barnes 2 to be consistent with Pauley and Wu 1990.\n",
      "  \" Pauley and Wu 1990.\", DeprecationWarning)\n"
     ]
    },
    {
     "name": "stdout",
     "output_type": "stream",
     "text": [
      "(-98.23255157470703, 36.9969482421875, <cartopy.crs.PlateCarree object at 0x0000024B878D8AC8>)\n"
     ]
    },
    {
     "name": "stderr",
     "output_type": "stream",
     "text": [
      "C:\\Users\\matts\\AppData\\Local\\Continuum\\anaconda3\\envs\\radar\\lib\\site-packages\\cartopy\\mpl\\geoaxes.py:1366: UserWarning: The following kwargs were not used by contour: 'linestyle'\n",
      "  result = matplotlib.axes.Axes.contour(self, *args, **kwargs)\n"
     ]
    },
    {
     "name": "stdout",
     "output_type": "stream",
     "text": [
      "5 storm id\n",
      "-97.51167297520647 storm lon\n",
      "37.05499843828912 storm lat\n",
      "length of obs 5\n",
      "(12.70841797867026, 230.2612973188095)\n",
      "4 storm id\n",
      "-97.14919680138091 storm lon\n",
      "39.05335768905266 storm lat\n",
      "length of obs 9\n",
      "(5.032477806357134, 283.0597599132432)\n",
      "6 storm id\n",
      "-97.36446644658572 storm lon\n",
      "39.18710133705207 storm lat\n",
      "length of obs 4\n",
      "(14.019266983009842, 222.4930091489352)\n"
     ]
    },
    {
     "name": "stderr",
     "output_type": "stream",
     "text": [
      "C:\\Users\\matts\\Documents\\Python Scripts\\SPORK\\radar_storm_motion.py:9: DeprecationWarning: parsing timezone aware datetimes is deprecated; this will raise an error in the future\n",
      "  stormdte = (np.datetime64(end_time) - np.datetime64('1970-01-01T00:00:00Z')) / np.timedelta64(1, 's')\n",
      "C:\\Users\\matts\\Documents\\Python Scripts\\SPORK\\radar_storm_motion.py:11: DeprecationWarning: parsing timezone aware datetimes is deprecated; this will raise an error in the future\n",
      "  stormdti = (start_time - np.datetime64('1970-01-01T00:00:00Z')) / np.timedelta64(1, 's')\n",
      "C:\\Users\\matts\\Documents\\Python Scripts\\SPORK\\radar_storm_motion.py:9: DeprecationWarning: parsing timezone aware datetimes is deprecated; this will raise an error in the future\n",
      "  stormdte = (np.datetime64(end_time) - np.datetime64('1970-01-01T00:00:00Z')) / np.timedelta64(1, 's')\n",
      "C:\\Users\\matts\\Documents\\Python Scripts\\SPORK\\radar_storm_motion.py:11: DeprecationWarning: parsing timezone aware datetimes is deprecated; this will raise an error in the future\n",
      "  stormdti = (start_time - np.datetime64('1970-01-01T00:00:00Z')) / np.timedelta64(1, 's')\n",
      "C:\\Users\\matts\\Documents\\Python Scripts\\SPORK\\radar_storm_motion.py:9: DeprecationWarning: parsing timezone aware datetimes is deprecated; this will raise an error in the future\n",
      "  stormdte = (np.datetime64(end_time) - np.datetime64('1970-01-01T00:00:00Z')) / np.timedelta64(1, 's')\n",
      "C:\\Users\\matts\\Documents\\Python Scripts\\SPORK\\radar_storm_motion.py:11: DeprecationWarning: parsing timezone aware datetimes is deprecated; this will raise an error in the future\n",
      "  stormdti = (start_time - np.datetime64('1970-01-01T00:00:00Z')) / np.timedelta64(1, 's')\n",
      "C:\\Users\\matts\\Documents\\Python Scripts\\SPORK\\radar_storm_motion.py:9: DeprecationWarning: parsing timezone aware datetimes is deprecated; this will raise an error in the future\n",
      "  stormdte = (np.datetime64(end_time) - np.datetime64('1970-01-01T00:00:00Z')) / np.timedelta64(1, 's')\n",
      "C:\\Users\\matts\\Documents\\Python Scripts\\SPORK\\radar_storm_motion.py:11: DeprecationWarning: parsing timezone aware datetimes is deprecated; this will raise an error in the future\n",
      "  stormdti = (start_time - np.datetime64('1970-01-01T00:00:00Z')) / np.timedelta64(1, 's')\n",
      "C:\\Users\\matts\\Documents\\Python Scripts\\SPORK\\radar_storm_motion.py:9: DeprecationWarning: parsing timezone aware datetimes is deprecated; this will raise an error in the future\n",
      "  stormdte = (np.datetime64(end_time) - np.datetime64('1970-01-01T00:00:00Z')) / np.timedelta64(1, 's')\n",
      "C:\\Users\\matts\\Documents\\Python Scripts\\SPORK\\radar_storm_motion.py:11: DeprecationWarning: parsing timezone aware datetimes is deprecated; this will raise an error in the future\n",
      "  stormdti = (start_time - np.datetime64('1970-01-01T00:00:00Z')) / np.timedelta64(1, 's')\n",
      "C:\\Users\\matts\\Documents\\Python Scripts\\SPORK\\radar_storm_motion.py:9: DeprecationWarning: parsing timezone aware datetimes is deprecated; this will raise an error in the future\n",
      "  stormdte = (np.datetime64(end_time) - np.datetime64('1970-01-01T00:00:00Z')) / np.timedelta64(1, 's')\n",
      "C:\\Users\\matts\\Documents\\Python Scripts\\SPORK\\radar_storm_motion.py:11: DeprecationWarning: parsing timezone aware datetimes is deprecated; this will raise an error in the future\n",
      "  stormdti = (start_time - np.datetime64('1970-01-01T00:00:00Z')) / np.timedelta64(1, 's')\n"
     ]
    },
    {
     "name": "stdout",
     "output_type": "stream",
     "text": [
      "Testfig Saved\n",
      "10.223225361905618 meter / second -1.2552542370730213 meter / second Bunkers motion components\n",
      "[9.772365469804576 4.90231231123283 9.470018280279728] meter / second [8.124331396808028 -1.1371749533876223 10.337243371038415] meter / second Observed motion components\n",
      "Figure Saved\n",
      "in loop\n",
      "21\n",
      "in loop\n",
      "21\n",
      "in loop\n",
      "21\n",
      "in loop\n",
      "21\n",
      "in loop\n",
      "21\n",
      "in loop\n",
      "21\n",
      "Pre-grid Organization Section\n",
      "KDP Section\n",
      "Grid Section\n"
     ]
    },
    {
     "name": "stderr",
     "output_type": "stream",
     "text": [
      "C:\\Users\\matts\\AppData\\Local\\Continuum\\anaconda3\\envs\\radar\\lib\\site-packages\\pyart\\map\\gates_to_grid.py:177: DeprecationWarning: Barnes weighting function is deprecated. Please use Barnes 2 to be consistent with Pauley and Wu 1990.\n",
      "  \" Pauley and Wu 1990.\", DeprecationWarning)\n"
     ]
    },
    {
     "name": "stdout",
     "output_type": "stream",
     "text": [
      "(-98.23255157470703, 36.9969482421875, <cartopy.crs.PlateCarree object at 0x0000024BAEF5A168>)\n"
     ]
    },
    {
     "name": "stderr",
     "output_type": "stream",
     "text": [
      "C:\\Users\\matts\\AppData\\Local\\Continuum\\anaconda3\\envs\\radar\\lib\\site-packages\\cartopy\\mpl\\geoaxes.py:1366: UserWarning: The following kwargs were not used by contour: 'linestyle'\n",
      "  result = matplotlib.axes.Axes.contour(self, *args, **kwargs)\n"
     ]
    },
    {
     "name": "stdout",
     "output_type": "stream",
     "text": [
      "5 storm id\n",
      "-97.50988858160821 storm lon\n",
      "37.05704600212532 storm lat\n",
      "length of obs 6\n",
      "(11.035477183202191, 229.71925142350884)\n",
      "4 storm id\n",
      "-97.13249895420287 storm lon\n",
      "39.0539761916436 storm lat\n",
      "length of obs 10\n",
      "(5.737295838352171, 279.723077129749)\n",
      "6 storm id\n",
      "-97.35710329953714 storm lon\n",
      "39.196252898006364 storm lat\n",
      "length of obs 5\n",
      "(13.343359917381957, 220.91306358191136)\n"
     ]
    },
    {
     "name": "stderr",
     "output_type": "stream",
     "text": [
      "C:\\Users\\matts\\Documents\\Python Scripts\\SPORK\\radar_storm_motion.py:9: DeprecationWarning: parsing timezone aware datetimes is deprecated; this will raise an error in the future\n",
      "  stormdte = (np.datetime64(end_time) - np.datetime64('1970-01-01T00:00:00Z')) / np.timedelta64(1, 's')\n",
      "C:\\Users\\matts\\Documents\\Python Scripts\\SPORK\\radar_storm_motion.py:11: DeprecationWarning: parsing timezone aware datetimes is deprecated; this will raise an error in the future\n",
      "  stormdti = (start_time - np.datetime64('1970-01-01T00:00:00Z')) / np.timedelta64(1, 's')\n",
      "C:\\Users\\matts\\Documents\\Python Scripts\\SPORK\\radar_storm_motion.py:9: DeprecationWarning: parsing timezone aware datetimes is deprecated; this will raise an error in the future\n",
      "  stormdte = (np.datetime64(end_time) - np.datetime64('1970-01-01T00:00:00Z')) / np.timedelta64(1, 's')\n",
      "C:\\Users\\matts\\Documents\\Python Scripts\\SPORK\\radar_storm_motion.py:11: DeprecationWarning: parsing timezone aware datetimes is deprecated; this will raise an error in the future\n",
      "  stormdti = (start_time - np.datetime64('1970-01-01T00:00:00Z')) / np.timedelta64(1, 's')\n",
      "C:\\Users\\matts\\Documents\\Python Scripts\\SPORK\\radar_storm_motion.py:9: DeprecationWarning: parsing timezone aware datetimes is deprecated; this will raise an error in the future\n",
      "  stormdte = (np.datetime64(end_time) - np.datetime64('1970-01-01T00:00:00Z')) / np.timedelta64(1, 's')\n",
      "C:\\Users\\matts\\Documents\\Python Scripts\\SPORK\\radar_storm_motion.py:11: DeprecationWarning: parsing timezone aware datetimes is deprecated; this will raise an error in the future\n",
      "  stormdti = (start_time - np.datetime64('1970-01-01T00:00:00Z')) / np.timedelta64(1, 's')\n",
      "C:\\Users\\matts\\Documents\\Python Scripts\\SPORK\\radar_storm_motion.py:9: DeprecationWarning: parsing timezone aware datetimes is deprecated; this will raise an error in the future\n",
      "  stormdte = (np.datetime64(end_time) - np.datetime64('1970-01-01T00:00:00Z')) / np.timedelta64(1, 's')\n",
      "C:\\Users\\matts\\Documents\\Python Scripts\\SPORK\\radar_storm_motion.py:11: DeprecationWarning: parsing timezone aware datetimes is deprecated; this will raise an error in the future\n",
      "  stormdti = (start_time - np.datetime64('1970-01-01T00:00:00Z')) / np.timedelta64(1, 's')\n",
      "C:\\Users\\matts\\Documents\\Python Scripts\\SPORK\\radar_storm_motion.py:9: DeprecationWarning: parsing timezone aware datetimes is deprecated; this will raise an error in the future\n",
      "  stormdte = (np.datetime64(end_time) - np.datetime64('1970-01-01T00:00:00Z')) / np.timedelta64(1, 's')\n",
      "C:\\Users\\matts\\Documents\\Python Scripts\\SPORK\\radar_storm_motion.py:11: DeprecationWarning: parsing timezone aware datetimes is deprecated; this will raise an error in the future\n",
      "  stormdti = (start_time - np.datetime64('1970-01-01T00:00:00Z')) / np.timedelta64(1, 's')\n",
      "C:\\Users\\matts\\Documents\\Python Scripts\\SPORK\\radar_storm_motion.py:9: DeprecationWarning: parsing timezone aware datetimes is deprecated; this will raise an error in the future\n",
      "  stormdte = (np.datetime64(end_time) - np.datetime64('1970-01-01T00:00:00Z')) / np.timedelta64(1, 's')\n",
      "C:\\Users\\matts\\Documents\\Python Scripts\\SPORK\\radar_storm_motion.py:11: DeprecationWarning: parsing timezone aware datetimes is deprecated; this will raise an error in the future\n",
      "  stormdti = (start_time - np.datetime64('1970-01-01T00:00:00Z')) / np.timedelta64(1, 's')\n"
     ]
    },
    {
     "name": "stdout",
     "output_type": "stream",
     "text": [
      "Testfig Saved\n",
      "10.223225361905618 meter / second -1.2552542370730213 meter / second Bunkers motion components\n",
      "[8.418806725727437 5.654882603464783 8.738741650781025] meter / second [7.134805531745251 -0.9689511225054154 10.083632690935362] meter / second Observed motion components\n",
      "Figure Saved\n",
      "in loop\n",
      "21\n",
      "in loop\n",
      "21\n",
      "in loop\n",
      "21\n",
      "in loop\n",
      "21\n",
      "in loop\n",
      "21\n",
      "in loop\n",
      "21\n",
      "in loop\n",
      "21\n",
      "Pre-grid Organization Section\n",
      "KDP Section\n",
      "Grid Section\n"
     ]
    },
    {
     "name": "stderr",
     "output_type": "stream",
     "text": [
      "C:\\Users\\matts\\AppData\\Local\\Continuum\\anaconda3\\envs\\radar\\lib\\site-packages\\pyart\\map\\gates_to_grid.py:177: DeprecationWarning: Barnes weighting function is deprecated. Please use Barnes 2 to be consistent with Pauley and Wu 1990.\n",
      "  \" Pauley and Wu 1990.\", DeprecationWarning)\n"
     ]
    },
    {
     "name": "stdout",
     "output_type": "stream",
     "text": [
      "(-98.23255157470703, 36.9969482421875, <cartopy.crs.PlateCarree object at 0x0000024B8AC5FAC8>)\n"
     ]
    },
    {
     "name": "stderr",
     "output_type": "stream",
     "text": [
      "C:\\Users\\matts\\AppData\\Local\\Continuum\\anaconda3\\envs\\radar\\lib\\site-packages\\cartopy\\mpl\\geoaxes.py:1366: UserWarning: The following kwargs were not used by contour: 'linestyle'\n",
      "  result = matplotlib.axes.Axes.contour(self, *args, **kwargs)\n"
     ]
    },
    {
     "name": "stdout",
     "output_type": "stream",
     "text": [
      "4 storm id\n",
      "-97.1222665377828 storm lon\n",
      "39.05256945088109 storm lat\n",
      "length of obs 11\n",
      "(5.2112397150683565, 283.213569464316)\n",
      "6 storm id\n",
      "-97.34153681696182 storm lon\n",
      "39.206935158933405 storm lat\n",
      "length of obs 6\n",
      "(13.765248648124684, 222.311958992715)\n"
     ]
    },
    {
     "name": "stderr",
     "output_type": "stream",
     "text": [
      "C:\\Users\\matts\\Documents\\Python Scripts\\SPORK\\radar_storm_motion.py:9: DeprecationWarning: parsing timezone aware datetimes is deprecated; this will raise an error in the future\n",
      "  stormdte = (np.datetime64(end_time) - np.datetime64('1970-01-01T00:00:00Z')) / np.timedelta64(1, 's')\n",
      "C:\\Users\\matts\\Documents\\Python Scripts\\SPORK\\radar_storm_motion.py:11: DeprecationWarning: parsing timezone aware datetimes is deprecated; this will raise an error in the future\n",
      "  stormdti = (start_time - np.datetime64('1970-01-01T00:00:00Z')) / np.timedelta64(1, 's')\n",
      "C:\\Users\\matts\\Documents\\Python Scripts\\SPORK\\radar_storm_motion.py:9: DeprecationWarning: parsing timezone aware datetimes is deprecated; this will raise an error in the future\n",
      "  stormdte = (np.datetime64(end_time) - np.datetime64('1970-01-01T00:00:00Z')) / np.timedelta64(1, 's')\n",
      "C:\\Users\\matts\\Documents\\Python Scripts\\SPORK\\radar_storm_motion.py:11: DeprecationWarning: parsing timezone aware datetimes is deprecated; this will raise an error in the future\n",
      "  stormdti = (start_time - np.datetime64('1970-01-01T00:00:00Z')) / np.timedelta64(1, 's')\n",
      "C:\\Users\\matts\\Documents\\Python Scripts\\SPORK\\radar_storm_motion.py:9: DeprecationWarning: parsing timezone aware datetimes is deprecated; this will raise an error in the future\n",
      "  stormdte = (np.datetime64(end_time) - np.datetime64('1970-01-01T00:00:00Z')) / np.timedelta64(1, 's')\n",
      "C:\\Users\\matts\\Documents\\Python Scripts\\SPORK\\radar_storm_motion.py:11: DeprecationWarning: parsing timezone aware datetimes is deprecated; this will raise an error in the future\n",
      "  stormdti = (start_time - np.datetime64('1970-01-01T00:00:00Z')) / np.timedelta64(1, 's')\n",
      "C:\\Users\\matts\\Documents\\Python Scripts\\SPORK\\radar_storm_motion.py:9: DeprecationWarning: parsing timezone aware datetimes is deprecated; this will raise an error in the future\n",
      "  stormdte = (np.datetime64(end_time) - np.datetime64('1970-01-01T00:00:00Z')) / np.timedelta64(1, 's')\n",
      "C:\\Users\\matts\\Documents\\Python Scripts\\SPORK\\radar_storm_motion.py:11: DeprecationWarning: parsing timezone aware datetimes is deprecated; this will raise an error in the future\n",
      "  stormdti = (start_time - np.datetime64('1970-01-01T00:00:00Z')) / np.timedelta64(1, 's')\n"
     ]
    },
    {
     "name": "stdout",
     "output_type": "stream",
     "text": [
      "Testfig Saved\n",
      "10.223225361905618 meter / second -1.2552542370730213 meter / second Bunkers motion components\n",
      "[5.073271074346399 9.266309449916973] meter / second [-1.1911926687592782 10.179272052709754] meter / second Observed motion components\n",
      "Figure Saved\n",
      "in loop\n",
      "21\n",
      "in loop\n",
      "21\n",
      "in loop\n",
      "21\n",
      "in loop\n",
      "21\n",
      "in loop\n",
      "21\n",
      "in loop\n",
      "21\n",
      "in loop\n",
      "21\n",
      "Fin\n",
      "2020-04-11 03:01:47.084624\n"
     ]
    }
   ],
   "source": [
    "#Loop to run the algorithm\n",
    "print(datetime.utcnow())\n",
    "#for i in range(len(durations)):\n",
    "for i in [1]:\n",
    "    #print(multi_case_algorithm_ML1(150,3.25,1.5,45,50,300,25,2,2013,8,10,18,0,1.0,-0.03755074,'KAKQ',4623))\n",
    "    tracks_dataframe = storm_motion_deltas_algorithm(REFlevs[i],REFlev1s[i],big_storms[i],70,storm_to_tracks[i],years[i],months[i],days[i],hours[i],start_mins[i],durations[i],calibrations[i],stations[i], predicted_speed[i], predicted_direction[i], track_dis=10, GR_mins = 1.0)\n",
    "    #tracks_dataframe, zdroutlines, col_areas, col_lon, col_storm_lon = multi_case_algorithm_ML1_devLOCAL(storm_relative_dirs[i],3.25,1.5,REFlevs[i],REFlev1s[i],big_storms[i],70,storm_to_tracks[i],years[i],months[i],days[i],hours[i],start_mins[i],durations[i],calibrations[i],stations[i],h_calstm[i], localfolder[i], track_dis=10)\n",
    "    #Saving the output to a .pkl file\n",
    "    tracks_dataframe.to_pickle('ARCDEV'+str(years[i])+str(months[i])+str(days[i])+str(stations[i])+'.pkl')\n",
    "print(datetime.utcnow())"
   ]
  },
  {
   "cell_type": "code",
   "execution_count": null,
   "metadata": {},
   "outputs": [],
   "source": []
  }
 ],
 "metadata": {
  "kernelspec": {
   "display_name": "Python 3",
   "language": "python",
   "name": "python3"
  },
  "language_info": {
   "codemirror_mode": {
    "name": "ipython",
    "version": 3
   },
   "file_extension": ".py",
   "mimetype": "text/x-python",
   "name": "python",
   "nbconvert_exporter": "python",
   "pygments_lexer": "ipython3",
   "version": "3.7.6"
  }
 },
 "nbformat": 4,
 "nbformat_minor": 2
}
